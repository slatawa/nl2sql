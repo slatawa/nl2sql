{
 "cells": [
  {
   "cell_type": "markdown",
   "metadata": {},
   "source": [
    "## Generating SQL with JOINs"
   ]
  },
  {
   "cell_type": "code",
   "execution_count": 1,
   "metadata": {
    "tags": []
   },
   "outputs": [
    {
     "name": "stdout",
     "output_type": "stream",
     "text": [
      "['/opt/conda/lib/python310.zip', '/home/jupyter/git_repo/nl2sql-generic/nl2sql_src', '../', '/opt/conda/lib/python3.10', '/opt/conda/lib/python3.10/lib-dynload', '', '/opt/conda/lib/python3.10/site-packages']\n"
     ]
    }
   ],
   "source": [
    "%load_ext autoreload\n",
    "%autoreload 2\n",
    "\n",
    "import sys  \n",
    "sys.path.insert(1, '../')\n",
    "sys.path.insert(1, '/home/jupyter/git_repo/nl2sql-generic/nl2sql_src')\n",
    "print(sys.path)"
   ]
  },
  {
   "cell_type": "code",
   "execution_count": 2,
   "metadata": {
    "tags": []
   },
   "outputs": [],
   "source": [
    "import numpy as np\n",
    "import faiss\n",
    "from pandas import DataFrame\n",
    "from datetime import datetime\n",
    "from vertexai.preview.generative_models import GenerativeModel, GenerationResponse, Tool\n",
    "from nl2sql_generic import Nl2sqlBq\n",
    "\n",
    "import json\n",
    "from prompts import * \n",
    "\n",
    "from proto.marshal.collections import repeated\n",
    "from proto.marshal.collections import maps\n"
   ]
  },
  {
   "cell_type": "code",
   "execution_count": 3,
   "metadata": {},
   "outputs": [],
   "source": [
    "# Initializing when metadata cache is already created\n",
    "metadata_cache_file = \"../nl2sql_src/cache_metadata/metadata_cache.json\"\n",
    "metadata_json_path = \"../nl2sql_src/cache_metadata/metadata_cache.json\"\n",
    "\n",
    "nl2sqlbq_client = Nl2sqlBq(project_id=\"sl-test-project-353312\", dataset_id=\"EY\", metadata_json_path = metadata_cache_file)"
   ]
  },
  {
   "cell_type": "code",
   "execution_count": 4,
   "metadata": {},
   "outputs": [
    {
     "name": "stdout",
     "output_type": "stream",
     "text": [
      "class Initiated\n"
     ]
    }
   ],
   "source": [
    "PGPROJ = \"sl-test-project-353312\"\n",
    "PGLOCATION = 'us-central1'\n",
    "PGINSTANCE = \"test-nl2sql\"\n",
    "PGDB = \"test-db\"\n",
    "PGUSER = \"postgres\"\n",
    "PGPWD = \"test-nl2sql\"\n",
    "nl2sqlbq_client.init_pgdb(PGPROJ, PGLOCATION, PGINSTANCE, PGDB, PGUSER, PGPWD)"
   ]
  },
  {
   "cell_type": "code",
   "execution_count": 6,
   "metadata": {},
   "outputs": [],
   "source": [
    "# from vertexai.preview.generative_models import GenerativeModel\n",
    "model = GenerativeModel(\"gemini-1.0-pro\")\n",
    "\n",
    "table_chat = model.start_chat()\n",
    "sql_chat = model.start_chat()"
   ]
  },
  {
   "cell_type": "code",
   "execution_count": 15,
   "metadata": {
    "tags": []
   },
   "outputs": [],
   "source": [
    "def return_table_details(table_name):\n",
    "    f = open(metadata_json_path, encoding=\"utf-8\")\n",
    "    metadata_json = json.loads(f.read())\n",
    "        \n",
    "    table_json = metadata_json[table_name]\n",
    "    columns_json = table_json[\"Columns\"]\n",
    "    columns_info = \"\"\n",
    "    for column_name in columns_json:\n",
    "        column = columns_json[column_name]            \n",
    "        column_info = f\"\"\"{column[\"Name\"]} \\\n",
    "                    ({column[\"Type\"]}) : {column[\"Description\"]}. {column[\"Examples\"]}\\n\"\"\"\n",
    "        columns_info = columns_info + column_info\n",
    "        \n",
    "    prompt = Table_info_template.format(table_name = table_name,\n",
    "                                        table_description = metadata_json[table_name]['Description'],\n",
    "                                        columns_info = columns_info)\n",
    "    return prompt\n"
   ]
  },
  {
   "cell_type": "code",
   "execution_count": 16,
   "metadata": {
    "tags": []
   },
   "outputs": [],
   "source": [
    "table_name_1 = \"calhhs-dashboard-2015-2020-annual-data-file\"\n",
    "table_name_2 = \"medi-cal-and-calfresh-enrollment\"\n",
    "table_1 = return_table_details(table_name_1)\n",
    "table_2 = return_table_details(table_name_2)\n",
    "sample_question = \"Which five counties have the lowest number of CalFresh authorized vendors compared to CalFresh participants?\"\n",
    "sample_sql = \"\"\"SELECT Vendor_Location,(vendor_cnt/total_participants)*100 as vendor_participants_ratio FROM\n",
    "((SELECT TRIM(Vendor_Location) AS Vendor_Location,COALESCE(SUM(SAFE_CAST(_Number_of_Participants_Redeemed_ AS INT64))) as total_participants FROM `cdii-poc.HHS_Program_Counts.calfresh-redemption-by-county-by-participant-category-data-2010-2018`  group by Vendor_Location) as participants\n",
    "JOIN\n",
    "(SELECT TRIM(COUNTY) AS COUNTY,count(VENDOR) as vendor_cnt FROM `cdii-poc.HHS_Program_Counts.women-infants-and-children-wic-authorized-vendors` \n",
    "group by COUNTY having COUNTY is not null) as vendors\n",
    "ON UPPER(participants.Vendor_Location)=UPPER(vendors.COUNTY))\n",
    "WHERE (vendor_cnt/total_participants)*100 is not null\n",
    "order by vendor_participants_ratio asc limit 5;\"\"\"\n",
    "\n",
    "# question = \"Which counties have the highest and lowest ratios of providers to enrolled participants in Medi-cal?\"\n",
    "question = \"Which five counties have the lowest number of WIC authorized vendors compared to WIC participants?\"\n",
    "\n"
   ]
  },
  {
   "cell_type": "code",
   "execution_count": 17,
   "metadata": {
    "tags": []
   },
   "outputs": [],
   "source": [
    "join_prompt = join_prompt_template.format(table_1 = table_1,\n",
    "                                          table_2 = table_2,\n",
    "                                          question = question)\n",
    "join_prompt_one_shot = join_prompt_template_one_shot.format(table_1 = table_1,\n",
    "                                          table_2 = table_2,\n",
    "                                          sample_question = sample_question,\n",
    "                                          sample_sql = sample_sql,\n",
    "                                          question = question)\n"
   ]
  },
  {
   "cell_type": "code",
   "execution_count": 18,
   "metadata": {
    "tags": []
   },
   "outputs": [
    {
     "name": "stdout",
     "output_type": "stream",
     "text": [
      "Zero shot prompting :\n",
      " ```sql\n",
      "SELECT\n",
      "  c.county,\n",
      "  a.number_of_beneficiaries,\n",
      "  (SELECT COUNT(*) FROM WIC_Vendors) AS TotalWICVendors\n",
      "FROM calhhs_dashboard_2015_2020_annual_data_file AS a\n",
      "JOIN medi_cal_and_calfresh_enrollment AS c\n",
      "  ON (\n",
      "    a.program = c.program || \" only\"\n",
      "  )\n",
      "WHERE\n",
      "  a.program = \"WIC\"\n",
      "  AND c.program = \"CalFresh only\"\n",
      "ORDER BY\n",
      "  a.number_of_beneficiaries\n",
      "LIMIT 5;\n",
      "```\n",
      "One-shot prompt: \n",
      " ```sql\n",
      "SELECT\n",
      "  Vendor_Location,\n",
      "  (\n",
      "    vendor_cnt / total_participants\n",
      "  ) * 100 AS vendor_participants_ratio\n",
      "FROM (\n",
      "  (\n",
      "    SELECT\n",
      "      TRIM(Vendor_Location) AS Vendor_Location,\n",
      "      COALESCE(SUM(SAFE_CAST(_Number_of_Participants_Redeemed_ AS INT64))) AS total_participants\n",
      "    FROM `cdii-poc.HHS_Program_Counts.calfresh-redemption-by-county-by-participant-category-data-2010-2018`\n",
      "    GROUP BY\n",
      "      Vendor_Location\n",
      "  ) AS participants\n",
      "  JOIN (\n",
      "    SELECT\n",
      "      TRIM(COUNTY) AS COUNTY,\n",
      "      COUNT(VENDOR) AS vendor_cnt\n",
      "    FROM `cdii-poc.HHS_Program_Counts.women-infants-and-children-wic-authorized-vendors`\n",
      "    GROUP BY\n",
      "      COUNTY\n",
      "    HAVING\n",
      "      COUNTY IS NOT NULL\n",
      "  ) AS vendors\n",
      "    ON UPPER(participants.Vendor_Location) = UPPER(vendors.COUNTY)\n",
      ")\n",
      "WHERE\n",
      "  (vendor_cnt / total_participants) * 100 IS NOT NULL\n",
      "ORDER BY\n",
      "  vendor_participants_ratio ASC\n",
      "LIMIT 5;\n",
      "```\n"
     ]
    }
   ],
   "source": [
    "model = GenerativeModel(\"gemini-1.0-pro\")\n",
    "resp = model.generate_content(join_prompt)\n",
    "print(\"Zero shot prompting :\\n\", resp.text)\n",
    "\n",
    "resp = model.generate_content(join_prompt_one_shot)\n",
    "print(\"One-shot prompt: \\n\", resp.text)\n"
   ]
  },
  {
   "cell_type": "code",
   "execution_count": 19,
   "metadata": {},
   "outputs": [
    {
     "name": "stdout",
     "output_type": "stream",
     "text": [
      "You are an SQL expert at generating SQL queries from a natural language question. Given the input question, create a syntactically correct Biguery query to run.\n",
      "\n",
      "Only use the few relevant columns required based on the question.\n",
      "Pay attention to use only the column names that you can see in the schema description. Be careful to not query for columns that do not exist. Also, pay attention to which column is in which table. Do not use more than 10 columns in the query. Focus on the keywords indicating calculation. \n",
      "Please think step by step and always validate the reponse.\n",
      "Rectify each column names by referencing them from the meta-data.\n",
      "\n",
      "Only use the following tables meta-data: \n",
      "\n",
      "Table 1: \n",
      "\n",
      "Table Name : calhhs-dashboard-2015-2020-annual-data-file\n",
      "\n",
      "Description: This table provides comprehensive annual data from 2015 to 2018 related to various programs and services offerred by the California Health and Human Services agency (CalHHS).  This table contains information related to the services, enrollment data, number of persons enrolled in more than 1 program etc.  This table also contains the data of ethnicity of individuals, their age group and gender.  This table can be used to extract information on co-enrollment, summary of enrollment in a particular program and the like. It serves as a valuable resource for analyzing trends, evaluating program effectiveness, and informing policy decisions related to healthcare, social services, and human well-being in California \n",
      "\n",
      "This table has the following columns : \n",
      "fileyear                     (INTEGER) : The year in which year this information is recorded. \n",
      "Program                     (STRING) : The column has details of the programs enrolled by beneficiaries . It contains values : \"CWS\", \"CalFresh\", \"CalWorks\", \"DDS\", \"Foster Care\", \"FPACT\", \"IHSS\", \"MediCal\", \"WIC\".\n",
      "Level                     (STRING) : This column contains data on the region or agency units . It contains values : \"County\", \"State Assembly\", \"State Senate\", \"U.S. Congress\".\n",
      "Number                     (STRING) : This column contains name of the County to which the subscribers belong. \n",
      "Person                     (STRING) : This column contains the total number of recipients enrolled in the program or service.  This columns is used to calculate the total number of recipients enrolled in a Program(for ex., CalFresh). \n",
      "Cases                     (STRING) : This column refers to the number of cases associated with the program or service. \n",
      "Medi_Cal                     (STRING) : This column refers to the number of beneficiaries enrolled for Medi_Cal progrem. \n",
      "ACA                     (STRING) : This column refers to tbe number of beneficiaries enrolled for ACA program. \n",
      "FPACT                     (STRING) : This column refers to the number of beneficiaries enrolled in the Family Planning, Access, Care, and Treatment (FPACT) program. \n",
      "CalFresh                     (STRING) : This column refers to the number of beneficiaries enrolled for the CalFresh program. \n",
      "CalWorks                     (STRING) : This column refers to the number of beneficiaries enrolled for CalWorks program. \n",
      "IHSS                     (STRING) : This column refers to number of individuals receiving In-Home Supportive Services (IHSS). \n",
      "Child_Welfare                     (STRING) : This contains data on the number of individuals involved in child welfare schemes. \n",
      "Foster_Care                     (STRING) : This column contains data number of beneviciafies on foster care . \n",
      "DDS                     (STRING) : This column contains info on individuals receiving services from the Department of Developmental Services (DDS). \n",
      "WIC                     (STRING) : Number of individuals who are enrolled in Women, Infants, Childern (WIC) program. \n",
      "Black                     (STRING) : This column refers to number of individuals who identify as African American . \n",
      "White                     (STRING) : This column refers to number of individuals who identify as white. \n",
      "Hispanic                     (STRING) : This columns refers to number of individuals who identify as Hispanic. \n",
      "Asian_PI                     (STRING) : This columns refers to number of individuals of Asian or Pacific Islander origin. \n",
      "Native_American                     (STRING) : Number of individuals who identify as native Americans. \n",
      "Other_missing                     (STRING) : Number of individuals who identify as Other or whose data is not available  . \n",
      "Female                     (STRING) : Number of individuals of Female gender. \n",
      "Male                     (STRING) : Number of individuals of Male gender. \n",
      "Unknown_Other_Gender                     (STRING) : Number of individuals who do identify as Male or Female. \n",
      "age1_missing                     (STRING) : Number of individuals whose information on age is missing. \n",
      "_17_and_Under                     (STRING) : Number of individuals who are 17 years and below age. \n",
      "_18_and_Over                     (STRING) : Number of individuals who are 18 years and below age group. \n",
      "age2_missing                     (STRING) : Number of individuals whose information on age is misssing. \n",
      "_18_64                     (STRING) : Number of individuals in the age group 18 to 64. \n",
      "_65_and_Over                     (STRING) : Number of individuals in the age group greater than 64. \n",
      "_18_to_59                     (STRING) : Number of individuals in the age group 18 to 59. \n",
      "_60_and_Over                     (STRING) : Number of individuals in the age group over 60. \n",
      "_1_program                     (STRING) : Number of individuals who are enrolled in only 1 program. \n",
      "_2_programs                     (STRING) : Number of individuals who are enrolled in 2 programs of CalHHS. \n",
      "_3_programs                     (STRING) : number of individuals whoa are enrolled in 3 CalHHS programs. \n",
      "_4_programs                     (STRING) : Number of individuals who are enrolled in 4 CalHHS programs. \n",
      "_5__programs                     (STRING) : Number of individuals who are enrolled in 5 programs. \n",
      "_1_department                     (STRING) : Number of individuals in 1 department. \n",
      "_2_departments                     (STRING) : Number of individuals in 2 departments. \n",
      "_3_departments                     (STRING) : Number of individuals in 3 departments. \n",
      "_4_departments                     (STRING) : Number of individuals in 3 departments. \n",
      "fc_age_missing                     (STRING) : Number of individuals in foster case with missing age data. \n",
      "age_0                     (STRING) : Number of individuals in foster care aged 0. \n",
      "_1_to_2                     (STRING) : Number of individuals in foster care aged 1 to 2. \n",
      "_3_to_5                     (STRING) : Number of individuals in foster care aged 3 to 5. \n",
      "_6_to_10                     (STRING) : Number of individuals in foster care aged 5 to 10. \n",
      "_11_to_15                     (STRING) : Number of individuals in foster care aged 11 to 15. \n",
      "_16_to_17                     (STRING) : Number of individuals in foster care aged 16 to 17. \n",
      "_18_to_20                     (STRING) : Number of individuals in foster care aged 18 to 20. \n",
      "less_than_19                     (STRING) : Number of individuals in WIC aged less than 19. \n",
      "_20_to_24                     (STRING) : Number of individuals in WIC aged 19 and below. \n",
      "_25_to_29                     (STRING) : Number of individuals in WIC aged between 25 to 29. \n",
      "_30_to_34                     (STRING) : Number of individuals in WIC aged between 30 to 34. \n",
      "_35_and_over                     (STRING) : Number of individuals in WIC aged 35 and over. \n",
      "wic_age_0                     (STRING) : Number of individuals in WIC aged below 1. \n",
      "wic_age_1                     (STRING) : Number of individuals in WIC aged 1. \n",
      "wic_age_2                     (STRING) : Number of individuals in WIC aged 2. \n",
      "wic_age_3                     (STRING) : Number of individuals in WIC aged 3. \n",
      "wic_age_4                     (STRING) : Number of individuals in WIC aged 4. \n",
      "wic_age_5_to_19                     (STRING) : Number of individuals in WIC aged 5 to 19. \n",
      "wic_age_20_and_Over                     (STRING) : Number of individuals in WIC aged over 20. \n",
      "\n",
      "\n",
      "\n",
      "\n",
      "Table 2: \n",
      "\n",
      "Table Name : medi-cal-and-calfresh-enrollment\n",
      "\n",
      "Description: This table provides information about the enrollment of individuals in Medi-Cal and CalFresh programs in different counties. This information in this table can be used to calculate the ratio of beneficiaries and service providers for a particular program\n",
      "\n",
      "This table has the following columns : \n",
      "Eligiblity_Date                     (STRING) : . \n",
      "County                     (STRING) : . \n",
      "Program                     (STRING) : . It contains values : \"CalFresh Only\", \"CalFresh only\", \"CalFresh and Medi-Cal\".\n",
      "Number_of_Beneficiaries                     (INTEGER) : . \n",
      "ANNOTATION_CODE                     (INTEGER) : . \n",
      "COUNT_ANNOTATION_DESC                     (STRING) : . It contains values : \"Cell Suppressed For Small Numbers\".\n",
      "\n",
      "\n",
      "\n",
      "\n",
      "\n",
      "Since there are two tables involved, the second table contains details that can be used along with the details in first table\n",
      "The two tables should be combined using the JOIN statements of SQL\n",
      "\n",
      "For this question what would be the most accurate SQL query?\n",
      "Question: Which five counties have the lowest number of WIC authorized vendors compared to WIC participants?\n",
      "\n"
     ]
    }
   ],
   "source": [
    "print(join_prompt)"
   ]
  },
  {
   "cell_type": "code",
   "execution_count": 20,
   "metadata": {},
   "outputs": [
    {
     "data": {
      "text/plain": [
       "['wic-redemptions-by-vendor-county-with-family-counts-2021-2022-part-c']"
      ]
     },
     "execution_count": 20,
     "metadata": {},
     "output_type": "execute_result"
    }
   ],
   "source": [
    "table_name = nl2sqlbq_client.table_filter(question)\n",
    "table_name"
   ]
  },
  {
   "cell_type": "code",
   "execution_count": 21,
   "metadata": {
    "tags": []
   },
   "outputs": [
    {
     "name": "stdout",
     "output_type": "stream",
     "text": [
      "Which five counties have the lowest number of WIC authorized vendors compared to WIC participants?\n"
     ]
    }
   ],
   "source": [
    "print(question)"
   ]
  },
  {
   "cell_type": "code",
   "execution_count": 22,
   "metadata": {
    "tags": []
   },
   "outputs": [],
   "source": [
    "multi_table_prompt = \"\"\"\n",
    "Tables context:\n",
    "{table_info}\n",
    "\n",
    "Example Question, SQL and tables containing the required info are given below\n",
    "You are required to identify more than 1 table that probably contains the information requested in the question given below\n",
    "Return the list of tables that may contain the information\n",
    "\n",
    "Question : {example_question} :\n",
    "SQL : {example_SQL}\n",
    "Tables: {table_name_1} and {table_name_2}\n",
    "\n",
    "Question: {question}\n",
    "Tables:\n",
    "\"\"\"\n",
    "\n",
    "tab_prompt = nl2sqlbq_client.table_filter_promptonly(question)\n",
    "# print(tab_prompt)\n",
    "\n",
    "multi_prompt=multi_table_prompt.format(table_info=tab_prompt, \n",
    "                                       example_question=sample_question,\n",
    "                                       example_SQL=sample_sql,\n",
    "                                       table_name_1=table_name_1,\n",
    "                                       table_name_2=table_name_2,\n",
    "                                       question=question)\n",
    "# print(multi_prompt)"
   ]
  },
  {
   "cell_type": "code",
   "execution_count": 23,
   "metadata": {
    "tags": []
   },
   "outputs": [],
   "source": [
    "# resp = model.generate_content(multi_prompt)"
   ]
  },
  {
   "cell_type": "code",
   "execution_count": 24,
   "metadata": {
    "tags": []
   },
   "outputs": [],
   "source": [
    "# print(resp.text)"
   ]
  },
  {
   "cell_type": "code",
   "execution_count": 25,
   "metadata": {
    "tags": []
   },
   "outputs": [],
   "source": [
    "model = GenerativeModel(\"gemini-1.0-pro\")\n",
    "multi_chat = model.start_chat()\n",
    "\n",
    "# tab_prompt = tab_prompt + \"\\nContext : \" + question\n",
    "\n",
    "responses = multi_chat.send_message(multi_prompt, tools=[sql_tools])"
   ]
  },
  {
   "cell_type": "code",
   "execution_count": 26,
   "metadata": {
    "tags": []
   },
   "outputs": [
    {
     "data": {
      "text/plain": [
       "'2010-2018-part-a-wic-redemptions-by-vendor-county-with-family-counts and wic-redemptions-by-vendor-county-with-family-counts-2021-2022-part-c'"
      ]
     },
     "execution_count": 26,
     "metadata": {},
     "output_type": "execute_result"
    }
   ],
   "source": [
    "responses.candidates[0].content.parts[0].text"
   ]
  },
  {
   "cell_type": "code",
   "execution_count": 27,
   "metadata": {
    "tags": []
   },
   "outputs": [],
   "source": [
    "follow_up_prompt = \"\"\"Review the question given in above context along with the table and column description and determine whether one table contains all the required information or you need to get data from another table\n",
    "If two tables's information are required, then identify those tables from the tables info\n",
    "What are the two tables that should be joined in the SQL query\n",
    "Only mention the table name from the tables context.\n",
    "\"\"\"\n",
    "resp = multi_chat.send_message(follow_up_prompt)"
   ]
  },
  {
   "cell_type": "code",
   "execution_count": 28,
   "metadata": {
    "tags": []
   },
   "outputs": [],
   "source": [
    "res = resp.candidates[0].content.parts[0].text.split('\\n*')[1:]"
   ]
  },
  {
   "cell_type": "code",
   "execution_count": 29,
   "metadata": {
    "tags": []
   },
   "outputs": [
    {
     "data": {
      "text/plain": [
       "[]"
      ]
     },
     "execution_count": 29,
     "metadata": {},
     "output_type": "execute_result"
    }
   ],
   "source": [
    "res"
   ]
  },
  {
   "cell_type": "code",
   "execution_count": 30,
   "metadata": {},
   "outputs": [],
   "source": [
    "res = [r.strip() for r in res]"
   ]
  },
  {
   "cell_type": "code",
   "execution_count": 31,
   "metadata": {
    "tags": []
   },
   "outputs": [
    {
     "data": {
      "text/plain": [
       "[]"
      ]
     },
     "execution_count": 31,
     "metadata": {},
     "output_type": "execute_result"
    }
   ],
   "source": [
    "res"
   ]
  },
  {
   "cell_type": "code",
   "execution_count": 32,
   "metadata": {
    "tags": []
   },
   "outputs": [
    {
     "ename": "IndexError",
     "evalue": "list index out of range",
     "output_type": "error",
     "traceback": [
      "\u001b[0;31m---------------------------------------------------------------------------\u001b[0m",
      "\u001b[0;31mIndexError\u001b[0m                                Traceback (most recent call last)",
      "Cell \u001b[0;32mIn[32], line 1\u001b[0m\n\u001b[0;32m----> 1\u001b[0m table_1 \u001b[38;5;241m=\u001b[39m return_table_details(\u001b[43mres\u001b[49m\u001b[43m[\u001b[49m\u001b[38;5;241;43m0\u001b[39;49m\u001b[43m]\u001b[49m)\n\u001b[1;32m      2\u001b[0m table_2 \u001b[38;5;241m=\u001b[39m return_table_details(res[\u001b[38;5;241m1\u001b[39m])\n",
      "\u001b[0;31mIndexError\u001b[0m: list index out of range"
     ]
    }
   ],
   "source": [
    "table_1 = return_table_details(res[0])\n",
    "table_2 = return_table_details(res[1])\n"
   ]
  },
  {
   "cell_type": "code",
   "execution_count": null,
   "metadata": {
    "tags": []
   },
   "outputs": [],
   "source": [
    "join_prompt = join_prompt_template.format(table_1 = table_1,\n",
    "                                          table_2 = table_2,\n",
    "                                          question = question)\n",
    "join_prompt_one_shot = join_prompt_template_one_shot.format(table_1 = table_1,\n",
    "                                          table_2 = table_2,\n",
    "                                          sample_question = sample_question,\n",
    "                                          sample_sql = sample_sql,\n",
    "                                          question = question)\n"
   ]
  },
  {
   "cell_type": "code",
   "execution_count": null,
   "metadata": {
    "tags": []
   },
   "outputs": [],
   "source": [
    "model = GenerativeModel(\"gemini-1.0-pro\")\n",
    "resp = model.generate_content(join_prompt)\n",
    "print(\"Zero shot prompting :\\n\", resp.text)\n",
    "\n",
    "resp = model.generate_content(join_prompt_one_shot)\n",
    "print(\"One-shot prompt: \\n\", resp.text)\n"
   ]
  }
 ],
 "metadata": {
  "environment": {
   "kernel": "python3",
   "name": "common-cu113.m118",
   "type": "gcloud",
   "uri": "us-docker.pkg.dev/deeplearning-platform-release/gcr.io/base-cu113:m118"
  },
  "kernelspec": {
   "display_name": "Python 3",
   "language": "python",
   "name": "python3"
  },
  "language_info": {
   "codemirror_mode": {
    "name": "ipython",
    "version": 3
   },
   "file_extension": ".py",
   "mimetype": "text/x-python",
   "name": "python",
   "nbconvert_exporter": "python",
   "pygments_lexer": "ipython3",
   "version": "3.10.13"
  }
 },
 "nbformat": 4,
 "nbformat_minor": 4
}
