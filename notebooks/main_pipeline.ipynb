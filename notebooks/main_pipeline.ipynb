{
 "cells": [
  {
   "cell_type": "markdown",
   "metadata": {},
   "source": [
    "# Install & import libraries"
   ]
  },
  {
   "cell_type": "code",
   "execution_count": null,
   "metadata": {},
   "outputs": [],
   "source": [
    "# !pip3 install --user -r base_requirements.txt"
   ]
  },
  {
   "cell_type": "code",
   "execution_count": null,
   "metadata": {
    "id": "1dZI37Of3FBj",
    "tags": []
   },
   "outputs": [],
   "source": [
    "import re\n",
    "import langchain\n",
    "import pandas as pd\n",
    "from tqdm import tqdm\n",
    "\n",
    "from nl2sql import AskBQ, show"
   ]
  },
  {
   "cell_type": "markdown",
   "metadata": {},
   "source": [
    "# Table Filtering Module"
   ]
  },
  {
   "cell_type": "code",
   "execution_count": null,
   "metadata": {
    "tags": []
   },
   "outputs": [],
   "source": [
    "from nl2sql import table_filter\n",
    "from table_filter_test import run_tests_generate_csv"
   ]
  },
  {
   "cell_type": "markdown",
   "metadata": {},
   "source": [
    "### Single run"
   ]
  },
  {
   "cell_type": "code",
   "execution_count": null,
   "metadata": {
    "tags": []
   },
   "outputs": [],
   "source": [
    "from nl2sql import table_filter\n",
    "\n",
    "tables_list = table_filter(\"What were my sales for yesterday?\")\n",
    "tables_list"
   ]
  },
  {
   "cell_type": "code",
   "execution_count": null,
   "metadata": {
    "tags": []
   },
   "outputs": [],
   "source": []
  },
  {
   "cell_type": "code",
   "execution_count": null,
   "metadata": {
    "tags": []
   },
   "outputs": [],
   "source": [
    "# run_tests_generate_csv()"
   ]
  },
  {
   "cell_type": "markdown",
   "metadata": {},
   "source": [
    "# Model Configuration"
   ]
  },
  {
   "cell_type": "code",
   "execution_count": null,
   "metadata": {
    "colab": {
     "base_uri": "https://localhost:8080/"
    },
    "id": "sz2Iry0c3Gtb",
    "outputId": "6ee3a4ae-d403-4c23-8d67-67579e9078f4",
    "tags": []
   },
   "outputs": [],
   "source": [
    "ask = AskBQ(\n",
    "    location = \"us-central1\",\n",
    "    project_id = \"poc-project-guleria\",\n",
    "    #dataset_id = \"genai_poc\",\n",
    "    dataset_id = \"final_genai_poc\",\n",
    "    table_names = [\"authorizations_search\"],\n",
    "    enum_option_limit = 1000,\n",
    "    result_row_limit = 1000,\n",
    "    log_bucket=\"fiserve_logs\",\n",
    "    data_dict_loc= 'data_dictionary.json',\n",
    "    postprocessors=['case_handler_transform'],\n",
    "    executor_chain = ['prompt_strategy', 'queryfix_strategy', 'agent_strategy'],\n",
    ")"
   ]
  },
  {
   "cell_type": "markdown",
   "metadata": {},
   "source": [
    "# Single Query Run"
   ]
  },
  {
   "cell_type": "code",
   "execution_count": null,
   "metadata": {
    "colab": {
     "base_uri": "https://localhost:8080/"
    },
    "id": "QpguzvaR4AJB",
    "outputId": "95f2da73-6c5c-48ed-a14c-206e8bad4d39",
    "tags": []
   },
   "outputs": [],
   "source": [
    "%%time\n",
    "response = ask(\n",
    "    \"What were my sales for yesterday?\"\n",
    ")"
   ]
  },
  {
   "cell_type": "code",
   "execution_count": null,
   "metadata": {
    "colab": {
     "base_uri": "https://localhost:8080/"
    },
    "id": "YnFyfZEPlzpD",
    "outputId": "44f42ff0-d83f-4832-9083-dcfa02aaddee",
    "tags": []
   },
   "outputs": [],
   "source": [
    "print(response.latest_sql)"
   ]
  },
  {
   "cell_type": "code",
   "execution_count": null,
   "metadata": {
    "id": "vIxzVBSEpgQc",
    "tags": []
   },
   "outputs": [],
   "source": []
  },
  {
   "cell_type": "markdown",
   "metadata": {
    "id": "5XA53E6Fi8LT"
   },
   "source": [
    "# Batch Queries Run"
   ]
  },
  {
   "cell_type": "code",
   "execution_count": null,
   "metadata": {
    "id": "K_kblxtQi9hz",
    "tags": []
   },
   "outputs": [],
   "source": [
    "## authorisations_search\n",
    "questions = [\n",
    "('What were my sales for yesterday?',\n",
    "\"\"\"\n",
    "SELECT\n",
    "  SUM(a_amount) AS total_amount,\n",
    "  COUNT(a_authCode) AS auth_code_count\n",
    "FROM\n",
    "  authorizations_search\n",
    "WHERE\n",
    "  DATE(a_transactionDateTime) = CURRENT_DATE() - INTERVAL 1 DAY;\n",
    "\"\"\"\n",
    "),\n",
    "('What is my approval rate for last 2 weeks?',\n",
    "\"\"\"\n",
    "SELECT\n",
    "  COUNTIF(a_approvalCode = 'Approved') / NULLIF(COUNT(a_authCode),0) as total_txn\n",
    "FROM\n",
    "  authorizations_search\n",
    "WHERE\n",
    "  a_transactionDateTime BETWEEN TIMESTAMP_SUB(CURRENT_DATE(), INTERVAL 14 DAY) AND CURRENT_DATE();\n",
    "\"\"\"\n",
    "),\n",
    "('How many transactions went to Visa and Mastercard for the last month?',\n",
    "\"\"\"\n",
    "SELECT\n",
    "  COUNT(a_authCode) as approved_txn\n",
    "FROM\n",
    "  authorizations_search\n",
    "WHERE\n",
    "  a_transactionDateTime BETWEEN TIMESTAMP_SUB(CURRENT_DATE(), INTERVAL 30 DAY) AND CURRENT_DATE()\n",
    "AND a_network IN ('Visa', 'Mastercard');\n",
    "\"\"\"\n",
    "),\n",
    "('List all online declined discover transactions for today.',\n",
    "\"\"\"\n",
    "SELECT\n",
    "  COUNT(a_authCode) as approved_txn\n",
    "FROM\n",
    "  authorizations_search\n",
    "WHERE\n",
    "  a_transactionDateTime = CURRENT_DATE()  AND a_network = 'Discover' and a_approvalCode = 'Declined' and a_paymentMethod = 'Mobile & Ecommerce';\n",
    "\"\"\"\n",
    "),\n",
    "    ('What settled past week?',\n",
    "\"\"\"\n",
    "SELECT\n",
    "  COUNT(1) AS total_count,\n",
    "  SUM(st_processedTransactionAmount) AS total_amount\n",
    "FROM\n",
    "  settlement_search\n",
    "WHERE\n",
    "  DATE(st_batchDate) >= DATE_SUB(CURRENT_DATE(), INTERVAL 7 DAY)\n",
    "  AND DATE(st_batchDate) < CURRENT_DATE();\n",
    "\"\"\"\n",
    "),\n",
    "('What was the total sale amount for transactions settled via debit networks?',\n",
    "\"\"\"\n",
    "SELECT\n",
    "  COUNT(1) AS total_count,\n",
    "  SUM(st_processedTransactionAmount) AS total_amount\n",
    "FROM\n",
    "  settlement_search\n",
    "WHERE\n",
    "  DATE(st_batchDate) = DATE_SUB(CURRENT_DATE(), INTERVAL 1 DAY)\n",
    "  AND st_productCode = 'Debit Card';\n",
    "\"\"\"\n",
    "),\n",
    "('Show me settlement summary by plan code for last week for swiped transactions?',\n",
    "\"\"\"\n",
    "SELECT\n",
    "  st_planCode,\n",
    "  COUNT(1) AS total_count,\n",
    "  SUM(st_processedTransactionAmount) AS total_amount\n",
    "FROM\n",
    "  settlement_search\n",
    "WHERE\n",
    "  DATE(st_batchDate) >= DATE_SUB(CURRENT_DATE(), INTERVAL 7 DAY)\n",
    "  AND DATE(st_batchDate) < CURRENT_DATE()\n",
    "GROUP BY\n",
    "  st_planCode;\n",
    "\"\"\"\n",
    "),\n",
    "('What are my total deposits broken down by deposit type last week?',\n",
    "\"\"\"\n",
    "SELECT\n",
    "  fd_depositTypeCd,\n",
    "  SUM(fd_netSalesAmt) AS TotalProcessedNetSales\n",
    "FROM\n",
    "  funding_search\n",
    "WHERE\n",
    "  DATE(fd_fundedDate) >= DATE_SUB(CURRENT_DATE(), INTERVAL 7 DAY)\n",
    "  AND fd_majorCategory = 'Deposit'\n",
    "GROUP BY\n",
    "  fd_depositTypeCd;\n",
    "\"\"\"\n",
    "),\n",
    "('Which day within the last month was my highest funding?',\n",
    "\"\"\"\n",
    "SELECT\n",
    "  fd_fundedDate\n",
    "FROM\n",
    "  funding_search\n",
    "WHERE\n",
    "  fd_fundedDate >= DATE_SUB(CURRENT_DATE, INTERVAL '1' MONTH)\n",
    "GROUP BY\n",
    "  fd_fundedDate\n",
    "ORDER BY\n",
    "  SUM(fd_netSalesAmt) DESC\n",
    "LIMIT 1;\n",
    "\"\"\"\n",
    "),\n",
    "('What is the Fees to Deposit ratio for yesterdays bank deposit?',\n",
    "\"\"\"\n",
    "SELECT\n",
    "  (SUM(CASE WHEN fd_majorCategory = 'Deposit' THEN fd_netSalesAmt ELSE 0 END) / SUM(fd_netSalesAmt)) * 100 AS Deposit_Percentage,\n",
    "  (SUM(CASE WHEN fd_majorCategory = 'Fee' THEN fd_netSalesAmt ELSE 0 END) / SUM(fd_netSalesAmt)) * 100 AS Fee_Percentage\n",
    "FROM\n",
    "  funding_search\n",
    "WHERE\n",
    "  DATE(fd_fundedDate) = DATE_SUB(CURRENT_DATE(), INTERVAL 1 DAY)\n",
    "  AND fd_majorCategory IN ('Deposit', 'Fee');\n",
    "\"\"\"\n",
    "),\n",
    "('What is the Win to Loss ratio on disputes last month?',\n",
    "\"\"\"\n",
    "SELECT\n",
    "  (SUM(CASE WHEN `Major Category` = 'Deposit' THEN `Processed Net Sales` ELSE 0 END) / SUM(`Processed Net Sales`)) * 100 AS `Deposit Percentage`,\n",
    "  (SUM(CASE WHEN `Major Category` = 'Fee' THEN `Processed Net Sales` ELSE 0 END) / SUM(`Processed Net Sales`)) * 100 AS `Fee Percentage`\n",
    "FROM\n",
    "  chargebacks_search\n",
    "WHERE\n",
    "  `funded_date` = CURRENT_DATE - INTERVAL 1 DAY\n",
    "  AND `Major Category` IN ('Deposit', 'Fee');\n",
    "\"\"\"\n",
    "),\n",
    "('How many disputes over $100 do I have?',\n",
    "\"\"\"\n",
    "SELECT COUNT(1) AS count_of_records\n",
    "FROM chargebacks_search\n",
    "WHERE cb_statusDate >= DATE_SUB(CURRENT_DATE, INTERVAL '1' MONTH)\n",
    "  AND cb_chargebackAmount > 100;\n",
    "\"\"\"\n",
    "),\n",
    "('What are my top 5 stores from where I am getting the most disputes?',\n",
    "\"\"\"\n",
    "SELECT\n",
    "  cb_siteID,\n",
    "  COUNT(1) AS count_of_records\n",
    "FROM\n",
    "  chargebacks_search\n",
    "WHERE cb_statusDate >= DATE_SUB(CURRENT_DATE, INTERVAL '1' MONTH)\n",
    "  AND EXTRACT(YEAR FROM cb_statusDate) = EXTRACT(YEAR FROM CURRENT_DATE())\n",
    "GROUP BY\n",
    "  cb_siteID\n",
    "ORDER BY\n",
    "  count_of_records DESC\n",
    "LIMIT 5;\n",
    "\"\"\"\n",
    "),\n",
    "]"
   ]
  },
  {
   "cell_type": "code",
   "execution_count": null,
   "metadata": {},
   "outputs": [],
   "source": []
  },
  {
   "cell_type": "code",
   "execution_count": null,
   "metadata": {
    "id": "JBsqXvRrjLVX",
    "tags": []
   },
   "outputs": [],
   "source": [
    "llm = langchain.llms.VertexAI(temperature=0, model_name=\"text-bison@latest\", max_output_tokens=2048)"
   ]
  },
  {
   "cell_type": "code",
   "execution_count": null,
   "metadata": {
    "id": "n40wMUVCjNkP",
    "tags": []
   },
   "outputs": [],
   "source": [
    "def auto_verify(nl_description, ground_truth, llm_amswer):\n",
    "    prompt = f'''You are an expert at validating SQL queries. Given the Natrual language description\n",
    "      and the SQL query corresponding to that description, please check if the students answer is correct.\n",
    "      There can be different ways to achieve the same result by forming the query differently.\n",
    "      If the students SQL query matches the ground truth and fits the NL description correctly, then return yes\n",
    "      else return no.\n",
    "      Natural language description: {nl_description}\n",
    "      Ground truth: {ground_truth}\n",
    "      students answer: {llm_amswer}\n",
    "    '''\n",
    "    return llm(prompt)\n"
   ]
  },
  {
   "cell_type": "code",
   "execution_count": null,
   "metadata": {
    "id": "gJ2B-UlUjQBS",
    "tags": []
   },
   "outputs": [],
   "source": [
    "def run_batch(questions):\n",
    "    out = []\n",
    "    for q, ground_truth in tqdm(questions):\n",
    "        print(q)\n",
    "        table_name = table_filter(q)\n",
    "        print(\"Table name is: \", table_name)\n",
    "        ask = AskBQ(\n",
    "                    location = \"us-central1\",\n",
    "                    project_id = \"poc-project-guleria\",\n",
    "                    #dataset_id = \"genai_poc\",\n",
    "                    dataset_id = \"final_genai_poc\",\n",
    "                    table_names = table_name,\n",
    "                    enum_option_limit = 1000,\n",
    "                    result_row_limit = 1000,\n",
    "                    log_bucket=\"fiserve_logs\",\n",
    "                    data_dict_loc= 'data_dictionary.json',\n",
    "                    postprocessors=['case_handler_transform'],\n",
    "                    executor_chain = ['prompt_strategy', 'queryfix_strategy', 'agent_strategy'],\n",
    "                    )\n",
    "        response = ask(q).latest_sql\n",
    "        rating = auto_verify(q, ground_truth, response)\n",
    "        out.append((q, ground_truth, response, rating))\n",
    "\n",
    "    df = pd.DataFrame(out, columns=['question', 'ground_truth', 'llm_response', 'llm_rating'])\n",
    "\n",
    "    return df"
   ]
  },
  {
   "cell_type": "code",
   "execution_count": null,
   "metadata": {
    "colab": {
     "base_uri": "https://localhost:8080/",
     "height": 1000
    },
    "id": "9XcasMrRjSTj",
    "outputId": "1a76b09d-e78d-42a3-9a32-d0e778c885e2",
    "tags": []
   },
   "outputs": [],
   "source": [
    "result_df = run_batch(questions)\n"
   ]
  },
  {
   "cell_type": "code",
   "execution_count": null,
   "metadata": {
    "tags": []
   },
   "outputs": [],
   "source": [
    "result_df"
   ]
  },
  {
   "cell_type": "code",
   "execution_count": null,
   "metadata": {
    "colab": {
     "base_uri": "https://localhost:8080/"
    },
    "id": "ZinPSEOojtau",
    "outputId": "6a170aee-b398-431d-e967-4aa2f9d61783",
    "tags": []
   },
   "outputs": [],
   "source": [
    "id_ = 12\n",
    "print(result_df.iloc[id_].question)\n",
    "print(result_df.iloc[id_].ground_truth)\n",
    "print('-'*100)\n",
    "print(result_df.iloc[id_].llm_response)"
   ]
  },
  {
   "cell_type": "code",
   "execution_count": null,
   "metadata": {
    "tags": []
   },
   "outputs": [],
   "source": [
    "result_df.to_csv('results1.csv', index=False)\n"
   ]
  },
  {
   "cell_type": "markdown",
   "metadata": {},
   "source": [
    "# Validation"
   ]
  },
  {
   "cell_type": "code",
   "execution_count": null,
   "metadata": {
    "tags": []
   },
   "outputs": [],
   "source": [
    "# !pip install google-cloud-bigquery\n",
    "\n",
    "import pandas as pd\n",
    "from google.cloud import bigquery\n",
    "\n",
    "PROJECT_ID = 'poc-project-guleria'\n",
    "dataset_name = \"final_genai_poc\"\n",
    "\n",
    "# Initialize a BigQuery client\n",
    "client = bigquery.Client(project = PROJECT_ID)"
   ]
  },
  {
   "cell_type": "markdown",
   "metadata": {},
   "source": [
    "### Preprocessing [Add dataset name in queries]"
   ]
  },
  {
   "cell_type": "code",
   "execution_count": null,
   "metadata": {
    "tags": []
   },
   "outputs": [],
   "source": [
    "def add_dataset_to_query(dataset_name, original_query):\n",
    "    # Use a regular expression to find the table name after \"FROM\"\n",
    "    match = re.search(r'FROM\\s+([^\\s]+)', original_query)\n",
    "    \n",
    "    if match:\n",
    "        # Extract the table name from the match\n",
    "        table_name = match.group(1)\n",
    "\n",
    "        # Modify the query to include dataset name\n",
    "        modified_query = re.sub(r'FROM\\s+([^\\s]+)', f'FROM {dataset_name}.{table_name}', original_query)\n",
    "\n",
    "        return modified_query\n",
    "    else:\n",
    "        raise ValueError(\"Invalid query format\")"
   ]
  },
  {
   "cell_type": "code",
   "execution_count": null,
   "metadata": {
    "tags": []
   },
   "outputs": [],
   "source": [
    "#Creating separate lists for ground truth and llm response\n",
    "ground_truth_queries,llm_response_queries  = result_df[\"ground_truth\"],result_df[\"llm_response\"]\n",
    "ground_truth_queries = ground_truth_queries.to_list()\n",
    "llm_response_queries = llm_response_queries.to_list()"
   ]
  },
  {
   "cell_type": "code",
   "execution_count": null,
   "metadata": {
    "tags": []
   },
   "outputs": [],
   "source": [
    "# Apply the function to each query in the list\n",
    "llm_response_new_queries = [add_dataset_to_query(dataset_name, query) for query in llm_response_queries]\n",
    "ground_truth_new_queries = [add_dataset_to_query(dataset_name, query) for query in ground_truth_queries]"
   ]
  },
  {
   "cell_type": "markdown",
   "metadata": {},
   "source": [
    "### Execute Query on BigQuery"
   ]
  },
  {
   "cell_type": "code",
   "execution_count": null,
   "metadata": {
    "tags": []
   },
   "outputs": [],
   "source": [
    "def execute_query(query):\n",
    "    # Run the SQL query\n",
    "    query_job = client.query(query)\n",
    "\n",
    "    #print(\"Query:\", query)\n",
    "    # Wait for the job to complete\n",
    "    query_job.result()\n",
    "\n",
    "    # Fetch the result if needed\n",
    "    results = query_job.to_dataframe()\n",
    "\n",
    "    return results"
   ]
  },
  {
   "cell_type": "code",
   "execution_count": null,
   "metadata": {
    "tags": []
   },
   "outputs": [],
   "source": [
    "# Compare only shape\n",
    "def compare_shape(ground_truth_result, llm_response_result):\n",
    "    \n",
    "    if ground_truth_result.shape == llm_response_result.shape:\n",
    "        return True\n",
    "    return False"
   ]
  },
  {
   "cell_type": "code",
   "execution_count": null,
   "metadata": {
    "tags": []
   },
   "outputs": [],
   "source": [
    "# Compare shape and content\n",
    "def compare_content(ground_truth_result, llm_response_result):\n",
    "\n",
    "    if ground_truth_result.equals(llm_response_result):\n",
    "        return True\n",
    "    return False"
   ]
  },
  {
   "cell_type": "code",
   "execution_count": null,
   "metadata": {
    "tags": []
   },
   "outputs": [],
   "source": [
    "compare_shape_result=[]\n",
    "compare_content_result=[]\n",
    "\n",
    "# Iterate over the queries with an index\n",
    "for index,(ground_truth_query, llm_response_query) in enumerate(zip(ground_truth_new_queries, llm_response_new_queries)):\n",
    "  # Execute the SQL query\n",
    "  print(\"Ground Truth query: \", ground_truth_query)\n",
    "  print(\"LLM Response query: \", llm_response_query)\n",
    "  ground_truth_result = execute_query(ground_truth_query)\n",
    "  llm_response_result = execute_query(llm_response_query)\n",
    "\n",
    "  # Print or process the results along with the index\n",
    "  print(f\"Question: {index+1}\")\n",
    "  print(\"Ground Truth: \", ground_truth_result)\n",
    "  print(\"LLM Response: \", llm_response_result)\n",
    "\n",
    "  compare_shape_result.append(compare_shape(ground_truth_result, llm_response_result))\n",
    "  compare_content_result.append(compare_content(ground_truth_result, llm_response_result))\n",
    "\n",
    "\n",
    "#print(compare_shape_result)\n",
    "compare_shape_df = pd.DataFrame(compare_shape_result, columns=['shape_compare_rating'])\n",
    "compare_content_df = pd.DataFrame(compare_content_result, columns=['content_compare_rating'])"
   ]
  },
  {
   "cell_type": "code",
   "execution_count": null,
   "metadata": {
    "tags": []
   },
   "outputs": [],
   "source": [
    "compare_results = pd.concat([result_df[[\"question\", \"ground_truth\", \"llm_response\", \"llm_rating\"]], compare_shape_df, compare_content_df], axis=1)\n",
    "compare_results"
   ]
  },
  {
   "cell_type": "code",
   "execution_count": null,
   "metadata": {
    "tags": []
   },
   "outputs": [],
   "source": [
    "compare_results.to_csv('query_results.csv', index=False)"
   ]
  },
  {
   "cell_type": "code",
   "execution_count": null,
   "metadata": {},
   "outputs": [],
   "source": [
    "import gradio as gr\n",
    "\n",
    "def gen_sql(input_text):\n",
    "    # Process the SQL query or text input here\n",
    "    return f\"Processed: {input_text}\"\n",
    "\n",
    "# Predefined values for the dropdown\n",
    "predefined_values = [\n",
    "    \"What were my sales for yesterday?\",\n",
    "    \"What is my approval rate for last 2 weeks?\",\n",
    "    \"How many transactions went to Visa and Mastercard for the last month?\"\n",
    "]\n",
    "\n",
    "# Dropdown for predefined values\n",
    "dropdown = gr.Interface(\n",
    "    fn=None,  # Placeholder function as the actual function will be provided later\n",
    "    inputs=gr.inputs.Dropdown(\n",
    "        label=\"Select Text\",\n",
    "        choices=predefined_values,\n",
    "        default=None,\n",
    "    ),\n",
    "    layout=\"horizontal\",  # Arrange inputs horizontally\n",
    "    label=None  # No label for the input block\n",
    ")\n",
    "\n",
    "# Textbox for custom input\n",
    "custom_input = gr.Interface(\n",
    "    fn=None,  # Placeholder function as the actual function will be provided later\n",
    "    inputs=gr.inputs.Textbox(label=\"Or Enter Custom Text\"),\n",
    "    layout=\"horizontal\",  # Arrange inputs horizontally\n",
    "    label=None  # No label for the input block\n",
    ")\n",
    "\n",
    "# Combine dropdown and custom input blocks vertically\n",
    "input_block = gr.Interface(\n",
    "    inputs=[dropdown, custom_input],\n",
    "    layout=\"vertical\",  # Arrange inputs vertically\n",
    "    label=\"Select or Add Text\"\n",
    ")\n",
    "\n",
    "# Output block: Textbox for displaying the output\n",
    "output_block = gr.Interface(\n",
    "    fn=gen_sql,\n",
    "    inputs=gr.inputs.Textbox(label=\"Input\"),  # Placeholder input for the output block\n",
    "    outputs=gr.outputs.Textbox(label=\"Output Text\"),\n",
    "    layout=\"unaligned\",  # Output layout is unaligned\n",
    "    label=None  # No label for the output block\n",
    ")\n",
    "\n",
    "# Assemble input and output blocks into the main interface\n",
    "interface = gr.Interface(\n",
    "    inputs=input_block,\n",
    "    outputs=output_block,\n",
    ")\n",
    "\n",
    "if __name__ == \"__main__\":\n",
    "    interface.launch(share=True, show=True)\n"
   ]
  },
  {
   "cell_type": "code",
   "execution_count": null,
   "metadata": {
    "tags": []
   },
   "outputs": [],
   "source": [
    "import gradio as gr\n",
    "from custom_prompt_chain import *"
   ]
  },
  {
   "cell_type": "code",
   "execution_count": null,
   "metadata": {
    "tags": []
   },
   "outputs": [],
   "source": [
    "import gradio as gr\n",
    "from custom_prompt_chain import *\n",
    "\n",
    "\n",
    "\n",
    "with gr.Blocks(theme='JohnSmith9982/small_and_pretty') as demo:\n",
    "    gr.Markdown(\"Select a question or type your own and then click **Run**\")\n",
    "    with gr.Row():\n",
    "        question = gr.Dropdown(choices=[\"What were my sales for yesterday?\", \n",
    "                                   \"What is my approval rate for last 2 weeks?\", \n",
    "                                   \"How many disputes over $100 do I have?\"], \n",
    "                          label=\"Select a question\")\n",
    "        custom_question = gr.Textbox(label=\"Or type your own question\")  # New text input field\n",
    "        sql_to_nl = gr.Checkbox(label=\"Select for natural language output\")\n",
    "        need_insights = gr.Checkbox(label=\"Select for insights\")\n",
    "        \n",
    "    sql_out = gr.Textbox(label=\"SQL Query\")\n",
    "    results_out = gr.Textbox(label=\"Results\")\n",
    "    insights_out = gr.Textbox(label=\"Insights\")\n",
    "    \n",
    "    btn = gr.Button(\"Run\")\n",
    "    btn.click(fn=gen_sql, inputs=[question, custom_question, sql_to_nl, need_insights] , outputs=[sql_out, results_out, insights_out])\n",
    "\n",
    "demo.launch(share=True)"
   ]
  },
  {
   "cell_type": "code",
   "execution_count": 1,
   "metadata": {
    "tags": []
   },
   "outputs": [],
   "source": [
    "import pandas as pd\n",
    "import gradio as gr\n",
    "from custom_prompt_chain import *"
   ]
  },
  {
   "cell_type": "code",
   "execution_count": 2,
   "metadata": {
    "tags": []
   },
   "outputs": [],
   "source": [
    "test_file_name = \"dataset/test_dataset_all_tables.csv\"\n",
    "test_df = pd.read_csv(test_file_name)\n",
    "questions = test_df.question.tolist()\n",
    "del questions[10]\n",
    "del questions[1]"
   ]
  },
  {
   "cell_type": "code",
   "execution_count": null,
   "metadata": {},
   "outputs": [
    {
     "name": "stderr",
     "output_type": "stream",
     "text": [
      "/var/tmp/ipykernel_157487/4136783253.py:8: GradioDeprecationWarning: 'scale' value should be an integer. Using 2.5 will cause issues.\n",
      "  question = gr.Dropdown(choices=questions,\n"
     ]
    },
    {
     "name": "stdout",
     "output_type": "stream",
     "text": [
      "Running on local URL:  http://127.0.0.1:7860\n",
      "Running on public URL: https://dedf1d4e93c9c4aef9.gradio.live\n",
      "\n",
      "This share link expires in 72 hours. For free permanent hosting and GPU upgrades, run `gradio deploy` from Terminal to deploy to Spaces (https://huggingface.co/spaces)\n"
     ]
    },
    {
     "data": {
      "text/html": [
       "<div><iframe src=\"https://dedf1d4e93c9c4aef9.gradio.live\" width=\"100%\" height=\"500\" allow=\"autoplay; camera; microphone; clipboard-read; clipboard-write;\" frameborder=\"0\" allowfullscreen></iframe></div>"
      ],
      "text/plain": [
       "<IPython.core.display.HTML object>"
      ]
     },
     "metadata": {},
     "output_type": "display_data"
    }
   ],
   "source": [
    "with gr.Blocks(theme='JohnSmith9982/small_and_pretty') as demo:\n",
    "    gr.Markdown(\"Select a question or type your own and then click **Run**\")\n",
    "    with gr.Row():\n",
    "        question = gr.Dropdown(choices=questions, \n",
    "                          label=\"Select a question\", allow_custom_value=True, scale=2.5)\n",
    "        sql_to_nl = gr.Checkbox(label=\"Natural language ouput\")\n",
    "        need_insights = gr.Checkbox(label=\"Detailed Insights\")\n",
    "    \n",
    "    btn = gr.Button(\"Run\")\n",
    "        \n",
    "    sql_out = gr.Textbox(label=\"SQL Query\")\n",
    "    results_out = gr.Textbox(label=\"Results\")\n",
    "    insights_out = gr.Textbox(label=\"Insights\")\n",
    "    \n",
    "    btn.click(fn=gen_sql, inputs=[question, sql_to_nl, need_insights] , outputs=[sql_out, results_out, insights_out])\n",
    "\n",
    "demo.launch(share=True, debug=True)"
   ]
  },
  {
   "cell_type": "code",
   "execution_count": null,
   "metadata": {},
   "outputs": [],
   "source": []
  }
 ],
 "metadata": {
  "colab": {
   "provenance": []
  },
  "environment": {
   "kernel": "python3",
   "name": ".m113",
   "type": "gcloud",
   "uri": "gcr.io/deeplearning-platform-release/:m113"
  },
  "kernelspec": {
   "display_name": "Python 3",
   "language": "python",
   "name": "python3"
  },
  "language_info": {
   "codemirror_mode": {
    "name": "ipython",
    "version": 3
   },
   "file_extension": ".py",
   "mimetype": "text/x-python",
   "name": "python",
   "nbconvert_exporter": "python",
   "pygments_lexer": "ipython3",
   "version": "3.10.13"
  }
 },
 "nbformat": 4,
 "nbformat_minor": 4
}
