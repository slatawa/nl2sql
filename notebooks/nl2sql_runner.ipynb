{
 "cells": [
  {
   "cell_type": "code",
   "execution_count": 9,
   "id": "bf97fd6e-0fce-4199-a562-efb0ca593967",
   "metadata": {
    "tags": []
   },
   "outputs": [
    {
     "name": "stdout",
     "output_type": "stream",
     "text": [
      "The autoreload extension is already loaded. To reload it, use:\n",
      "  %reload_ext autoreload\n",
      "['/home/avijendra/nl2sql_lib/nl2sql-generic/notebooks', '/home/avijendra/nl2sql_lib/nl2sql-generic/nl2sql_src', '../', '/home/avijendra/nl2sql_lib/nl2sql-generic/nl2sql_src', '../', '/home/avijendra/nl2sql_lib/nl2sql-generic/nl2sql_src', '../', '/usr/lib/python311.zip', '/usr/lib/python3.11', '/usr/lib/python3.11/lib-dynload', '', '/home/avijendra/fserv/lib/python3.11/site-packages']\n"
     ]
    }
   ],
   "source": [
    "%load_ext autoreload\n",
    "%autoreload 2\n",
    "\n",
    "import sys  \n",
    "sys.path.insert(1, '../')\n",
    "sys.path.insert(1, '/home/avijendra/nl2sql_lib/nl2sql-generic/nl2sql_src')\n",
    "print(sys.path)"
   ]
  },
  {
   "cell_type": "code",
   "execution_count": 10,
   "id": "4beb4b2d",
   "metadata": {},
   "outputs": [],
   "source": [
    "from nl2sql_generic import Nl2sqlBq\n",
    "PROJECT_ID = 'sl-test-project-363109'\n",
    "LOCATION = 'us-central1'\n",
    "DATASET_ID = 'zoominfo'"
   ]
  },
  {
   "cell_type": "code",
   "execution_count": 11,
   "id": "f7ce84a7-4cc7-44d9-a102-4b62c48e076f",
   "metadata": {
    "tags": []
   },
   "outputs": [],
   "source": [
    "# Initializing 1st time for a dataset\n",
    "# nl2sqlbq_client = Nl2sqlBq(project_id=PROJECT_ID, dataset_id=DATASET_ID)\n",
    "\n",
    "# When Initializing for first time , you will need to create metadata_json\n",
    "# nl2sqlbq_client.create_metadata_json(metadata_json_dest_path = \"../nl2sql_src/cache_metadata/metadata_cache.json\",data_dict_path=\"../nl2sql_src/data_dict/data_dictionary.json\",col_values_distribution = True) #data_dict_path is optional . It is used to provide descriptions for tables and columns"
   ]
  },
  {
   "cell_type": "code",
   "execution_count": 12,
   "id": "d36c38e6-b70b-4d6c-bd38-19fe1fd29c26",
   "metadata": {
    "tags": []
   },
   "outputs": [
    {
     "name": "stdout",
     "output_type": "stream",
     "text": [
      "text-bison@002\n",
      "text-bison@002\n"
     ]
    }
   ],
   "source": [
    "# Initializing when metadata cache is already created\n",
    "nl2sqlbq_client = Nl2sqlBq(project_id=PROJECT_ID, dataset_id=DATASET_ID, metadata_json_path = \"../nl2sql_src/cache_metadata/metadata_cache.json\",model_name=\"text-bison@002\", tuned_model=False)"
   ]
  },
  {
   "cell_type": "code",
   "execution_count": 13,
   "id": "dedad4e7-8315-4861-832e-a1d1362b9713",
   "metadata": {
    "tags": []
   },
   "outputs": [],
   "source": [
    "# question = \"What is the total revenue for the construction primary industry ?\"\n",
    "question = \"What are the top 5 industries in terms of revenue?\""
   ]
  },
  {
   "cell_type": "code",
   "execution_count": 14,
   "id": "8ab459f3-80e5-4ad4-bf5e-10e83f10c112",
   "metadata": {
    "tags": []
   },
   "outputs": [
    {
     "name": "stdout",
     "output_type": "stream",
     "text": [
      " \n",
      "SELECT \n",
      "  ZI_ES_INDUSTRY AS industry,\n",
      "  SUM(ZI_C_REVENUE) AS total_revenue\n",
      "FROM sl-test-project-363109.zoominfo.`zi-retail-companies-headquartered-california`\n",
      "GROUP BY \n",
      "  industry\n",
      "ORDER BY \n",
      "  total_revenue DESC\n",
      "LIMIT 5;\n",
      "\n"
     ]
    }
   ],
   "source": [
    "# Convert to sql\n",
    "# table_name = nl2sqlbq_client.table_filter(question) \n",
    "query = nl2sqlbq_client.generate_sql(question) # Optionally provide table name for faster exection by avoiding table filtering when there are more than 1 table in dataset\n",
    "print(query)"
   ]
  },
  {
   "cell_type": "code",
   "execution_count": 15,
   "id": "3d0721a5-a79d-4e23-9f9a-ac788559e72b",
   "metadata": {
    "tags": []
   },
   "outputs": [
    {
     "data": {
      "text/html": [
       "<div>\n",
       "<style scoped>\n",
       "    .dataframe tbody tr th:only-of-type {\n",
       "        vertical-align: middle;\n",
       "    }\n",
       "\n",
       "    .dataframe tbody tr th {\n",
       "        vertical-align: top;\n",
       "    }\n",
       "\n",
       "    .dataframe thead th {\n",
       "        text-align: right;\n",
       "    }\n",
       "</style>\n",
       "<table border=\"1\" class=\"dataframe\">\n",
       "  <thead>\n",
       "    <tr style=\"text-align: right;\">\n",
       "      <th></th>\n",
       "      <th>industry</th>\n",
       "      <th>total_revenue</th>\n",
       "    </tr>\n",
       "  </thead>\n",
       "  <tbody>\n",
       "    <tr>\n",
       "      <th>0</th>\n",
       "      <td>Retail</td>\n",
       "      <td>281964937</td>\n",
       "    </tr>\n",
       "    <tr>\n",
       "      <th>1</th>\n",
       "      <td>Consumer Electronics</td>\n",
       "      <td>86153757</td>\n",
       "    </tr>\n",
       "    <tr>\n",
       "      <th>2</th>\n",
       "      <td>Automotive</td>\n",
       "      <td>38272006</td>\n",
       "    </tr>\n",
       "    <tr>\n",
       "      <th>3</th>\n",
       "      <td>Apparel &amp; Fashion</td>\n",
       "      <td>16427778</td>\n",
       "    </tr>\n",
       "    <tr>\n",
       "      <th>4</th>\n",
       "      <td>Consumer Goods</td>\n",
       "      <td>5971238</td>\n",
       "    </tr>\n",
       "  </tbody>\n",
       "</table>\n",
       "</div>"
      ],
      "text/plain": [
       "               industry  total_revenue\n",
       "0                Retail      281964937\n",
       "1  Consumer Electronics       86153757\n",
       "2            Automotive       38272006\n",
       "3     Apparel & Fashion       16427778\n",
       "4        Consumer Goods        5971238"
      ]
     },
     "execution_count": 15,
     "metadata": {},
     "output_type": "execute_result"
    }
   ],
   "source": [
    "# Execute query\n",
    "nl2sqlbq_client.execute_query(query)"
   ]
  },
  {
   "cell_type": "code",
   "execution_count": 16,
   "id": "b4876766-a95e-4a83-beec-2a2a8066e03e",
   "metadata": {
    "tags": []
   },
   "outputs": [
    {
     "name": "stdout",
     "output_type": "stream",
     "text": [
      " \n",
      "SELECT \n",
      "  ZI_ES_INDUSTRY AS industry,\n",
      "  SUM(ZI_C_REVENUE) AS total_revenue\n",
      "FROM sl-test-project-363109.zoominfo.`zi-retail-companies-headquartered-california`\n",
      "GROUP BY \n",
      "  industry\n",
      "ORDER BY \n",
      "  total_revenue DESC\n",
      "LIMIT 5;\n",
      "\n"
     ]
    },
    {
     "data": {
      "text/html": [
       "<div>\n",
       "<style scoped>\n",
       "    .dataframe tbody tr th:only-of-type {\n",
       "        vertical-align: middle;\n",
       "    }\n",
       "\n",
       "    .dataframe tbody tr th {\n",
       "        vertical-align: top;\n",
       "    }\n",
       "\n",
       "    .dataframe thead th {\n",
       "        text-align: right;\n",
       "    }\n",
       "</style>\n",
       "<table border=\"1\" class=\"dataframe\">\n",
       "  <thead>\n",
       "    <tr style=\"text-align: right;\">\n",
       "      <th></th>\n",
       "      <th>industry</th>\n",
       "      <th>total_revenue</th>\n",
       "    </tr>\n",
       "  </thead>\n",
       "  <tbody>\n",
       "    <tr>\n",
       "      <th>0</th>\n",
       "      <td>Retail</td>\n",
       "      <td>281964937</td>\n",
       "    </tr>\n",
       "    <tr>\n",
       "      <th>1</th>\n",
       "      <td>Consumer Electronics</td>\n",
       "      <td>86153757</td>\n",
       "    </tr>\n",
       "    <tr>\n",
       "      <th>2</th>\n",
       "      <td>Automotive</td>\n",
       "      <td>38272006</td>\n",
       "    </tr>\n",
       "    <tr>\n",
       "      <th>3</th>\n",
       "      <td>Apparel &amp; Fashion</td>\n",
       "      <td>16427778</td>\n",
       "    </tr>\n",
       "    <tr>\n",
       "      <th>4</th>\n",
       "      <td>Consumer Goods</td>\n",
       "      <td>5971238</td>\n",
       "    </tr>\n",
       "  </tbody>\n",
       "</table>\n",
       "</div>"
      ],
      "text/plain": [
       "               industry  total_revenue\n",
       "0                Retail      281964937\n",
       "1  Consumer Electronics       86153757\n",
       "2            Automotive       38272006\n",
       "3     Apparel & Fashion       16427778\n",
       "4        Consumer Goods        5971238"
      ]
     },
     "execution_count": 16,
     "metadata": {},
     "output_type": "execute_result"
    }
   ],
   "source": [
    "#Convert to sql and excute\n",
    "nl2sqlbq_client.text_to_sql_execute(question)"
   ]
  },
  {
   "cell_type": "code",
   "execution_count": 17,
   "id": "fecfa698-ac5d-4b37-a13a-c161c7109680",
   "metadata": {
    "tags": []
   },
   "outputs": [
    {
     "name": "stdout",
     "output_type": "stream",
     "text": [
      " \n",
      "SELECT \n",
      "  ZI_ES_INDUSTRY AS industry,\n",
      "  SUM(ZI_C_REVENUE) AS total_revenue\n",
      "FROM sl-test-project-363109.zoominfo.`zi-retail-companies-headquartered-california`\n",
      "GROUP BY \n",
      "  industry\n",
      "ORDER BY \n",
      "  total_revenue DESC\n",
      "LIMIT 5;\n",
      "\n",
      "               industry  total_revenue\n",
      "0                Retail      281964937\n",
      "1  Consumer Electronics       86153757\n",
      "2            Automotive       38272006\n",
      "3     Apparel & Fashion       16427778\n",
      "4        Consumer Goods        5971238\n"
     ]
    }
   ],
   "source": [
    "# If you already know table_name provide it, for more accurate and faster execution by avoiding table_filtering when there are more than 1 table in dataset\n",
    "sql_execution_response = nl2sqlbq_client.text_to_sql_execute(question, table_name=\"zi-retail-companies-headquartered-california\")\n",
    "print(sql_execution_response)"
   ]
  },
  {
   "cell_type": "code",
   "execution_count": 18,
   "id": "5cdfb630-aa9d-465f-be27-2e6ed4f5dda0",
   "metadata": {},
   "outputs": [
    {
     "data": {
      "text/plain": [
       "' The retail industry reigns supreme, generating a whopping $281,964,937 in revenue, far surpassing its competitors. Consumer electronics comes in second with a substantial revenue of $86,153,757, while the automotive industry takes the third spot with a revenue of $38,272,006. Apparel and fashion, as well as consumer goods, follow closely behind, contributing $16,427,778 and $5,971,238 respectively to the total revenue.'"
      ]
     },
     "execution_count": 18,
     "metadata": {},
     "output_type": "execute_result"
    }
   ],
   "source": [
    "# To convert reponse in form of natural language use result2nl\n",
    "nl2sqlbq_client.result2nl(result = sql_execution_response, question = question)"
   ]
  },
  {
   "cell_type": "code",
   "execution_count": 19,
   "id": "0dab89b1-bd75-4363-af8c-0c13d8545943",
   "metadata": {
    "tags": []
   },
   "outputs": [],
   "source": [
    "# For testing batch of questions with ground_truth sql\n",
    "# nl2sqlbq_client.batch_run(test_file_name = \"/test_file-1.csv\", output_file_name=\"/test-file-1-output.csv\")"
   ]
  },
  {
   "cell_type": "code",
   "execution_count": 20,
   "id": "7697c61b-f447-4248-8d76-74de48fd665d",
   "metadata": {
    "tags": []
   },
   "outputs": [],
   "source": [
    "# For testing batch of questions with full functionality\n",
    "# nl2sqlbq_client.batch_run(test_file_name = \"/test_file-1.csv\", output_file_name=\"/test-file-1-output.csv\",execute_query = True, result2nl=True, logger_file = \"log_batch.txt\" )"
   ]
  },
  {
   "cell_type": "markdown",
   "id": "bddf6b37",
   "metadata": {},
   "source": [
    "## Few Shot Prompting"
   ]
  },
  {
   "cell_type": "code",
   "execution_count": 21,
   "id": "b3d967a9",
   "metadata": {},
   "outputs": [
    {
     "name": "stdout",
     "output_type": "stream",
     "text": [
      "PGSQL - class Initiated\n"
     ]
    }
   ],
   "source": [
    "PGPROJ = \"sl-test-project-353312\"\n",
    "PGLOCATION = 'us-central1'\n",
    "PGINSTANCE = \"test-nl2sql\"\n",
    "PGDB = \"test-db\"\n",
    "PGTABLE = 'myqueries'\n",
    "PGUSER = \"postgres\"\n",
    "PGPWD = \"test-nl2sql\"\n",
    "nl2sqlbq_client.init_pgdb(PGPROJ, PGLOCATION, PGINSTANCE, PGDB, PGUSER, PGPWD, pg_table=PGTABLE)"
   ]
  },
  {
   "cell_type": "code",
   "execution_count": 22,
   "id": "55e42102",
   "metadata": {},
   "outputs": [
    {
     "name": "stdout",
     "output_type": "stream",
     "text": [
      "Trying to read the index file ../../nl2sql-generic/nl2sql_src/cache_metadata/saved_index_pgdata\n",
      " \n",
      "SELECT ZI_C_INDUSTRY_PRIMARY, SUM(ZI_C_REVENUE) AS total_revenue\n",
      "FROM sl-test-project-363109.zoominfo.`zi-retail-companies-headquartered-california`\n",
      "GROUP BY ZI_C_INDUSTRY_PRIMARY\n",
      "ORDER BY total_revenue DESC\n",
      "LIMIT 5;\n",
      "\n"
     ]
    }
   ],
   "source": [
    "query = nl2sqlbq_client.generate_sql_few_shot(question) # Optionally provide table name for faster exection by avoiding table filtering when there are more than 1 table in dataset\n",
    "print(query)"
   ]
  },
  {
   "cell_type": "markdown",
   "id": "3a6e6c7a",
   "metadata": {},
   "source": [
    "#### Verify if the query is valid by performing a dry run on BQ"
   ]
  },
  {
   "cell_type": "code",
   "execution_count": 23,
   "id": "79073b44",
   "metadata": {},
   "outputs": [
    {
     "name": "stdout",
     "output_type": "stream",
     "text": [
      "Query is valid\n",
      "Query is valid True\n"
     ]
    }
   ],
   "source": [
    "# Execute query - dry run only\n",
    "query_status, message = nl2sqlbq_client.execute_query(query, dry_run=True)\n",
    "print(message, query_status)"
   ]
  },
  {
   "cell_type": "markdown",
   "id": "3ef01a16",
   "metadata": {},
   "source": [
    "#### Self-reflection if the query is invalid"
   ]
  },
  {
   "cell_type": "code",
   "execution_count": 24,
   "id": "7506d9b5",
   "metadata": {},
   "outputs": [
    {
     "name": "stdout",
     "output_type": "stream",
     "text": [
      "Query is valid\n"
     ]
    }
   ],
   "source": [
    "# Regenerate the query checking for validity. Max-tries = 5\n",
    "query_status = False\n",
    "if not query_status:\n",
    "    query_status, query = nl2sqlbq_client.self_reflection(question=question, query=query) "
   ]
  },
  {
   "cell_type": "code",
   "execution_count": 25,
   "id": "5c132b78",
   "metadata": {},
   "outputs": [
    {
     "data": {
      "text/plain": [
       "' The retail industry reigns supreme, generating a whopping $314,482,440 in revenue, leaving its competitors in the dust. Manufacturing follows at a distant second with $121,604,063, while Construction, Business Services, and Agriculture bring in $5,179,104, $4,464,523, and $1,672,833 respectively.'"
      ]
     },
     "execution_count": 25,
     "metadata": {},
     "output_type": "execute_result"
    }
   ],
   "source": [
    "result = nl2sqlbq_client.execute_query(query)\n",
    "nl2sqlbq_client.result2nl(result=result, question=question)"
   ]
  },
  {
   "cell_type": "code",
   "execution_count": null,
   "id": "0a8f3a4a",
   "metadata": {},
   "outputs": [],
   "source": []
  }
 ],
 "metadata": {
  "environment": {
   "kernel": "python3",
   "name": "common-cu113.m115",
   "type": "gcloud",
   "uri": "gcr.io/deeplearning-platform-release/base-cu113:m115"
  },
  "kernelspec": {
   "display_name": "Python 3",
   "language": "python",
   "name": "python3"
  },
  "language_info": {
   "codemirror_mode": {
    "name": "ipython",
    "version": 3
   },
   "file_extension": ".py",
   "mimetype": "text/x-python",
   "name": "python",
   "nbconvert_exporter": "python",
   "pygments_lexer": "ipython3",
   "version": "3.11.2"
  }
 },
 "nbformat": 4,
 "nbformat_minor": 5
}
