{
 "cells": [
  {
   "cell_type": "code",
   "execution_count": 1,
   "id": "bf97fd6e-0fce-4199-a562-efb0ca593967",
   "metadata": {
    "tags": []
   },
   "outputs": [],
   "source": [
    "%load_ext autoreload\n",
    "%autoreload 2\n",
    "\n",
    "import sys  \n",
    "sys.path.insert(1, '../')\n",
    "sys.path.insert(1, '/home/jupyter/git_repo/nl2sql-generic/nl2sql_src')\n",
    "print(sys.path)"
   ]
  },
  {
   "cell_type": "code",
   "execution_count": null,
   "id": "4beb4b2d",
   "metadata": {},
   "outputs": [],
   "source": [
    "from nl2sql_generic import Nl2sqlBq\n",
    "PROJECT_ID = 'sl-test--project'\n",
    "LOCATION = 'us-central1'\n",
    "DATASET_ID = 'zoominfo'"
   ]
  },
  {
   "cell_type": "code",
   "execution_count": 2,
   "id": "f7ce84a7-4cc7-44d9-a102-4b62c48e076f",
   "metadata": {
    "tags": []
   },
   "outputs": [],
   "source": [
    "# Initializing 1st time for a dataset\n",
    "nl2sqlbq_client = Nl2sqlBq(project_id=PROJECT_ID,dataset_id=DATASET_ID)\n",
    "\n",
    "# When Initializing for first time , you will need to create metadata_json\n",
    "# nl2sqlbq_client.create_metadata_json(metadata_json_dest_path = \"../nl2sql_src/cache_metadata/metadata_cache.json\",data_dict_path=\"../nl2sql_src/data_dict/data_dictionary.json\",col_values_distribution = True) #data_dict_path is optional . It is used to provide descriptions for tables and columns"
   ]
  },
  {
   "cell_type": "code",
   "execution_count": 3,
   "id": "d36c38e6-b70b-4d6c-bd38-19fe1fd29c26",
   "metadata": {
    "tags": []
   },
   "outputs": [],
   "source": [
    "# Initializing when metadata cache is already created\n",
    "nl2sqlbq_client = Nl2sqlBq(project_id=PROJECT_ID,dataset_id=DATASET_ID,metadata_json_path = \"../nl2sql_src/cache_metadata/metadata_cache.json\",model_name=\"text-bison\")"
   ]
  },
  {
   "cell_type": "code",
   "execution_count": 4,
   "id": "dedad4e7-8315-4861-832e-a1d1362b9713",
   "metadata": {
    "tags": []
   },
   "outputs": [],
   "source": [
    "question = \"What projects are impacting my engagement code E-67747458?\""
   ]
  },
  {
   "cell_type": "code",
   "execution_count": 5,
   "id": "8ab459f3-80e5-4ad4-bf5e-10e83f10c112",
   "metadata": {
    "tags": []
   },
   "outputs": [
    {
     "name": "stdout",
     "output_type": "stream",
     "text": [
      " \n",
      "SELECT DISTINCT Project\n",
      "FROM vertexai-pgt.EY.invoice_specific\n",
      "WHERE Engagement_Code = 'E-67747458';\n",
      "\n"
     ]
    }
   ],
   "source": [
    "# Convert to sql\n",
    "query = nl2sqlbq_client.text_to_sql(question) # Optionally provide table name for faster exection by avoiding table filtering when there are more than 1 table in dataset\n",
    "print(query)"
   ]
  },
  {
   "cell_type": "code",
   "execution_count": 6,
   "id": "3d0721a5-a79d-4e23-9f9a-ac788559e72b",
   "metadata": {
    "tags": []
   },
   "outputs": [
    {
     "data": {
      "text/html": [
       "<div>\n",
       "<style scoped>\n",
       "    .dataframe tbody tr th:only-of-type {\n",
       "        vertical-align: middle;\n",
       "    }\n",
       "\n",
       "    .dataframe tbody tr th {\n",
       "        vertical-align: top;\n",
       "    }\n",
       "\n",
       "    .dataframe thead th {\n",
       "        text-align: right;\n",
       "    }\n",
       "</style>\n",
       "<table border=\"1\" class=\"dataframe\">\n",
       "  <thead>\n",
       "    <tr style=\"text-align: right;\">\n",
       "      <th></th>\n",
       "      <th>Project</th>\n",
       "    </tr>\n",
       "  </thead>\n",
       "  <tbody>\n",
       "    <tr>\n",
       "      <th>0</th>\n",
       "      <td>AY Accounting AI for Payables</td>\n",
       "    </tr>\n",
       "  </tbody>\n",
       "</table>\n",
       "</div>"
      ],
      "text/plain": [
       "                         Project\n",
       "0  AY Accounting AI for Payables"
      ]
     },
     "execution_count": 6,
     "metadata": {},
     "output_type": "execute_result"
    }
   ],
   "source": [
    "# Execute query\n",
    "nl2sqlbq_client.execute_query(query)"
   ]
  },
  {
   "cell_type": "code",
   "execution_count": 7,
   "id": "b4876766-a95e-4a83-beec-2a2a8066e03e",
   "metadata": {
    "tags": []
   },
   "outputs": [
    {
     "name": "stdout",
     "output_type": "stream",
     "text": [
      " \n",
      "SELECT DISTINCT Project\n",
      "FROM vertexai-pgt.EY.invoice_specific\n",
      "WHERE Engagement_Code = 'E-67747458';\n",
      "\n"
     ]
    },
    {
     "data": {
      "text/html": [
       "<div>\n",
       "<style scoped>\n",
       "    .dataframe tbody tr th:only-of-type {\n",
       "        vertical-align: middle;\n",
       "    }\n",
       "\n",
       "    .dataframe tbody tr th {\n",
       "        vertical-align: top;\n",
       "    }\n",
       "\n",
       "    .dataframe thead th {\n",
       "        text-align: right;\n",
       "    }\n",
       "</style>\n",
       "<table border=\"1\" class=\"dataframe\">\n",
       "  <thead>\n",
       "    <tr style=\"text-align: right;\">\n",
       "      <th></th>\n",
       "      <th>Project</th>\n",
       "    </tr>\n",
       "  </thead>\n",
       "  <tbody>\n",
       "    <tr>\n",
       "      <th>0</th>\n",
       "      <td>AY Accounting AI for Payables</td>\n",
       "    </tr>\n",
       "  </tbody>\n",
       "</table>\n",
       "</div>"
      ],
      "text/plain": [
       "                         Project\n",
       "0  AY Accounting AI for Payables"
      ]
     },
     "execution_count": 7,
     "metadata": {},
     "output_type": "execute_result"
    }
   ],
   "source": [
    "#Convert to sql and excute\n",
    "nl2sqlbq_client.text_to_sql_execute(question)"
   ]
  },
  {
   "cell_type": "code",
   "execution_count": 8,
   "id": "fecfa698-ac5d-4b37-a13a-c161c7109680",
   "metadata": {
    "tags": []
   },
   "outputs": [
    {
     "name": "stdout",
     "output_type": "stream",
     "text": [
      " \n",
      "SELECT DISTINCT Project\n",
      "FROM vertexai-pgt.EY.invoice_specific\n",
      "WHERE Engagement_Code = 'E-67747458';\n",
      "\n",
      "                         Project\n",
      "0  AY Accounting AI for Payables\n"
     ]
    }
   ],
   "source": [
    "# If you already know table_name provide it, for more accurate and faster execution by avoiding table_filtering when there are more than 1 table in dataset\n",
    "sql_execution_response = nl2sqlbq_client.text_to_sql_execute(question,table_name=\"invoice_specific\")\n",
    "print(sql_execution_response)"
   ]
  },
  {
   "cell_type": "code",
   "execution_count": 9,
   "id": "5cdfb630-aa9d-465f-be27-2e6ed4f5dda0",
   "metadata": {},
   "outputs": [
    {
     "data": {
      "text/plain": [
       "' The project \"AY Accounting AI for Payables\" is impacting your engagement code E-67747458.'"
      ]
     },
     "execution_count": 9,
     "metadata": {},
     "output_type": "execute_result"
    }
   ],
   "source": [
    "# To convert reponse in form of natural language use result2nl\n",
    "nl2sqlbq_client.result2nl(result = sql_execution_response, question = question)"
   ]
  },
  {
   "cell_type": "code",
   "execution_count": 10,
   "id": "0dab89b1-bd75-4363-af8c-0c13d8545943",
   "metadata": {
    "tags": []
   },
   "outputs": [
    {
     "name": "stdout",
     "output_type": "stream",
     "text": [
      " What resources / resource types are driving cost increase in SAP Non-Prod?\n",
      " \n",
      "SELECT\n",
      "  Project,\n",
      "  Service_Line,\n",
      "  Component_Type,\n",
      "  Component_Name,\n",
      "  SUM(Total) AS Total_Cost\n",
      "FROM vertexai-pgt.EY.invoice_specific\n",
      "WHERE\n",
      "  Project LIKE '%SAP Non-Prod%'\n",
      "GROUP BY\n",
      "  Project,\n",
      "  Service_Line,\n",
      "  Component_Type,\n",
      "  Component_Name\n",
      "ORDER BY\n",
      "  Total_Cost DESC;\n",
      "\n",
      "\n",
      "\n",
      "\n",
      " What products are driving cost increase in SAP Non-Prod?\n",
      " \n",
      "SELECT\n",
      "  Project,\n",
      "  Product,\n",
      "  SUM(Total) AS Total_Cost\n",
      "FROM vertexai-pgt.EY.invoice_specific\n",
      "WHERE\n",
      "  Project LIKE '%SAP Non-Prod%'\n",
      "GROUP BY\n",
      "  Project,\n",
      "  Product\n",
      "ORDER BY\n",
      "  Total_Cost DESC;\n",
      "\n",
      "\n",
      "\n",
      "\n",
      " What are the deployment ids generating more cost in SAP Non-Prod?\n",
      " \n",
      "SELECT Deployment_ID, SUM(Total) AS Total_Cost\n",
      "FROM vertexai-pgt.EY.invoice_specific\n",
      "WHERE Project LIKE '%SAP Non-Prod%'\n",
      "GROUP BY Deployment_ID\n",
      "ORDER BY Total_Cost DESC;\n",
      "\n",
      "\n",
      "\n",
      "\n",
      " What projects are impacting my engagement code E-67747458?\n",
      " \n",
      "SELECT DISTINCT Project\n",
      "FROM vertexai-pgt.EY.invoice_specific\n",
      "WHERE Engagement_Code = 'E-67747458';\n",
      "\n",
      "\n",
      "\n",
      "\n"
     ]
    },
    {
     "data": {
      "text/html": [
       "<div>\n",
       "<style scoped>\n",
       "    .dataframe tbody tr th:only-of-type {\n",
       "        vertical-align: middle;\n",
       "    }\n",
       "\n",
       "    .dataframe tbody tr th {\n",
       "        vertical-align: top;\n",
       "    }\n",
       "\n",
       "    .dataframe thead th {\n",
       "        text-align: right;\n",
       "    }\n",
       "</style>\n",
       "<table border=\"1\" class=\"dataframe\">\n",
       "  <thead>\n",
       "    <tr style=\"text-align: right;\">\n",
       "      <th></th>\n",
       "      <th>question</th>\n",
       "      <th>ground_truth</th>\n",
       "      <th>llm_response</th>\n",
       "      <th>llm_rating</th>\n",
       "    </tr>\n",
       "  </thead>\n",
       "  <tbody>\n",
       "    <tr>\n",
       "      <th>0</th>\n",
       "      <td>What resources / resource types are driving c...</td>\n",
       "      <td>SELECT RESOURCE, SUM(Total) AS Total_Cost\\nFRO...</td>\n",
       "      <td>\\nSELECT\\n  Project,\\n  Service_Line,\\n  Comp...</td>\n",
       "      <td>no</td>\n",
       "    </tr>\n",
       "    <tr>\n",
       "      <th>1</th>\n",
       "      <td>What products are driving cost increase in SA...</td>\n",
       "      <td>SELECT Product, SUM(Total) AS Total_Cost\\nFROM...</td>\n",
       "      <td>\\nSELECT\\n  Project,\\n  Product,\\n  SUM(Total...</td>\n",
       "      <td>yes</td>\n",
       "    </tr>\n",
       "    <tr>\n",
       "      <th>2</th>\n",
       "      <td>What are the deployment ids generating more c...</td>\n",
       "      <td>SELECT Deployment_ID, SUM(Total) AS Total_Cost...</td>\n",
       "      <td>\\nSELECT Deployment_ID, SUM(Total) AS Total_C...</td>\n",
       "      <td>yes</td>\n",
       "    </tr>\n",
       "    <tr>\n",
       "      <th>3</th>\n",
       "      <td>What projects are impacting my engagement cod...</td>\n",
       "      <td>SELECT DISTINCT Project\\nFROM vertexai-pgt.EY....</td>\n",
       "      <td>\\nSELECT DISTINCT Project\\nFROM vertexai-pgt....</td>\n",
       "      <td>yes</td>\n",
       "    </tr>\n",
       "  </tbody>\n",
       "</table>\n",
       "</div>"
      ],
      "text/plain": [
       "                                            question  \\\n",
       "0   What resources / resource types are driving c...   \n",
       "1   What products are driving cost increase in SA...   \n",
       "2   What are the deployment ids generating more c...   \n",
       "3   What projects are impacting my engagement cod...   \n",
       "\n",
       "                                        ground_truth  \\\n",
       "0  SELECT RESOURCE, SUM(Total) AS Total_Cost\\nFRO...   \n",
       "1  SELECT Product, SUM(Total) AS Total_Cost\\nFROM...   \n",
       "2  SELECT Deployment_ID, SUM(Total) AS Total_Cost...   \n",
       "3  SELECT DISTINCT Project\\nFROM vertexai-pgt.EY....   \n",
       "\n",
       "                                        llm_response llm_rating  \n",
       "0   \\nSELECT\\n  Project,\\n  Service_Line,\\n  Comp...         no  \n",
       "1   \\nSELECT\\n  Project,\\n  Product,\\n  SUM(Total...        yes  \n",
       "2   \\nSELECT Deployment_ID, SUM(Total) AS Total_C...        yes  \n",
       "3   \\nSELECT DISTINCT Project\\nFROM vertexai-pgt....        yes  "
      ]
     },
     "execution_count": 10,
     "metadata": {},
     "output_type": "execute_result"
    }
   ],
   "source": [
    "# For testing batch of questions with ground_truth sql\n",
    "nl2sqlbq_client.batch_run(test_file_name = \"/test_file-1.csv\", output_file_name=\"/test-file-1-output.csv\")"
   ]
  },
  {
   "cell_type": "code",
   "execution_count": 11,
   "id": "7697c61b-f447-4248-8d76-74de48fd665d",
   "metadata": {
    "tags": []
   },
   "outputs": [
    {
     "name": "stdout",
     "output_type": "stream",
     "text": [
      " What resources / resource types are driving cost increase in SAP Non-Prod?\n",
      " \n",
      "SELECT\n",
      "  Project,\n",
      "  Service_Line,\n",
      "  Component_Type,\n",
      "  Component_Name,\n",
      "  SUM(Total) AS Total_Cost\n",
      "FROM vertexai-pgt.EY.invoice_specific\n",
      "WHERE\n",
      "  Project LIKE '%SAP Non-Prod%'\n",
      "GROUP BY\n",
      "  Project,\n",
      "  Service_Line,\n",
      "  Component_Type,\n",
      "  Component_Name\n",
      "ORDER BY\n",
      "  Total_Cost DESC;\n",
      "\n",
      "        Project Service_Line  Component_Type Component_Name    Total_Cost\n",
      "0  SAP Non-Prod   Consulting  Infrastructure           None  27060.183351\n",
      "\n",
      "\n",
      "\n",
      " What products are driving cost increase in SAP Non-Prod?\n",
      " \n",
      "SELECT\n",
      "  Project,\n",
      "  Product,\n",
      "  SUM(Total) AS Total_Cost\n",
      "FROM vertexai-pgt.EY.invoice_specific\n",
      "WHERE\n",
      "  Project LIKE '%SAP Non-Prod%'\n",
      "GROUP BY\n",
      "  Project,\n",
      "  Product\n",
      "ORDER BY\n",
      "  Total_Cost DESC;\n",
      "\n",
      "        Project                              Product    Total_Cost\n",
      "0  SAP Non-Prod       Microsoft Azure Infrastructure  20259.933710\n",
      "1  SAP Non-Prod  RHEL 7.6 for SAP Virtual Machine v2   6644.577038\n",
      "2  SAP Non-Prod              SAP Project Environment    155.066701\n",
      "3  SAP Non-Prod          Monitoring Analytics Report      0.605901\n",
      "\n",
      "\n",
      "\n",
      " What are the deployment ids generating more cost in SAP Non-Prod?\n",
      " \n",
      "SELECT Deployment_ID, SUM(Total) AS Total_Cost\n",
      "FROM vertexai-pgt.EY.invoice_specific\n",
      "WHERE Project LIKE '%SAP Non-Prod%'\n",
      "GROUP BY Deployment_ID\n",
      "ORDER BY Total_Cost DESC;\n",
      "\n",
      "   Deployment_ID    Total_Cost\n",
      "0         sapoms  10802.032929\n",
      "1         spradv   4516.068555\n",
      "2         rh2066   2496.167192\n",
      "3         rh2060   2274.716643\n",
      "4         spnadv   2019.949112\n",
      "5         rh203o   1873.693203\n",
      "6         rhszzn   1711.418610\n",
      "7         saprtr   1206.570260\n",
      "8         srg007    137.440081\n",
      "9         srgzzh     15.594091\n",
      "10        sprtst      4.500145\n",
      "11        srg046      2.032296\n",
      "12        srg01f      0.000233\n",
      "\n",
      "\n",
      "\n",
      " What projects are impacting my engagement code E-67747458?\n",
      " \n",
      "SELECT DISTINCT Project\n",
      "FROM vertexai-pgt.EY.invoice_specific\n",
      "WHERE Engagement_Code = 'E-67747458';\n",
      "\n",
      "                         Project\n",
      "0  AY Accounting AI for Payables\n",
      "\n",
      "\n",
      "\n"
     ]
    },
    {
     "data": {
      "text/html": [
       "<div>\n",
       "<style scoped>\n",
       "    .dataframe tbody tr th:only-of-type {\n",
       "        vertical-align: middle;\n",
       "    }\n",
       "\n",
       "    .dataframe tbody tr th {\n",
       "        vertical-align: top;\n",
       "    }\n",
       "\n",
       "    .dataframe thead th {\n",
       "        text-align: right;\n",
       "    }\n",
       "</style>\n",
       "<table border=\"1\" class=\"dataframe\">\n",
       "  <thead>\n",
       "    <tr style=\"text-align: right;\">\n",
       "      <th></th>\n",
       "      <th>question</th>\n",
       "      <th>ground_truth</th>\n",
       "      <th>llm_response</th>\n",
       "      <th>llm_rating</th>\n",
       "      <th>sql_result</th>\n",
       "      <th>nl_response</th>\n",
       "    </tr>\n",
       "  </thead>\n",
       "  <tbody>\n",
       "    <tr>\n",
       "      <th>0</th>\n",
       "      <td>What resources / resource types are driving c...</td>\n",
       "      <td>SELECT RESOURCE, SUM(Total) AS Total_Cost\\nFRO...</td>\n",
       "      <td>\\nSELECT\\n  Project,\\n  Service_Line,\\n  Comp...</td>\n",
       "      <td>no</td>\n",
       "      <td>Project Service_Line  Component_Type C...</td>\n",
       "      <td>The primary driver behind the cost increase i...</td>\n",
       "    </tr>\n",
       "    <tr>\n",
       "      <th>1</th>\n",
       "      <td>What products are driving cost increase in SA...</td>\n",
       "      <td>SELECT Product, SUM(Total) AS Total_Cost\\nFROM...</td>\n",
       "      <td>\\nSELECT\\n  Project,\\n  Product,\\n  SUM(Total...</td>\n",
       "      <td>yes</td>\n",
       "      <td>Project                              P...</td>\n",
       "      <td>The major products driving cost increase in S...</td>\n",
       "    </tr>\n",
       "    <tr>\n",
       "      <th>2</th>\n",
       "      <td>What are the deployment ids generating more c...</td>\n",
       "      <td>SELECT Deployment_ID, SUM(Total) AS Total_Cost...</td>\n",
       "      <td>\\nSELECT Deployment_ID, SUM(Total) AS Total_C...</td>\n",
       "      <td>yes</td>\n",
       "      <td>Deployment_ID    Total_Cost\n",
       "0         sapom...</td>\n",
       "      <td>The report shows the top 12 deployment IDs in...</td>\n",
       "    </tr>\n",
       "    <tr>\n",
       "      <th>3</th>\n",
       "      <td>What projects are impacting my engagement cod...</td>\n",
       "      <td>SELECT DISTINCT Project\\nFROM vertexai-pgt.EY....</td>\n",
       "      <td>\\nSELECT DISTINCT Project\\nFROM vertexai-pgt....</td>\n",
       "      <td>yes</td>\n",
       "      <td>Project\n",
       "0  AY Account...</td>\n",
       "      <td>The project \"AY Accounting AI for Payables\" i...</td>\n",
       "    </tr>\n",
       "  </tbody>\n",
       "</table>\n",
       "</div>"
      ],
      "text/plain": [
       "                                            question  \\\n",
       "0   What resources / resource types are driving c...   \n",
       "1   What products are driving cost increase in SA...   \n",
       "2   What are the deployment ids generating more c...   \n",
       "3   What projects are impacting my engagement cod...   \n",
       "\n",
       "                                        ground_truth  \\\n",
       "0  SELECT RESOURCE, SUM(Total) AS Total_Cost\\nFRO...   \n",
       "1  SELECT Product, SUM(Total) AS Total_Cost\\nFROM...   \n",
       "2  SELECT Deployment_ID, SUM(Total) AS Total_Cost...   \n",
       "3  SELECT DISTINCT Project\\nFROM vertexai-pgt.EY....   \n",
       "\n",
       "                                        llm_response llm_rating  \\\n",
       "0   \\nSELECT\\n  Project,\\n  Service_Line,\\n  Comp...         no   \n",
       "1   \\nSELECT\\n  Project,\\n  Product,\\n  SUM(Total...        yes   \n",
       "2   \\nSELECT Deployment_ID, SUM(Total) AS Total_C...        yes   \n",
       "3   \\nSELECT DISTINCT Project\\nFROM vertexai-pgt....        yes   \n",
       "\n",
       "                                          sql_result  \\\n",
       "0          Project Service_Line  Component_Type C...   \n",
       "1          Project                              P...   \n",
       "2     Deployment_ID    Total_Cost\n",
       "0         sapom...   \n",
       "3                           Project\n",
       "0  AY Account...   \n",
       "\n",
       "                                         nl_response  \n",
       "0   The primary driver behind the cost increase i...  \n",
       "1   The major products driving cost increase in S...  \n",
       "2   The report shows the top 12 deployment IDs in...  \n",
       "3   The project \"AY Accounting AI for Payables\" i...  "
      ]
     },
     "execution_count": 11,
     "metadata": {},
     "output_type": "execute_result"
    }
   ],
   "source": [
    "# For testing batch of questions with full functionality\n",
    "nl2sqlbq_client.batch_run(test_file_name = \"/test_file-1.csv\", output_file_name=\"/test-file-1-output.csv\",execute_query = True, result2nl=True, logger_file = \"log_batch.txt\" )"
   ]
  },
  {
   "cell_type": "code",
   "execution_count": null,
   "id": "1c1ae3cd-e079-4407-ae8c-6f8e0930dd6e",
   "metadata": {},
   "outputs": [],
   "source": []
  }
 ],
 "metadata": {
  "environment": {
   "kernel": "python3",
   "name": "common-cu113.m115",
   "type": "gcloud",
   "uri": "gcr.io/deeplearning-platform-release/base-cu113:m115"
  },
  "kernelspec": {
   "display_name": "Python 3",
   "language": "python",
   "name": "python3"
  },
  "language_info": {
   "codemirror_mode": {
    "name": "ipython",
    "version": 3
   },
   "file_extension": ".py",
   "mimetype": "text/x-python",
   "name": "python",
   "nbconvert_exporter": "python",
   "pygments_lexer": "ipython3",
   "version": "3.10.13"
  }
 },
 "nbformat": 4,
 "nbformat_minor": 5
}
