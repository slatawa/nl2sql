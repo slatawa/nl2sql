{
 "cells": [
  {
   "cell_type": "code",
   "execution_count": 1,
   "id": "bf97fd6e-0fce-4199-a562-efb0ca593967",
   "metadata": {
    "tags": []
   },
   "outputs": [],
   "source": [
    "from nl2sql_generic import Nl2sqlBq"
   ]
  },
  {
   "cell_type": "code",
   "execution_count": 2,
   "id": "f7ce84a7-4cc7-44d9-a102-4b62c48e076f",
   "metadata": {
    "tags": []
   },
   "outputs": [],
   "source": [
    "# Initializing 1st time for a dataset\n",
    "nl2sqlbq_client = Nl2sqlBq(project_id=\"vertexai-pgt\",dataset_id=\"nl2sql\")\n",
    "\n",
    "# When Initializing for first time , you will need to create metadata_json\n",
    "nl2sqlbq_client.create_metadata_json(metadata_json_dest_path = \"metadata_cache.json\",data_dict_path =\"data_dict.json\") #data_dict_path is optional . It is used to provide descriptions for tables and columns"
   ]
  },
  {
   "cell_type": "code",
   "execution_count": 3,
   "id": "d36c38e6-b70b-4d6c-bd38-19fe1fd29c26",
   "metadata": {
    "tags": []
   },
   "outputs": [],
   "source": [
    "# Initializing when metadata cache is already created\n",
    "nl2sqlbq_client = Nl2sqlBq(project_id=\"vertexai-pgt\",dataset_id=\"nl2sql\",metadata_json_path = \"metadata_cache.json\")"
   ]
  },
  {
   "cell_type": "code",
   "execution_count": 4,
   "id": "9fdc0ef3-df24-4c2f-886c-c9b1ff9f6a4c",
   "metadata": {
    "tags": []
   },
   "outputs": [],
   "source": [
    "question = \"How many average household rooms are there in block group 5?\""
   ]
  },
  {
   "cell_type": "code",
   "execution_count": 8,
   "id": "8ab459f3-80e5-4ad4-bf5e-10e83f10c112",
   "metadata": {
    "tags": []
   },
   "outputs": [
    {
     "name": "stdout",
     "output_type": "stream",
     "text": [
      "\n",
      "SELECT\n",
      "  SUM(AveRooms)\n",
      "FROM vertexai-pgt.nl2sql.california_housing\n",
      "WHERE\n",
      "  Block_group = 5;\n",
      "\n"
     ]
    }
   ],
   "source": [
    "# Convert to sql\n",
    "query = nl2sqlbq_client.text_to_sql(question) # Optionally provide table name for faster exection by avoiding table filtering when there are more than 1 table in dataset\n",
    "print(query)"
   ]
  },
  {
   "cell_type": "code",
   "execution_count": 9,
   "id": "3d0721a5-a79d-4e23-9f9a-ac788559e72b",
   "metadata": {
    "tags": []
   },
   "outputs": [
    {
     "data": {
      "text/html": [
       "<div>\n",
       "<style scoped>\n",
       "    .dataframe tbody tr th:only-of-type {\n",
       "        vertical-align: middle;\n",
       "    }\n",
       "\n",
       "    .dataframe tbody tr th {\n",
       "        vertical-align: top;\n",
       "    }\n",
       "\n",
       "    .dataframe thead th {\n",
       "        text-align: right;\n",
       "    }\n",
       "</style>\n",
       "<table border=\"1\" class=\"dataframe\">\n",
       "  <thead>\n",
       "    <tr style=\"text-align: right;\">\n",
       "      <th></th>\n",
       "      <th>f0_</th>\n",
       "    </tr>\n",
       "  </thead>\n",
       "  <tbody>\n",
       "    <tr>\n",
       "      <th>0</th>\n",
       "      <td>4.761658</td>\n",
       "    </tr>\n",
       "  </tbody>\n",
       "</table>\n",
       "</div>"
      ],
      "text/plain": [
       "        f0_\n",
       "0  4.761658"
      ]
     },
     "execution_count": 9,
     "metadata": {},
     "output_type": "execute_result"
    }
   ],
   "source": [
    "# Execute query\n",
    "nl2sqlbq_client.execute_query(query)"
   ]
  },
  {
   "cell_type": "code",
   "execution_count": 11,
   "id": "b4876766-a95e-4a83-beec-2a2a8066e03e",
   "metadata": {
    "tags": []
   },
   "outputs": [
    {
     "name": "stdout",
     "output_type": "stream",
     "text": [
      "\n",
      "SELECT\n",
      "  Block_group,\n",
      "  AveRooms\n",
      "FROM vertexai-pgt.nl2sql.california_housing\n",
      "WHERE\n",
      "  Block_group = 5;\n",
      "\n"
     ]
    },
    {
     "data": {
      "text/html": [
       "<div>\n",
       "<style scoped>\n",
       "    .dataframe tbody tr th:only-of-type {\n",
       "        vertical-align: middle;\n",
       "    }\n",
       "\n",
       "    .dataframe tbody tr th {\n",
       "        vertical-align: top;\n",
       "    }\n",
       "\n",
       "    .dataframe thead th {\n",
       "        text-align: right;\n",
       "    }\n",
       "</style>\n",
       "<table border=\"1\" class=\"dataframe\">\n",
       "  <thead>\n",
       "    <tr style=\"text-align: right;\">\n",
       "      <th></th>\n",
       "      <th>Block_group</th>\n",
       "      <th>AveRooms</th>\n",
       "    </tr>\n",
       "  </thead>\n",
       "  <tbody>\n",
       "    <tr>\n",
       "      <th>0</th>\n",
       "      <td>5</td>\n",
       "      <td>4.761658</td>\n",
       "    </tr>\n",
       "  </tbody>\n",
       "</table>\n",
       "</div>"
      ],
      "text/plain": [
       "   Block_group  AveRooms\n",
       "0            5  4.761658"
      ]
     },
     "execution_count": 11,
     "metadata": {},
     "output_type": "execute_result"
    }
   ],
   "source": [
    "#Convert to sql and excute\n",
    "nl2sqlbq_client.text_to_sql_execute(question)"
   ]
  },
  {
   "cell_type": "code",
   "execution_count": 12,
   "id": "fecfa698-ac5d-4b37-a13a-c161c7109680",
   "metadata": {
    "tags": []
   },
   "outputs": [
    {
     "name": "stdout",
     "output_type": "stream",
     "text": [
      "\n",
      "SELECT\n",
      "  AveRooms\n",
      "FROM vertexai-pgt.nl2sql.california_housing\n",
      "WHERE\n",
      "  Block_group = 5;\n",
      "\n"
     ]
    },
    {
     "data": {
      "text/html": [
       "<div>\n",
       "<style scoped>\n",
       "    .dataframe tbody tr th:only-of-type {\n",
       "        vertical-align: middle;\n",
       "    }\n",
       "\n",
       "    .dataframe tbody tr th {\n",
       "        vertical-align: top;\n",
       "    }\n",
       "\n",
       "    .dataframe thead th {\n",
       "        text-align: right;\n",
       "    }\n",
       "</style>\n",
       "<table border=\"1\" class=\"dataframe\">\n",
       "  <thead>\n",
       "    <tr style=\"text-align: right;\">\n",
       "      <th></th>\n",
       "      <th>AveRooms</th>\n",
       "    </tr>\n",
       "  </thead>\n",
       "  <tbody>\n",
       "    <tr>\n",
       "      <th>0</th>\n",
       "      <td>4.761658</td>\n",
       "    </tr>\n",
       "  </tbody>\n",
       "</table>\n",
       "</div>"
      ],
      "text/plain": [
       "   AveRooms\n",
       "0  4.761658"
      ]
     },
     "execution_count": 12,
     "metadata": {},
     "output_type": "execute_result"
    }
   ],
   "source": [
    "# If you already know table_name provide it, for more accurate and faster execution by avoiding table_filtering when there are more than 1 table in dataset\n",
    "nl2sqlbq_client.text_to_sql_execute(question,table_name=\"california_housing\")"
   ]
  },
  {
   "cell_type": "code",
   "execution_count": null,
   "id": "6e19605e-39b1-428f-acd8-2b8efa40f7df",
   "metadata": {},
   "outputs": [],
   "source": []
  }
 ],
 "metadata": {
  "environment": {
   "kernel": "python3",
   "name": "common-cu113.m115",
   "type": "gcloud",
   "uri": "gcr.io/deeplearning-platform-release/base-cu113:m115"
  },
  "kernelspec": {
   "display_name": "Python 3",
   "language": "python",
   "name": "python3"
  },
  "language_info": {
   "codemirror_mode": {
    "name": "ipython",
    "version": 3
   },
   "file_extension": ".py",
   "mimetype": "text/x-python",
   "name": "python",
   "nbconvert_exporter": "python",
   "pygments_lexer": "ipython3",
   "version": "3.10.13"
  }
 },
 "nbformat": 4,
 "nbformat_minor": 5
}
