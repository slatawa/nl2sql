{
 "cells": [
  {
   "cell_type": "code",
   "execution_count": 1,
   "id": "96e3e0d9-3526-484a-9b9d-fcd9086eed6f",
   "metadata": {
    "tags": []
   },
   "outputs": [
    {
     "name": "stdout",
     "output_type": "stream",
     "text": [
      "['/home/avijendra/nl2sql_lib/nl2sql-generic/notebooks', '/home/avijendra/nl2sql_lib/nl2sql-generic/nl2sql_src', '../', '/usr/lib/python311.zip', '/usr/lib/python3.11', '/usr/lib/python3.11/lib-dynload', '', '/home/avijendra/fserv/lib/python3.11/site-packages']\n"
     ]
    }
   ],
   "source": [
    "%load_ext autoreload\n",
    "%autoreload 2\n",
    "\n",
    "import sys  \n",
    "sys.path.insert(1, '../')\n",
    "sys.path.insert(1, '/home/avijendra/nl2sql_lib/nl2sql-generic/nl2sql_src')\n",
    "print(sys.path)"
   ]
  },
  {
   "cell_type": "code",
   "execution_count": 2,
   "id": "a1efc131",
   "metadata": {},
   "outputs": [],
   "source": [
    "# Uncomment the below commands if required to re-install the libraries\n",
    "# %pip install faiss-cpu --quiet\n",
    "# %pip install google.cloud --quiet\n",
    "# %pip install cloud-sql-python-connector --quiet\n",
    "# %pip install pg8000 --quiet\n",
    "# %pip install langchain-google-vertexai"
   ]
  },
  {
   "cell_type": "code",
   "execution_count": 3,
   "id": "b6a94149-0613-4f0c-849a-d79ae513d56b",
   "metadata": {
    "tags": []
   },
   "outputs": [],
   "source": [
    "import numpy as np\n",
    "import csv\n",
    "import faiss\n",
    "from pandas import DataFrame\n",
    "from datetime import datetime\n",
    "from tqdm import tqdm"
   ]
  },
  {
   "cell_type": "code",
   "execution_count": 4,
   "id": "af7ebc19-5887-47c3-ac92-51f0d0a7a6a1",
   "metadata": {},
   "outputs": [],
   "source": [
    "# PROJECT_ID = ! gcloud config get project\n",
    "from nl2sql_generic import Nl2sqlBq\n",
    "PROJECT_ID = 'sl-test-project-363109'\n",
    "LOCATION = 'us-central1'\n",
    "DATASET_ID = 'zoominfo'"
   ]
  },
  {
   "cell_type": "markdown",
   "id": "20b78b78-87f4-40d8-8091-48c36214f923",
   "metadata": {},
   "source": [
    "# Query and Embeddings in PostgreSQL"
   ]
  },
  {
   "cell_type": "markdown",
   "id": "6c24f0e2-1a9c-4523-b003-14ca5862d405",
   "metadata": {
    "tags": []
   },
   "source": [
    "## Initialise"
   ]
  },
  {
   "cell_type": "code",
   "execution_count": 8,
   "id": "dca01556-babf-43ef-b90b-7a8717b2aed0",
   "metadata": {},
   "outputs": [
    {
     "name": "stdout",
     "output_type": "stream",
     "text": [
      "PGSQL - class Initiated\n"
     ]
    }
   ],
   "source": [
    "from nl2sql_src.nl2sql_query_embeddings import PgSqlEmb\n",
    "\n",
    "# Make sure you update the following variables in-line with your project\n",
    "PGPROJ = \"sl-test-project-363109\"\n",
    "PGLOCATION = 'us-central1'\n",
    "PGINSTANCE = \"nl2sql-test\"\n",
    "PGDB = \"test-db\"\n",
    "PGTABLE = 'documents' #'myqueries'\n",
    "PGUSER = \"postgres\"\n",
    "PGPWD = \"nl2sql-test\"\n",
    "# INDX_FILE = 'saved_index_pgdata' # optoinal, considered as default\n",
    "\n",
    "pge = PgSqlEmb(PGPROJ, PGLOCATION, PGINSTANCE, PGDB, PGUSER, PGPWD, pg_table=PGTABLE)\n",
    "# mytable=PGTABLE"
   ]
  },
  {
   "cell_type": "markdown",
   "id": "80863aec-605f-4e25-b457-c928e8111d24",
   "metadata": {
    "jp-MarkdownHeadingCollapsed": true,
    "tags": []
   },
   "source": [
    "## Create Table"
   ]
  },
  {
   "cell_type": "code",
   "execution_count": 9,
   "id": "5a1ce595-0390-4015-a34a-d2c0be576bb9",
   "metadata": {},
   "outputs": [
    {
     "name": "stderr",
     "output_type": "stream",
     "text": [
      "['sl-test-project-363109:us-central1:nl2sql-test']: An error occurred while performing refresh. Scheduling another refresh attempt immediately\n",
      "Traceback (most recent call last):\n",
      "  File \"/home/avijendra/fserv/lib/python3.11/site-packages/aiohttp/connector.py\", line 1173, in _create_direct_connection\n",
      "    hosts = await asyncio.shield(host_resolved)\n",
      "            ^^^^^^^^^^^^^^^^^^^^^^^^^^^^^^^^^^^\n",
      "  File \"/home/avijendra/fserv/lib/python3.11/site-packages/aiohttp/connector.py\", line 884, in _resolve_host\n",
      "    addrs = await self._resolver.resolve(host, port, family=self._family)\n",
      "            ^^^^^^^^^^^^^^^^^^^^^^^^^^^^^^^^^^^^^^^^^^^^^^^^^^^^^^^^^^^^^\n",
      "  File \"/home/avijendra/fserv/lib/python3.11/site-packages/aiohttp/resolver.py\", line 33, in resolve\n",
      "    infos = await self._loop.getaddrinfo(\n",
      "            ^^^^^^^^^^^^^^^^^^^^^^^^^^^^^\n",
      "  File \"/usr/lib/python3.11/asyncio/base_events.py\", line 867, in getaddrinfo\n",
      "    return await self.run_in_executor(\n",
      "           ^^^^^^^^^^^^^^^^^^^^^^^^^^^\n",
      "  File \"/usr/lib/python3.11/concurrent/futures/thread.py\", line 58, in run\n",
      "    result = self.fn(*self.args, **self.kwargs)\n",
      "             ^^^^^^^^^^^^^^^^^^^^^^^^^^^^^^^^^^\n",
      "  File \"/usr/lib/python3.11/socket.py\", line 962, in getaddrinfo\n",
      "    for res in _socket.getaddrinfo(host, port, family, type, proto, flags):\n",
      "               ^^^^^^^^^^^^^^^^^^^^^^^^^^^^^^^^^^^^^^^^^^^^^^^^^^^^^^^^^^^\n",
      "socket.gaierror: [Errno -2] Name or service not known\n",
      "\n",
      "The above exception was the direct cause of the following exception:\n",
      "\n",
      "Traceback (most recent call last):\n",
      "  File \"/home/avijendra/fserv/lib/python3.11/site-packages/google/cloud/sql/connector/instance.py\", line 312, in _refresh_task\n",
      "    refresh_data = await refresh_task\n",
      "                   ^^^^^^^^^^^^^^^^^^\n",
      "  File \"/home/avijendra/fserv/lib/python3.11/site-packages/google/cloud/sql/connector/instance.py\", line 247, in _perform_refresh\n",
      "    metadata = await metadata_task\n",
      "               ^^^^^^^^^^^^^^^^^^^\n",
      "  File \"/home/avijendra/fserv/lib/python3.11/site-packages/google/cloud/sql/connector/client.py\", line 124, in _get_metadata\n",
      "    resp = await self._client.get(url, headers=headers, raise_for_status=True)\n",
      "           ^^^^^^^^^^^^^^^^^^^^^^^^^^^^^^^^^^^^^^^^^^^^^^^^^^^^^^^^^^^^^^^^^^^\n",
      "  File \"/home/avijendra/fserv/lib/python3.11/site-packages/aiohttp/client.py\", line 578, in _request\n",
      "    conn = await self._connector.connect(\n",
      "           ^^^^^^^^^^^^^^^^^^^^^^^^^^^^^^\n",
      "  File \"/home/avijendra/fserv/lib/python3.11/site-packages/aiohttp/connector.py\", line 544, in connect\n",
      "    proto = await self._create_connection(req, traces, timeout)\n",
      "            ^^^^^^^^^^^^^^^^^^^^^^^^^^^^^^^^^^^^^^^^^^^^^^^^^^^\n",
      "  File \"/home/avijendra/fserv/lib/python3.11/site-packages/aiohttp/connector.py\", line 911, in _create_connection\n",
      "    _, proto = await self._create_direct_connection(req, traces, timeout)\n",
      "               ^^^^^^^^^^^^^^^^^^^^^^^^^^^^^^^^^^^^^^^^^^^^^^^^^^^^^^^^^^\n",
      "  File \"/home/avijendra/fserv/lib/python3.11/site-packages/aiohttp/connector.py\", line 1187, in _create_direct_connection\n",
      "    raise ClientConnectorError(req.connection_key, exc) from exc\n",
      "aiohttp.client_exceptions.ClientConnectorError: Cannot connect to host sqladmin.googleapis.com:443 ssl:default [Name or service not known]\n",
      "Task exception was never retrieved\n",
      "future: <Task finished name='Task-411' coro=<Instance._schedule_refresh.<locals>._refresh_task() done, defined at /home/avijendra/fserv/lib/python3.11/site-packages/google/cloud/sql/connector/instance.py:301> exception=ClientConnectorError(ConnectionKey(host='sqladmin.googleapis.com', port=443, is_ssl=True, ssl=True, proxy=None, proxy_auth=None, proxy_headers_hash=-6017301637329083226), gaierror(-2, 'Name or service not known'))>\n",
      "Traceback (most recent call last):\n",
      "  File \"/home/avijendra/fserv/lib/python3.11/site-packages/aiohttp/connector.py\", line 1173, in _create_direct_connection\n",
      "    hosts = await asyncio.shield(host_resolved)\n",
      "            ^^^^^^^^^^^^^^^^^^^^^^^^^^^^^^^^^^^\n",
      "  File \"/home/avijendra/fserv/lib/python3.11/site-packages/aiohttp/connector.py\", line 884, in _resolve_host\n",
      "    addrs = await self._resolver.resolve(host, port, family=self._family)\n",
      "            ^^^^^^^^^^^^^^^^^^^^^^^^^^^^^^^^^^^^^^^^^^^^^^^^^^^^^^^^^^^^^\n",
      "  File \"/home/avijendra/fserv/lib/python3.11/site-packages/aiohttp/resolver.py\", line 33, in resolve\n",
      "    infos = await self._loop.getaddrinfo(\n",
      "            ^^^^^^^^^^^^^^^^^^^^^^^^^^^^^\n",
      "  File \"/usr/lib/python3.11/asyncio/base_events.py\", line 867, in getaddrinfo\n",
      "    return await self.run_in_executor(\n",
      "           ^^^^^^^^^^^^^^^^^^^^^^^^^^^\n",
      "  File \"/usr/lib/python3.11/concurrent/futures/thread.py\", line 58, in run\n",
      "    result = self.fn(*self.args, **self.kwargs)\n",
      "             ^^^^^^^^^^^^^^^^^^^^^^^^^^^^^^^^^^\n",
      "  File \"/usr/lib/python3.11/socket.py\", line 962, in getaddrinfo\n",
      "    for res in _socket.getaddrinfo(host, port, family, type, proto, flags):\n",
      "               ^^^^^^^^^^^^^^^^^^^^^^^^^^^^^^^^^^^^^^^^^^^^^^^^^^^^^^^^^^^\n",
      "socket.gaierror: [Errno -2] Name or service not known\n",
      "\n",
      "The above exception was the direct cause of the following exception:\n",
      "\n",
      "Traceback (most recent call last):\n",
      "  File \"/home/avijendra/fserv/lib/python3.11/site-packages/google/cloud/sql/connector/instance.py\", line 312, in _refresh_task\n",
      "    refresh_data = await refresh_task\n",
      "                   ^^^^^^^^^^^^^^^^^^\n",
      "  File \"/home/avijendra/fserv/lib/python3.11/site-packages/google/cloud/sql/connector/instance.py\", line 247, in _perform_refresh\n",
      "    metadata = await metadata_task\n",
      "               ^^^^^^^^^^^^^^^^^^^\n",
      "  File \"/home/avijendra/fserv/lib/python3.11/site-packages/google/cloud/sql/connector/client.py\", line 124, in _get_metadata\n",
      "    resp = await self._client.get(url, headers=headers, raise_for_status=True)\n",
      "           ^^^^^^^^^^^^^^^^^^^^^^^^^^^^^^^^^^^^^^^^^^^^^^^^^^^^^^^^^^^^^^^^^^^\n",
      "  File \"/home/avijendra/fserv/lib/python3.11/site-packages/aiohttp/client.py\", line 578, in _request\n",
      "    conn = await self._connector.connect(\n",
      "           ^^^^^^^^^^^^^^^^^^^^^^^^^^^^^^\n",
      "  File \"/home/avijendra/fserv/lib/python3.11/site-packages/aiohttp/connector.py\", line 544, in connect\n",
      "    proto = await self._create_connection(req, traces, timeout)\n",
      "            ^^^^^^^^^^^^^^^^^^^^^^^^^^^^^^^^^^^^^^^^^^^^^^^^^^^\n",
      "  File \"/home/avijendra/fserv/lib/python3.11/site-packages/aiohttp/connector.py\", line 911, in _create_connection\n",
      "    _, proto = await self._create_direct_connection(req, traces, timeout)\n",
      "               ^^^^^^^^^^^^^^^^^^^^^^^^^^^^^^^^^^^^^^^^^^^^^^^^^^^^^^^^^^\n",
      "  File \"/home/avijendra/fserv/lib/python3.11/site-packages/aiohttp/connector.py\", line 1187, in _create_direct_connection\n",
      "    raise ClientConnectorError(req.connection_key, exc) from exc\n",
      "aiohttp.client_exceptions.ClientConnectorError: Cannot connect to host sqladmin.googleapis.com:443 ssl:default [Name or service not known]\n"
     ]
    }
   ],
   "source": [
    "# Create Table in PostgresDB if not already existing\n",
    "pge.create_table()"
   ]
  },
  {
   "cell_type": "markdown",
   "id": "b641c3c4",
   "metadata": {},
   "source": [
    "## Insert records to PostgreSQL and update index"
   ]
  },
  {
   "cell_type": "code",
   "execution_count": 10,
   "id": "a4735eec",
   "metadata": {},
   "outputs": [
    {
     "name": "stderr",
     "output_type": "stream",
     "text": [
      "100%|██████████| 19/19 [00:54<00:00,  2.88s/it]\n"
     ]
    }
   ],
   "source": [
    "examples = []\n",
    "with open('sample_sqls.csv', 'r') as f:\n",
    "    samples_data = csv.reader(f)\n",
    "    header = next(samples_data)\n",
    "    for r in samples_data:\n",
    "        examples.append(r)\n",
    "\n",
    "for example in tqdm(examples):\n",
    "    pge.insert_row(example[0], example[1])"
   ]
  },
  {
   "cell_type": "code",
   "execution_count": 12,
   "id": "91836e06",
   "metadata": {},
   "outputs": [],
   "source": [
    "new_question = \"How many employees in California are from Livingston County?\"\n",
    "mapped_sql = \"select count(*) from `sl-test-project-363109.zoominfo.zi-retail-companies-headquartered-california` where ZI_C_COMPANY_COUNTY = 'Livingston County'\"\n",
    "pge.insert_row(new_question, mapped_sql)"
   ]
  },
  {
   "cell_type": "markdown",
   "id": "6affea85-1ee4-4580-b837-5956890aee4d",
   "metadata": {},
   "source": [
    "## Retrieve data "
   ]
  },
  {
   "cell_type": "code",
   "execution_count": 24,
   "id": "bedf7577-feae-4813-a8ef-88fbc8698364",
   "metadata": {
    "tags": []
   },
   "outputs": [
    {
     "name": "stdout",
     "output_type": "stream",
     "text": [
      "    q_id                                           question  \\\n",
      "0      1          How many people are enrolled in CalWorks?   \n",
      "1      2            How many of them live in Nevada County?   \n",
      "2      3  How has participation in CalWorks changed sinc...   \n",
      "3      4   How do CalWorks program participation trends ...   \n",
      "4      5  How have these race and ethnicity trends chang...   \n",
      "5      6  Which county has the greatest proportion of Ca...   \n",
      "6      7      What about three or more additional programs?   \n",
      "7      8  Which programs have the highest co-enrollment ...   \n",
      "8      9  Which programs have the highest co-enrollment ...   \n",
      "9     10  What county has the greatest enrollment in Cal...   \n",
      "10    11  Which five counties have the lowest number of ...   \n",
      "11    12  How many Hispanic individuals are served acros...   \n",
      "12    13                  What is the breakdown by program?   \n",
      "13    14                        Has this changed over time?   \n",
      "14    15                       Change over time by program?   \n",
      "15    16  Which counties have the highest and lowest rat...   \n",
      "16    17           How many unique products are in service?   \n",
      "17    18           How many unique products are in service?   \n",
      "18    19  How many unique products are in service at the...   \n",
      "19    20  How many employees in California are from Livi...   \n",
      "20    21           What is the revenue for pharma industry?   \n",
      "21    22           What is the revenue for pharma industry?   \n",
      "22    23    What is the revenue for manufacturing industry?   \n",
      "23    24    What is the revenue for manufacturing industry?   \n",
      "24    25  What are the top 10 industries having revenue ...   \n",
      "25    26  Which industry has highest revenue in Dallas c...   \n",
      "26    27                              Testing questionn add   \n",
      "27    28                              Testing questionn add   \n",
      "28    29                                            Testing   \n",
      "29    30                                       New question   \n",
      "30    31                                            Testing   \n",
      "31    32                                               test   \n",
      "32    33                              Last question to test   \n",
      "33    34                      Deployed version of the  code   \n",
      "\n",
      "                                                  sql  \\\n",
      "0   SELECT  COALESCE(SUM(SAFE_CAST( Person AS INT6...   \n",
      "1   SELECT SUM(CAST(Person AS INT64)) AS total_ben...   \n",
      "2   select  year, sum(total_beneficiaries) as tota...   \n",
      "3   SELECT COALESCE(SUM(SAFE_CAST( White   AS INT6...   \n",
      "4   SELECT fileyear  AS calhhs_dashboard_2015_2020...   \n",
      "5   SELECT Number AS county, COALESCE(SUM(SAFE_CAS...   \n",
      "6   SELECT Number AS county, COALESCE(SUM(SAFE_CAS...   \n",
      "7   SELECT COALESCE(SUM(SAFE_CAST( Person   AS INT...   \n",
      "8   SELECT COALESCE(SUM(SAFE_CAST( Person   AS INT...   \n",
      "9   SELECT Vendor_Location  AS calfresh_redemption...   \n",
      "10  SELECT Vendor_Location,(vendor_cnt/total_parti...   \n",
      "11  SELECT  COALESCE(SUM(SAFE_CAST( Hispanic   AS ...   \n",
      "12  select  year, sum(total_beneficiaries) as tota...   \n",
      "13  select  year, sum(total_hispanic) as total_his...   \n",
      "14  select Program, year, sum(total_hispanic) as t...   \n",
      "15  select annual_file.Number, (count(provider.OBJ...   \n",
      "16  select count(distinct PRODUCT) from `sl-test-p...   \n",
      "17  select count(distinct PRODUCT) from `sl-test-p...   \n",
      "18  select count(distinct PRODUCT) from `sl-test-p...   \n",
      "19  select count(*) from `sl-test-project-363109.z...   \n",
      "20  select * from table1 where industry=<dq>pharma...   \n",
      "21  select * from table1 where industry=<dq>pharma...   \n",
      "22  select * from table1 where industry=<dq>pharma...   \n",
      "23  select * from table1 where industry=<dq>pharma...   \n",
      "24  select * from table1 where industry=<dq>pharma...   \n",
      "25  select revenue from table1 where county=<sq><s...   \n",
      "26                                 Select * from tab;   \n",
      "27                                 Select * from tab;   \n",
      "28                                            Testing   \n",
      "29                                        updated sql   \n",
      "30                                            Testing   \n",
      "31                                                      \n",
      "32                               Select last question   \n",
      "33                                Select all deployed   \n",
      "\n",
      "                                      query_embedding  \n",
      "0   [0.022842301055788994, -0.02063756436109543, -...  \n",
      "1   [-0.03886029124259949, -0.018496988341212273, ...  \n",
      "2   [0.04597264155745506, -0.005924492608755827, -...  \n",
      "3   [0.0433129146695137, -0.029444819316267967, -0...  \n",
      "4   [0.0406758189201355, -0.01777486875653267, -0....  \n",
      "5   [0.03448931500315666, -0.041594792157411575, -...  \n",
      "6   [-0.023760443553328514, -0.055121421813964844,...  \n",
      "7   [0.047975003719329834, -0.019127340987324715, ...  \n",
      "8   [0.047975003719329834, -0.019127340987324715, ...  \n",
      "9   [0.008530459366738796, -0.033839065581560135, ...  \n",
      "10  [0.00802867766469717, -0.03528197482228279, -0...  \n",
      "11  [0.011037055402994156, 0.014937077648937702, -...  \n",
      "12  [-0.0017136035021394491, -0.0419219546020031, ...  \n",
      "13  [0.019026871770620346, -0.029509998857975006, ...  \n",
      "14  [0.016102315858006477, -0.02841823734343052, -...  \n",
      "15  [0.0501357726752758, -0.031143343076109886, -0...  \n",
      "16  [-0.014078792184591293, -0.061913248151540756,...  \n",
      "17  [-0.014078792184591293, -0.061913248151540756,...  \n",
      "18  [0.017931437119841576, -0.0584653839468956, -0...  \n",
      "19  [-0.0085710184648633, -0.041441068053245544, -...  \n",
      "20  [0.03728298470377922, -0.04184051603078842, -0...  \n",
      "21  [0.03728298470377922, -0.04184051603078842, -0...  \n",
      "22  [0.01021251454949379, -0.06885842978954315, -0...  \n",
      "23  [0.01021251454949379, -0.06885842978954315, -0...  \n",
      "24  [0.013614027760922909, -0.08386076241731644, -...  \n",
      "25  [0.06570511311292648, -0.0431549996137619, -0....  \n",
      "26  [0.03732858970761299, -0.07395855337381363, -0...  \n",
      "27  [0.03732858970761299, -0.07395855337381363, -0...  \n",
      "28  [0.03558292239904404, -0.04057864099740982, -0...  \n",
      "29  [-0.016004052013158798, -0.06323932856321335, ...  \n",
      "30  [0.03558292239904404, -0.04057864099740982, -0...  \n",
      "31  [0.03050115890800953, -0.037213508039712906, -...  \n",
      "32  [0.006838339380919933, -0.029376037418842316, ...  \n",
      "33  [0.035545866936445236, -0.022231755778193474, ...  \n"
     ]
    }
   ],
   "source": [
    "# Retrieve the data from the PostgreDB and return a dataframe\n",
    "def extract_data():\n",
    "    tmp = pge.extract_data()\n",
    "    df = DataFrame(tmp.fetchall())\n",
    "    print(df)\n",
    "    return df\n",
    "\n",
    "df = extract_data()\n",
    "df\n",
    "headers = [\"question\", \"sql\"]\n",
    "df.to_csv('sample_sqls.csv', columns=headers, index=False)"
   ]
  },
  {
   "cell_type": "markdown",
   "id": "97df2654-cd26-4a15-97bc-1559ee5ea7c8",
   "metadata": {},
   "source": [
    "## Search the VectorDB for closest matching queries"
   ]
  },
  {
   "cell_type": "code",
   "execution_count": 13,
   "id": "37eaea89-24eb-4a0b-9311-0fac764379d7",
   "metadata": {},
   "outputs": [
    {
     "name": "stdout",
     "output_type": "stream",
     "text": [
      "Trying to read the index file ../../nl2sql-generic/nl2sql_src/cache_metadata/saved_index_pgdata\n"
     ]
    },
    {
     "data": {
      "text/plain": [
       "[{'question': ' How do CalWorks program participation trends differ by race and ethnicity?',\n",
       "  'sql': \"SELECT COALESCE(SUM(SAFE_CAST( White   AS INT64)), 0) AS calhhs_dashboard_2015_2020_annual_data_file_total_whites_1, COALESCE(SUM(SAFE_CAST( Black   AS INT64)), 0) AS calhhs_dashboard_2015_2020_annual_data_file_total_blacks_1, COALESCE(SUM(SAFE_CAST( Hispanic   AS INT64)), 0) AS calhhs_dashboard_2015_2020_annual_data_file_total_hispanics_1, COALESCE(SUM(SAFE_CAST( Asian_PI   AS INT64)), 0) AS calhhs_dashboard_2015_2020_annual_data_file_total_asian_1, COALESCE(SUM(SAFE_CAST( Native_American   AS INT64)), 0) AS calhhs_dashboard_2015_2020_annual_data_file_total_native_american_1 FROM `cdii-poc.HHS_Program_Counts.calhhs-dashboard-2015-2020-annual-data-file`  WHERE (Program ) = 'CalWorks';\"},\n",
       " {'question': 'How many of them live in Nevada County?',\n",
       "  'sql': \"SELECT SUM(CAST(Person AS INT64)) AS total_beneficiaries FROM `cdii-poc.HHS_Program_Counts.calhhs-dashboard-2015-2020-annual-data-file` where Level='County' and Number='Nevada' and Program = 'CalWorks';\"},\n",
       " {'question': 'How have these race and ethnicity trends changed over time?',\n",
       "  'sql': \"SELECT fileyear  AS calhhs_dashboard_2015_2020_annual_data_file_fileyear, COALESCE(SUM(SAFE_CAST( White   AS INT64)), 0) AS calhhs_dashboard_2015_2020_annual_data_file_total_whites_1, COALESCE(SUM(SAFE_CAST( Black   AS INT64)), 0) AS calhhs_dashboard_2015_2020_annual_data_file_total_blacks_1, COALESCE(SUM(SAFE_CAST( Hispanic   AS INT64)), 0) AS calhhs_dashboard_2015_2020_annual_data_file_total_hispanics_1, COALESCE(SUM(SAFE_CAST( Asian_PI   AS INT64)), 0) AS calhhs_dashboard_2015_2020_annual_data_file_total_asian_1, COALESCE(SUM(SAFE_CAST( Native_American   AS INT64)), 0) AS calhhs_dashboard_2015_2020_annual_data_file_total_native_american_1 FROM `cdii-poc.HHS_Program_Counts.calhhs-dashboard-2015-2020-annual-data-file`  AS calhhs_dashboard_2015_2020_annual_data_file WHERE (Program ) = 'CalWorks' GROUP BY fileyear ORDER BY fileyear;\"}]"
      ]
     },
     "execution_count": 13,
     "metadata": {},
     "output_type": "execute_result"
    }
   ],
   "source": [
    "# Search for the closest matching queries\n",
    "new_query = 'What is the total revenue for Hospitality industry'\n",
    "output_json = pge.search_matching_queries(new_query)\n",
    "output_json"
   ]
  },
  {
   "cell_type": "markdown",
   "id": "19522b57-4805-45e1-91b4-184b541fa46f",
   "metadata": {},
   "source": [
    "## Clear VectorDB and re-create VectorDB from all data in PostgreSQL"
   ]
  },
  {
   "cell_type": "code",
   "execution_count": 11,
   "id": "5166735c-c8b3-4b55-b279-384cea367469",
   "metadata": {},
   "outputs": [
    {
     "name": "stdout",
     "output_type": "stream",
     "text": [
      "Number of elements :  14\n"
     ]
    }
   ],
   "source": [
    "pge.recreate_vectordb_index()"
   ]
  },
  {
   "cell_type": "markdown",
   "id": "495deeed",
   "metadata": {},
   "source": [
    "## Clear all Data in DB"
   ]
  },
  {
   "cell_type": "code",
   "execution_count": 12,
   "id": "2c069650",
   "metadata": {},
   "outputs": [
    {
     "name": "stdout",
     "output_type": "stream",
     "text": [
      "Empty DataFrame\n",
      "Columns: []\n",
      "Index: []\n"
     ]
    },
    {
     "data": {
      "text/html": [
       "<div>\n",
       "<style scoped>\n",
       "    .dataframe tbody tr th:only-of-type {\n",
       "        vertical-align: middle;\n",
       "    }\n",
       "\n",
       "    .dataframe tbody tr th {\n",
       "        vertical-align: top;\n",
       "    }\n",
       "\n",
       "    .dataframe thead th {\n",
       "        text-align: right;\n",
       "    }\n",
       "</style>\n",
       "<table border=\"1\" class=\"dataframe\">\n",
       "  <thead>\n",
       "    <tr style=\"text-align: right;\">\n",
       "      <th></th>\n",
       "    </tr>\n",
       "  </thead>\n",
       "  <tbody>\n",
       "  </tbody>\n",
       "</table>\n",
       "</div>"
      ],
      "text/plain": [
       "Empty DataFrame\n",
       "Columns: []\n",
       "Index: []"
      ]
     },
     "execution_count": 12,
     "metadata": {},
     "output_type": "execute_result"
    }
   ],
   "source": [
    "pge.empty_table()\n",
    "df = extract_data()\n",
    "df"
   ]
  },
  {
   "cell_type": "code",
   "execution_count": null,
   "id": "5f35f177",
   "metadata": {},
   "outputs": [],
   "source": []
  }
 ],
 "metadata": {
  "environment": {
   "kernel": "python3",
   "name": "common-cpu.m117",
   "type": "gcloud",
   "uri": "us-docker.pkg.dev/deeplearning-platform-release/gcr.io/base-cpu:m117"
  },
  "kernelspec": {
   "display_name": "Python 3 (Local)",
   "language": "python",
   "name": "python3"
  },
  "language_info": {
   "codemirror_mode": {
    "name": "ipython",
    "version": 3
   },
   "file_extension": ".py",
   "mimetype": "text/x-python",
   "name": "python",
   "nbconvert_exporter": "python",
   "pygments_lexer": "ipython3",
   "version": "3.11.2"
  }
 },
 "nbformat": 4,
 "nbformat_minor": 5
}
