{
 "cells": [
  {
   "cell_type": "code",
   "execution_count": 1,
   "id": "96e3e0d9-3526-484a-9b9d-fcd9086eed6f",
   "metadata": {
    "tags": []
   },
   "outputs": [],
   "source": [
    "%load_ext autoreload\n",
    "%autoreload 2\n",
    "\n",
    "import sys  \n",
    "sys.path.insert(1, '../')"
   ]
  },
  {
   "cell_type": "code",
   "execution_count": null,
   "id": "a1efc131",
   "metadata": {},
   "outputs": [],
   "source": [
    "# Uncomment the below commands if required to re-install the libraries\n",
    "# %pip install faiss-cpu --quiet\n",
    "# %pip install google.cloud --quiet\n",
    "# %pip install cloud-sql-python-connector --quiet\n",
    "# %pip install pg8000 --quiet\n",
    "# %pip install langchain-google-vertexai"
   ]
  },
  {
   "cell_type": "code",
   "execution_count": 3,
   "id": "b6a94149-0613-4f0c-849a-d79ae513d56b",
   "metadata": {
    "tags": []
   },
   "outputs": [],
   "source": [
    "import numpy as np\n",
    "import faiss\n",
    "from pandas import DataFrame\n",
    "from datetime import datetime"
   ]
  },
  {
   "cell_type": "code",
   "execution_count": 5,
   "id": "af7ebc19-5887-47c3-ac92-51f0d0a7a6a1",
   "metadata": {},
   "outputs": [
    {
     "data": {
      "text/plain": [
       "'sl-test-project'"
      ]
     },
     "execution_count": 5,
     "metadata": {},
     "output_type": "execute_result"
    }
   ],
   "source": [
    "# PROJECT_ID = ! gcloud config get project\n",
    "PROJECT_ID = 'sl-test-project'\n",
    "LOCATION = 'us-central1'\n",
    "PROJECT_ID"
   ]
  },
  {
   "cell_type": "markdown",
   "id": "20b78b78-87f4-40d8-8091-48c36214f923",
   "metadata": {},
   "source": [
    "# Query and Embeddings in PostgreSQL"
   ]
  },
  {
   "cell_type": "markdown",
   "id": "6c24f0e2-1a9c-4523-b003-14ca5862d405",
   "metadata": {
    "tags": []
   },
   "source": [
    "## Initialise"
   ]
  },
  {
   "cell_type": "code",
   "execution_count": 6,
   "id": "dca01556-babf-43ef-b90b-7a8717b2aed0",
   "metadata": {},
   "outputs": [
    {
     "name": "stdout",
     "output_type": "stream",
     "text": [
      "The autoreload extension is already loaded. To reload it, use:\n",
      "  %reload_ext autoreload\n",
      "class Initiated\n"
     ]
    }
   ],
   "source": [
    "%load_ext autoreload\n",
    "%autoreload 2\n",
    "from nl2sql_src.nl2sql_query_embeddings import PgSqlEmb\n",
    "\n",
    "# Make sure you update the following variables in-line with your project\n",
    "PGPROJ = \"sl-test-project-353312\"\n",
    "PGLOCATION = 'us-central1'\n",
    "PGINSTANCE = \"test-nl2sql\"\n",
    "PGDB = \"test-db\"\n",
    "PGUSER = \"postgres\"\n",
    "PGPWD = \"test-nl2sql\"\n",
    "# INDX_FILE = 'saved_index_pgdata' # optoinal, considered as default\n",
    "\n",
    "pge = PgSqlEmb(PGPROJ, PGLOCATION, PGINSTANCE, PGDB, PGUSER, PGPWD)"
   ]
  },
  {
   "cell_type": "markdown",
   "id": "80863aec-605f-4e25-b457-c928e8111d24",
   "metadata": {
    "jp-MarkdownHeadingCollapsed": true,
    "tags": []
   },
   "source": [
    "## Create Table"
   ]
  },
  {
   "cell_type": "code",
   "execution_count": 7,
   "id": "5a1ce595-0390-4015-a34a-d2c0be576bb9",
   "metadata": {},
   "outputs": [],
   "source": [
    "# Create Table in PostgresDB if not already existing\n",
    "pge.create_table()"
   ]
  },
  {
   "cell_type": "markdown",
   "id": "b641c3c4",
   "metadata": {},
   "source": [
    "## Insert records to PostgreSQL and update index"
   ]
  },
  {
   "cell_type": "code",
   "execution_count": 13,
   "id": "91836e06",
   "metadata": {},
   "outputs": [
    {
     "name": "stdout",
     "output_type": "stream",
     "text": [
      "1 length of new array\n"
     ]
    }
   ],
   "source": [
    "new_question = \"How many unique products are in service?\"\n",
    "mapped_sql = \"select count(distinct PRODUCT) from `sl-test-project-353312.EY.invoice_specific` \"\n",
    "pge.insert_row(new_question, mapped_sql)"
   ]
  },
  {
   "cell_type": "markdown",
   "id": "6affea85-1ee4-4580-b837-5956890aee4d",
   "metadata": {},
   "source": [
    "## Retrieve data "
   ]
  },
  {
   "cell_type": "code",
   "execution_count": 14,
   "id": "bedf7577-feae-4813-a8ef-88fbc8698364",
   "metadata": {
    "tags": []
   },
   "outputs": [
    {
     "name": "stdout",
     "output_type": "stream",
     "text": [
      "   q_id                                  question  \\\n",
      "0     4  How many unique products are in service?   \n",
      "1     5  How many unique products are in service?   \n",
      "\n",
      "                                                 sql  \\\n",
      "0  select count(distinct PRODUCT) from `sl-test-p...   \n",
      "1  select count(distinct PRODUCT) from `sl-test-p...   \n",
      "\n",
      "                                     query_embedding  \n",
      "0  [-0.014430472627282143, -0.061879031360149384,...  \n",
      "1  [-0.014430472627282143, -0.061879031360149384,...  \n"
     ]
    },
    {
     "data": {
      "text/html": [
       "<div>\n",
       "<style scoped>\n",
       "    .dataframe tbody tr th:only-of-type {\n",
       "        vertical-align: middle;\n",
       "    }\n",
       "\n",
       "    .dataframe tbody tr th {\n",
       "        vertical-align: top;\n",
       "    }\n",
       "\n",
       "    .dataframe thead th {\n",
       "        text-align: right;\n",
       "    }\n",
       "</style>\n",
       "<table border=\"1\" class=\"dataframe\">\n",
       "  <thead>\n",
       "    <tr style=\"text-align: right;\">\n",
       "      <th></th>\n",
       "      <th>q_id</th>\n",
       "      <th>question</th>\n",
       "      <th>sql</th>\n",
       "      <th>query_embedding</th>\n",
       "    </tr>\n",
       "  </thead>\n",
       "  <tbody>\n",
       "    <tr>\n",
       "      <th>0</th>\n",
       "      <td>4</td>\n",
       "      <td>How many unique products are in service?</td>\n",
       "      <td>select count(distinct PRODUCT) from `sl-test-p...</td>\n",
       "      <td>[-0.014430472627282143, -0.061879031360149384,...</td>\n",
       "    </tr>\n",
       "    <tr>\n",
       "      <th>1</th>\n",
       "      <td>5</td>\n",
       "      <td>How many unique products are in service?</td>\n",
       "      <td>select count(distinct PRODUCT) from `sl-test-p...</td>\n",
       "      <td>[-0.014430472627282143, -0.061879031360149384,...</td>\n",
       "    </tr>\n",
       "  </tbody>\n",
       "</table>\n",
       "</div>"
      ],
      "text/plain": [
       "   q_id                                  question  \\\n",
       "0     4  How many unique products are in service?   \n",
       "1     5  How many unique products are in service?   \n",
       "\n",
       "                                                 sql  \\\n",
       "0  select count(distinct PRODUCT) from `sl-test-p...   \n",
       "1  select count(distinct PRODUCT) from `sl-test-p...   \n",
       "\n",
       "                                     query_embedding  \n",
       "0  [-0.014430472627282143, -0.061879031360149384,...  \n",
       "1  [-0.014430472627282143, -0.061879031360149384,...  "
      ]
     },
     "execution_count": 14,
     "metadata": {},
     "output_type": "execute_result"
    }
   ],
   "source": [
    "# Retrieve the data from the PostgreDB and return a dataframe\n",
    "def extract_data():\n",
    "    tmp = pge.extract_data()\n",
    "    df = DataFrame(tmp.fetchall())\n",
    "    print(df)\n",
    "    return df\n",
    "\n",
    "df = extract_data()\n",
    "df"
   ]
  },
  {
   "cell_type": "markdown",
   "id": "97df2654-cd26-4a15-97bc-1559ee5ea7c8",
   "metadata": {},
   "source": [
    "## Search the VectorDB for closest matching queries"
   ]
  },
  {
   "cell_type": "code",
   "execution_count": null,
   "id": "37eaea89-24eb-4a0b-9311-0fac764379d7",
   "metadata": {},
   "outputs": [],
   "source": [
    "# Search for the closest matching queries\n",
    "new_query = 'What county has the highest number of beneficiaries enrolled in the WIC per capita?'\n",
    "output_json = pge.search_matching_queries(new_query)\n",
    "output_json"
   ]
  },
  {
   "cell_type": "markdown",
   "id": "19522b57-4805-45e1-91b4-184b541fa46f",
   "metadata": {},
   "source": [
    "## Clear VectorDB and re-create VectorDB from all data in PostgreSQL"
   ]
  },
  {
   "cell_type": "code",
   "execution_count": 16,
   "id": "5166735c-c8b3-4b55-b279-384cea367469",
   "metadata": {},
   "outputs": [
    {
     "name": "stdout",
     "output_type": "stream",
     "text": [
      "Number of elements :  2\n"
     ]
    }
   ],
   "source": [
    "pge.recreate_vectordb_index()"
   ]
  },
  {
   "cell_type": "markdown",
   "id": "495deeed",
   "metadata": {},
   "source": [
    "## Clear all Data in DB"
   ]
  },
  {
   "cell_type": "code",
   "execution_count": 9,
   "id": "2c069650",
   "metadata": {},
   "outputs": [
    {
     "name": "stdout",
     "output_type": "stream",
     "text": [
      "Empty DataFrame\n",
      "Columns: []\n",
      "Index: []\n"
     ]
    },
    {
     "data": {
      "text/html": [
       "<div>\n",
       "<style scoped>\n",
       "    .dataframe tbody tr th:only-of-type {\n",
       "        vertical-align: middle;\n",
       "    }\n",
       "\n",
       "    .dataframe tbody tr th {\n",
       "        vertical-align: top;\n",
       "    }\n",
       "\n",
       "    .dataframe thead th {\n",
       "        text-align: right;\n",
       "    }\n",
       "</style>\n",
       "<table border=\"1\" class=\"dataframe\">\n",
       "  <thead>\n",
       "    <tr style=\"text-align: right;\">\n",
       "      <th></th>\n",
       "    </tr>\n",
       "  </thead>\n",
       "  <tbody>\n",
       "  </tbody>\n",
       "</table>\n",
       "</div>"
      ],
      "text/plain": [
       "Empty DataFrame\n",
       "Columns: []\n",
       "Index: []"
      ]
     },
     "execution_count": 9,
     "metadata": {},
     "output_type": "execute_result"
    }
   ],
   "source": [
    "pge.empty_table()\n",
    "df = extract_data()\n",
    "df"
   ]
  },
  {
   "cell_type": "code",
   "execution_count": null,
   "id": "c323014f",
   "metadata": {},
   "outputs": [],
   "source": []
  },
  {
   "cell_type": "code",
   "execution_count": null,
   "id": "4ebe28fd",
   "metadata": {},
   "outputs": [],
   "source": []
  }
 ],
 "metadata": {
  "environment": {
   "kernel": "python3",
   "name": "common-cpu.m117",
   "type": "gcloud",
   "uri": "us-docker.pkg.dev/deeplearning-platform-release/gcr.io/base-cpu:m117"
  },
  "kernelspec": {
   "display_name": "Python 3 (Local)",
   "language": "python",
   "name": "python3"
  },
  "language_info": {
   "codemirror_mode": {
    "name": "ipython",
    "version": 3
   },
   "file_extension": ".py",
   "mimetype": "text/x-python",
   "name": "python",
   "nbconvert_exporter": "python",
   "pygments_lexer": "ipython3",
   "version": "3.11.2"
  }
 },
 "nbformat": 4,
 "nbformat_minor": 5
}
