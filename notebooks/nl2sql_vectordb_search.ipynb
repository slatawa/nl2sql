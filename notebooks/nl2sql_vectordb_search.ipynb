{
 "cells": [
  {
   "cell_type": "code",
   "execution_count": 1,
   "id": "96e3e0d9-3526-484a-9b9d-fcd9086eed6f",
   "metadata": {
    "tags": []
   },
   "outputs": [
    {
     "name": "stdout",
     "output_type": "stream",
     "text": [
      "['/home/avijendra/nl2sql_lib/nl2sql-generic/notebooks', '/home/avijendra/nl2sql_lib/nl2sql-generic/nl2sql_src', '../', '/usr/lib/python311.zip', '/usr/lib/python3.11', '/usr/lib/python3.11/lib-dynload', '', '/home/avijendra/fserv/lib/python3.11/site-packages']\n"
     ]
    }
   ],
   "source": [
    "%load_ext autoreload\n",
    "%autoreload 2\n",
    "\n",
    "import sys  \n",
    "sys.path.insert(1, '../')\n",
    "sys.path.insert(1, '/home/avijendra/nl2sql_lib/nl2sql-generic/nl2sql_src')\n",
    "print(sys.path)"
   ]
  },
  {
   "cell_type": "code",
   "execution_count": 2,
   "id": "a1efc131",
   "metadata": {},
   "outputs": [],
   "source": [
    "# Uncomment the below commands if required to re-install the libraries\n",
    "# %pip install faiss-cpu --quiet\n",
    "# %pip install google.cloud --quiet\n",
    "# %pip install cloud-sql-python-connector --quiet\n",
    "# %pip install pg8000 --quiet\n",
    "# %pip install langchain-google-vertexai"
   ]
  },
  {
   "cell_type": "code",
   "execution_count": 3,
   "id": "b6a94149-0613-4f0c-849a-d79ae513d56b",
   "metadata": {
    "tags": []
   },
   "outputs": [],
   "source": [
    "import numpy as np\n",
    "import csv\n",
    "import faiss\n",
    "from pandas import DataFrame\n",
    "from datetime import datetime\n",
    "from tqdm import tqdm"
   ]
  },
  {
   "cell_type": "code",
   "execution_count": 4,
   "id": "af7ebc19-5887-47c3-ac92-51f0d0a7a6a1",
   "metadata": {},
   "outputs": [],
   "source": [
    "# PROJECT_ID = ! gcloud config get project\n",
    "from nl2sql_generic import Nl2sqlBq\n",
    "PROJECT_ID = 'sl-test-project-363109'\n",
    "LOCATION = 'us-central1'\n",
    "DATASET_ID = 'zoominfo'"
   ]
  },
  {
   "cell_type": "markdown",
   "id": "20b78b78-87f4-40d8-8091-48c36214f923",
   "metadata": {},
   "source": [
    "# Query and Embeddings in PostgreSQL"
   ]
  },
  {
   "cell_type": "markdown",
   "id": "6c24f0e2-1a9c-4523-b003-14ca5862d405",
   "metadata": {
    "tags": []
   },
   "source": [
    "## Initialise"
   ]
  },
  {
   "cell_type": "code",
   "execution_count": 5,
   "id": "dca01556-babf-43ef-b90b-7a8717b2aed0",
   "metadata": {},
   "outputs": [
    {
     "name": "stdout",
     "output_type": "stream",
     "text": [
      "PGSQL - class Initiated\n"
     ]
    }
   ],
   "source": [
    "from nl2sql_src.nl2sql_query_embeddings import PgSqlEmb\n",
    "\n",
    "# Make sure you update the following variables in-line with your project\n",
    "PGPROJ = \"sl-test-project-353312\"\n",
    "PGLOCATION = 'us-central1'\n",
    "PGINSTANCE = \"test-nl2sql\"\n",
    "PGDB = \"test-db\"\n",
    "PGTABLE = 'myqueries'\n",
    "PGUSER = \"postgres\"\n",
    "PGPWD = \"test-nl2sql\"\n",
    "# INDX_FILE = 'saved_index_pgdata' # optoinal, considered as default\n",
    "\n",
    "pge = PgSqlEmb(PGPROJ, PGLOCATION, PGINSTANCE, PGDB, PGUSER, PGPWD, pg_table=PGTABLE)\n",
    "# mytable=PGTABLE"
   ]
  },
  {
   "cell_type": "markdown",
   "id": "80863aec-605f-4e25-b457-c928e8111d24",
   "metadata": {
    "jp-MarkdownHeadingCollapsed": true,
    "tags": []
   },
   "source": [
    "## Create Table"
   ]
  },
  {
   "cell_type": "code",
   "execution_count": 6,
   "id": "5a1ce595-0390-4015-a34a-d2c0be576bb9",
   "metadata": {},
   "outputs": [],
   "source": [
    "# Create Table in PostgresDB if not already existing\n",
    "pge.create_table()"
   ]
  },
  {
   "cell_type": "markdown",
   "id": "b641c3c4",
   "metadata": {},
   "source": [
    "## Insert records to PostgreSQL and update index"
   ]
  },
  {
   "cell_type": "code",
   "execution_count": 16,
   "id": "a4735eec",
   "metadata": {},
   "outputs": [
    {
     "name": "stderr",
     "output_type": "stream",
     "text": [
      "100%|██████████| 6/6 [00:16<00:00,  2.72s/it]\n"
     ]
    }
   ],
   "source": [
    "examples = []\n",
    "with open('examples.csv', 'r') as f:\n",
    "    samples_data = csv.reader(f)\n",
    "    header = next(samples_data)\n",
    "    for r in samples_data:\n",
    "        examples.append(r)\n",
    "\n",
    "for example in tqdm(examples):\n",
    "    pge.insert_row(example[0], example[1])"
   ]
  },
  {
   "cell_type": "code",
   "execution_count": 17,
   "id": "91836e06",
   "metadata": {},
   "outputs": [],
   "source": [
    "new_question = \"How many employees in California are from Livingston County?\"\n",
    "mapped_sql = \"select count(*) from `sl-test-project-363109.zoominfo.zi-retail-companies-headquartered-california` where ZI_C_COMPANY_COUNTY = 'Livingston County'\"\n",
    "pge.insert_row(new_question, mapped_sql)"
   ]
  },
  {
   "cell_type": "markdown",
   "id": "6affea85-1ee4-4580-b837-5956890aee4d",
   "metadata": {},
   "source": [
    "## Retrieve data "
   ]
  },
  {
   "cell_type": "code",
   "execution_count": 18,
   "id": "bedf7577-feae-4813-a8ef-88fbc8698364",
   "metadata": {
    "tags": []
   },
   "outputs": [
    {
     "name": "stdout",
     "output_type": "stream",
     "text": [
      "   q_id                                           question  \\\n",
      "0    45  How many marketing agents work from zip code 3...   \n",
      "1    46  what is the revenue generated by sales agents ...   \n",
      "2    47  What is the total number of employes providing...   \n",
      "3    48  What is the total revenue for constuction indu...   \n",
      "4    49  What are the top 5 industries in terms of reve...   \n",
      "5    50  How many employees in California are from Dall...   \n",
      "6    51  How many employees in California are from Livi...   \n",
      "\n",
      "                                                 sql  \\\n",
      "0  select count(*) from `sl-test-project-363109.z...   \n",
      "1  select sum(ZI_C_REVENUE) as rev from `sl-test-...   \n",
      "2  select count(*) from `sl-test-project-363109.z...   \n",
      "3  select sum(ZI_C_REVENUE) from `zoominfo.zi-com...   \n",
      "4                       select ZI_C_INDUSTRY_PRIMARY   \n",
      "5  select count(*) from `sl-test-project-363109.z...   \n",
      "6  select count(*) from `sl-test-project-363109.z...   \n",
      "\n",
      "                                     query_embedding  \n",
      "0  [0.04187563434243202, -0.0557498037815094, 0.0...  \n",
      "1  [-0.005688739009201527, -0.06865667551755905, ...  \n",
      "2  [0.06246837228536606, -0.04506361484527588, 0....  \n",
      "3  [0.029781630262732506, -0.03381987288594246, -...  \n",
      "4  [0.035186998546123505, -0.03914893791079521, 0...  \n",
      "5  [0.035889022052288055, -0.03150845319032669, -...  \n",
      "6  [-0.0085710184648633, -0.041441068053245544, -...  \n"
     ]
    },
    {
     "data": {
      "text/html": [
       "<div>\n",
       "<style scoped>\n",
       "    .dataframe tbody tr th:only-of-type {\n",
       "        vertical-align: middle;\n",
       "    }\n",
       "\n",
       "    .dataframe tbody tr th {\n",
       "        vertical-align: top;\n",
       "    }\n",
       "\n",
       "    .dataframe thead th {\n",
       "        text-align: right;\n",
       "    }\n",
       "</style>\n",
       "<table border=\"1\" class=\"dataframe\">\n",
       "  <thead>\n",
       "    <tr style=\"text-align: right;\">\n",
       "      <th></th>\n",
       "      <th>q_id</th>\n",
       "      <th>question</th>\n",
       "      <th>sql</th>\n",
       "      <th>query_embedding</th>\n",
       "    </tr>\n",
       "  </thead>\n",
       "  <tbody>\n",
       "    <tr>\n",
       "      <th>0</th>\n",
       "      <td>45</td>\n",
       "      <td>How many marketing agents work from zip code 3...</td>\n",
       "      <td>select count(*) from `sl-test-project-363109.z...</td>\n",
       "      <td>[0.04187563434243202, -0.0557498037815094, 0.0...</td>\n",
       "    </tr>\n",
       "    <tr>\n",
       "      <th>1</th>\n",
       "      <td>46</td>\n",
       "      <td>what is the revenue generated by sales agents ...</td>\n",
       "      <td>select sum(ZI_C_REVENUE) as rev from `sl-test-...</td>\n",
       "      <td>[-0.005688739009201527, -0.06865667551755905, ...</td>\n",
       "    </tr>\n",
       "    <tr>\n",
       "      <th>2</th>\n",
       "      <td>47</td>\n",
       "      <td>What is the total number of employes providing...</td>\n",
       "      <td>select count(*) from `sl-test-project-363109.z...</td>\n",
       "      <td>[0.06246837228536606, -0.04506361484527588, 0....</td>\n",
       "    </tr>\n",
       "    <tr>\n",
       "      <th>3</th>\n",
       "      <td>48</td>\n",
       "      <td>What is the total revenue for constuction indu...</td>\n",
       "      <td>select sum(ZI_C_REVENUE) from `zoominfo.zi-com...</td>\n",
       "      <td>[0.029781630262732506, -0.03381987288594246, -...</td>\n",
       "    </tr>\n",
       "    <tr>\n",
       "      <th>4</th>\n",
       "      <td>49</td>\n",
       "      <td>What are the top 5 industries in terms of reve...</td>\n",
       "      <td>select ZI_C_INDUSTRY_PRIMARY</td>\n",
       "      <td>[0.035186998546123505, -0.03914893791079521, 0...</td>\n",
       "    </tr>\n",
       "    <tr>\n",
       "      <th>5</th>\n",
       "      <td>50</td>\n",
       "      <td>How many employees in California are from Dall...</td>\n",
       "      <td>select count(*) from `sl-test-project-363109.z...</td>\n",
       "      <td>[0.035889022052288055, -0.03150845319032669, -...</td>\n",
       "    </tr>\n",
       "    <tr>\n",
       "      <th>6</th>\n",
       "      <td>51</td>\n",
       "      <td>How many employees in California are from Livi...</td>\n",
       "      <td>select count(*) from `sl-test-project-363109.z...</td>\n",
       "      <td>[-0.0085710184648633, -0.041441068053245544, -...</td>\n",
       "    </tr>\n",
       "  </tbody>\n",
       "</table>\n",
       "</div>"
      ],
      "text/plain": [
       "   q_id                                           question  \\\n",
       "0    45  How many marketing agents work from zip code 3...   \n",
       "1    46  what is the revenue generated by sales agents ...   \n",
       "2    47  What is the total number of employes providing...   \n",
       "3    48  What is the total revenue for constuction indu...   \n",
       "4    49  What are the top 5 industries in terms of reve...   \n",
       "5    50  How many employees in California are from Dall...   \n",
       "6    51  How many employees in California are from Livi...   \n",
       "\n",
       "                                                 sql  \\\n",
       "0  select count(*) from `sl-test-project-363109.z...   \n",
       "1  select sum(ZI_C_REVENUE) as rev from `sl-test-...   \n",
       "2  select count(*) from `sl-test-project-363109.z...   \n",
       "3  select sum(ZI_C_REVENUE) from `zoominfo.zi-com...   \n",
       "4                       select ZI_C_INDUSTRY_PRIMARY   \n",
       "5  select count(*) from `sl-test-project-363109.z...   \n",
       "6  select count(*) from `sl-test-project-363109.z...   \n",
       "\n",
       "                                     query_embedding  \n",
       "0  [0.04187563434243202, -0.0557498037815094, 0.0...  \n",
       "1  [-0.005688739009201527, -0.06865667551755905, ...  \n",
       "2  [0.06246837228536606, -0.04506361484527588, 0....  \n",
       "3  [0.029781630262732506, -0.03381987288594246, -...  \n",
       "4  [0.035186998546123505, -0.03914893791079521, 0...  \n",
       "5  [0.035889022052288055, -0.03150845319032669, -...  \n",
       "6  [-0.0085710184648633, -0.041441068053245544, -...  "
      ]
     },
     "execution_count": 18,
     "metadata": {},
     "output_type": "execute_result"
    }
   ],
   "source": [
    "# Retrieve the data from the PostgreDB and return a dataframe\n",
    "def extract_data():\n",
    "    tmp = pge.extract_data()\n",
    "    df = DataFrame(tmp.fetchall())\n",
    "    print(df)\n",
    "    return df\n",
    "\n",
    "df = extract_data()\n",
    "df"
   ]
  },
  {
   "cell_type": "markdown",
   "id": "97df2654-cd26-4a15-97bc-1559ee5ea7c8",
   "metadata": {},
   "source": [
    "## Search the VectorDB for closest matching queries"
   ]
  },
  {
   "cell_type": "code",
   "execution_count": 19,
   "id": "37eaea89-24eb-4a0b-9311-0fac764379d7",
   "metadata": {},
   "outputs": [
    {
     "name": "stdout",
     "output_type": "stream",
     "text": [
      "Trying to read the index file ../../nl2sql-generic/nl2sql_src/cache_metadata/saved_index_pgdata\n"
     ]
    },
    {
     "data": {
      "text/plain": [
       "[{'question': 'What is the total revenue for constuction industry',\n",
       "  'sql': 'select sum(ZI_C_REVENUE) from `zoominfo.zi-companies-under-1000-employees-offering-tuition` where ZI_C_INDUSTRY_PRIMARY = \"Construction\"  ;'},\n",
       " {'question': 'what is the revenue generated by sales agents for Manufacturing industry?',\n",
       "  'sql': \"select sum(ZI_C_REVENUE) as rev from `sl-test-project-363109.zoominfo.zi-companies-with-most-marketing-professionals` where ZI_C_INDUSTRY_PRIMARY = 'Manufacturing';\"},\n",
       " {'question': 'What are the top 5 industries in terms of revenue for companies having headquarters in California ?',\n",
       "  'sql': 'select ZI_C_INDUSTRY_PRIMARY'}]"
      ]
     },
     "execution_count": 19,
     "metadata": {},
     "output_type": "execute_result"
    }
   ],
   "source": [
    "# Search for the closest matching queries\n",
    "new_query = 'What is the total revenue for Hospitality industry'\n",
    "output_json = pge.search_matching_queries(new_query)\n",
    "output_json"
   ]
  },
  {
   "cell_type": "markdown",
   "id": "19522b57-4805-45e1-91b4-184b541fa46f",
   "metadata": {},
   "source": [
    "## Clear VectorDB and re-create VectorDB from all data in PostgreSQL"
   ]
  },
  {
   "cell_type": "code",
   "execution_count": 11,
   "id": "5166735c-c8b3-4b55-b279-384cea367469",
   "metadata": {},
   "outputs": [
    {
     "name": "stdout",
     "output_type": "stream",
     "text": [
      "Number of elements :  28\n"
     ]
    }
   ],
   "source": [
    "pge.recreate_vectordb_index()"
   ]
  },
  {
   "cell_type": "markdown",
   "id": "495deeed",
   "metadata": {},
   "source": [
    "## Clear all Data in DB"
   ]
  },
  {
   "cell_type": "code",
   "execution_count": 14,
   "id": "2c069650",
   "metadata": {},
   "outputs": [
    {
     "name": "stdout",
     "output_type": "stream",
     "text": [
      "Empty DataFrame\n",
      "Columns: []\n",
      "Index: []\n"
     ]
    },
    {
     "data": {
      "text/html": [
       "<div>\n",
       "<style scoped>\n",
       "    .dataframe tbody tr th:only-of-type {\n",
       "        vertical-align: middle;\n",
       "    }\n",
       "\n",
       "    .dataframe tbody tr th {\n",
       "        vertical-align: top;\n",
       "    }\n",
       "\n",
       "    .dataframe thead th {\n",
       "        text-align: right;\n",
       "    }\n",
       "</style>\n",
       "<table border=\"1\" class=\"dataframe\">\n",
       "  <thead>\n",
       "    <tr style=\"text-align: right;\">\n",
       "      <th></th>\n",
       "    </tr>\n",
       "  </thead>\n",
       "  <tbody>\n",
       "  </tbody>\n",
       "</table>\n",
       "</div>"
      ],
      "text/plain": [
       "Empty DataFrame\n",
       "Columns: []\n",
       "Index: []"
      ]
     },
     "execution_count": 14,
     "metadata": {},
     "output_type": "execute_result"
    }
   ],
   "source": [
    "pge.empty_table()\n",
    "df = extract_data()\n",
    "df"
   ]
  },
  {
   "cell_type": "code",
   "execution_count": null,
   "id": "5f35f177",
   "metadata": {},
   "outputs": [],
   "source": []
  }
 ],
 "metadata": {
  "environment": {
   "kernel": "python3",
   "name": "common-cpu.m117",
   "type": "gcloud",
   "uri": "us-docker.pkg.dev/deeplearning-platform-release/gcr.io/base-cpu:m117"
  },
  "kernelspec": {
   "display_name": "Python 3 (Local)",
   "language": "python",
   "name": "python3"
  },
  "language_info": {
   "codemirror_mode": {
    "name": "ipython",
    "version": 3
   },
   "file_extension": ".py",
   "mimetype": "text/x-python",
   "name": "python",
   "nbconvert_exporter": "python",
   "pygments_lexer": "ipython3",
   "version": "3.11.2"
  }
 },
 "nbformat": 4,
 "nbformat_minor": 5
}
