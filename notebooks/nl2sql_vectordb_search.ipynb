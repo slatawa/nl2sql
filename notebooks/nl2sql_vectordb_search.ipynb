{
 "cells": [
  {
   "cell_type": "code",
   "execution_count": 2,
   "id": "96e3e0d9-3526-484a-9b9d-fcd9086eed6f",
   "metadata": {
    "tags": []
   },
   "outputs": [],
   "source": [
    "%load_ext autoreload\n",
    "%autoreload 2\n",
    "\n",
    "import sys  \n",
    "sys.path.insert(1, '../')"
   ]
  },
  {
   "cell_type": "code",
   "execution_count": 3,
   "id": "b6a94149-0613-4f0c-849a-d79ae513d56b",
   "metadata": {
    "tags": []
   },
   "outputs": [],
   "source": [
    "import numpy as np\n",
    "import faiss\n",
    "from pandas import DataFrame\n",
    "from datetime import datetime"
   ]
  },
  {
   "cell_type": "code",
   "execution_count": 4,
   "id": "af7ebc19-5887-47c3-ac92-51f0d0a7a6a1",
   "metadata": {},
   "outputs": [
    {
     "data": {
      "text/plain": [
       "'cdii-poc'"
      ]
     },
     "execution_count": 4,
     "metadata": {},
     "output_type": "execute_result"
    }
   ],
   "source": [
    "PROJECT_ID = ! gcloud config get project\n",
    "PROJECT_ID = PROJECT_ID[0]\n",
    "LOCATION = 'us-central1'\n",
    "PROJECT_ID"
   ]
  },
  {
   "cell_type": "markdown",
   "id": "20b78b78-87f4-40d8-8091-48c36214f923",
   "metadata": {},
   "source": [
    "# Query and Embeddings in PostgreSQL"
   ]
  },
  {
   "cell_type": "markdown",
   "id": "6c24f0e2-1a9c-4523-b003-14ca5862d405",
   "metadata": {
    "tags": []
   },
   "source": [
    "## Initialise"
   ]
  },
  {
   "cell_type": "code",
   "execution_count": 5,
   "id": "dca01556-babf-43ef-b90b-7a8717b2aed0",
   "metadata": {},
   "outputs": [
    {
     "name": "stdout",
     "output_type": "stream",
     "text": [
      "The autoreload extension is already loaded. To reload it, use:\n",
      "  %reload_ext autoreload\n",
      "class Initiated\n"
     ]
    }
   ],
   "source": [
    "%load_ext autoreload\n",
    "%autoreload 2\n",
    "from nl2sql_src.nl2sql_query_embeddings import PgSqlEmb\n",
    "\n",
    "# Make sure you update the following variables in-line with your project\n",
    "PGPROJ = \"cdii-poc\"\n",
    "PGLOCATION = 'us-central1'\n",
    "PGINSTANCE = \"cdii-demo-temp\"\n",
    "PGDB = \"demodbcdii\"\n",
    "PGUSER = \"postgres\"\n",
    "PGPWD = \"cdii-demo\"\n",
    "# INDX_FILE = 'saved_index_pgdata' # optoinal, considered as default\n",
    "\n",
    "pge = PgSqlEmb(PGPROJ, PGLOCATION, PGINSTANCE, PGDB, PGUSER, PGPWD)"
   ]
  },
  {
   "cell_type": "markdown",
   "id": "80863aec-605f-4e25-b457-c928e8111d24",
   "metadata": {
    "jp-MarkdownHeadingCollapsed": true,
    "tags": []
   },
   "source": [
    "## Create Table"
   ]
  },
  {
   "cell_type": "code",
   "execution_count": 6,
   "id": "5a1ce595-0390-4015-a34a-d2c0be576bb9",
   "metadata": {},
   "outputs": [],
   "source": [
    "# Create Table in PostgresDB if not already existing\n",
    "pge.create_table()"
   ]
  },
  {
   "cell_type": "markdown",
   "id": "6affea85-1ee4-4580-b837-5956890aee4d",
   "metadata": {},
   "source": [
    "## Retrieve data "
   ]
  },
  {
   "cell_type": "code",
   "execution_count": 8,
   "id": "bedf7577-feae-4813-a8ef-88fbc8698364",
   "metadata": {
    "tags": []
   },
   "outputs": [
    {
     "name": "stdout",
     "output_type": "stream",
     "text": [
      "    q_id                                           question  \\\n",
      "0    429  How many people are enrolled for Medi-Cal prog...   \n",
      "1    430            How many of them live in Nevada County?   \n",
      "2    431  How has participation in Medi-Cal progressed o...   \n",
      "3    432  How does CalWorks program participation trends...   \n",
      "4    433  In what way the race and ethnicity trends chan...   \n",
      "5    434  Which county has the greatest proportion of FP...   \n",
      "6    435  Which programs have the highest co-enrollment ...   \n",
      "7    436  Which county has the lowest enrollment in WIC ...   \n",
      "8    437  Which two counties have the highest number of ...   \n",
      "9    438  How many Hispanic beneficiaries are being serv...   \n",
      "10   439                   What is the breakdown by program   \n",
      "11   440  Which counties have the highest and lowest rat...   \n",
      "\n",
      "                                                  sql  \\\n",
      "0   SELECT  COALESCE(SUM(SAFE_CAST( Person AS INT6...   \n",
      "1   SELECT SUM(CAST(Person AS INT64)) AS total_ben...   \n",
      "2   select  year, sum(total_beneficiaries) as tota...   \n",
      "3   SELECT COALESCE(SUM(SAFE_CAST( White   AS INT6...   \n",
      "4   SELECT fileyear  AS calhhs_dashboard_2015_2020...   \n",
      "5   SELECT Number AS county, COALESCE(SUM(SAFE_CAS...   \n",
      "6   SELECT COALESCE(SUM(SAFE_CAST( Person   AS INT...   \n",
      "7   SELECT Vendor_Location  AS wic_redemption_by_c...   \n",
      "8   SELECT Vendor_Location,(vendor_cnt/total_parti...   \n",
      "9   SELECT  COALESCE(SUM(SAFE_CAST( Hispanic   AS ...   \n",
      "10  SELECT  Program, COALESCE(SUM(SAFE_CAST(  Hisp...   \n",
      "11  select annual_file.Number, (count(provider.OBJ...   \n",
      "\n",
      "                                      query_embedding  \n",
      "0   [0.009485369548201561, 0.003129353281110525, -...  \n",
      "1   [-0.03890972211956978, -0.01862681470811367, -...  \n",
      "2   [0.05054508149623871, 0.001993116457015276, -0...  \n",
      "3   [0.04451335594058037, -0.030554158613085747, -...  \n",
      "4   [0.04810802638530731, -0.012473777867853642, -...  \n",
      "5   [0.03396085649728775, -0.019975077360868454, -...  \n",
      "6   [0.04807215929031372, -0.01924615353345871, -0...  \n",
      "7   [0.050651632249355316, -0.04634733870625496, -...  \n",
      "8   [0.030069099739193916, -0.05773473158478737, -...  \n",
      "9   [0.011656521819531918, 0.01710379682481289, -0...  \n",
      "10  [-0.0013795827981084585, -0.03709886968135834,...  \n",
      "11  [0.02046346105635166, -0.029211677610874176, -...  \n"
     ]
    },
    {
     "data": {
      "text/html": [
       "<div>\n",
       "<style scoped>\n",
       "    .dataframe tbody tr th:only-of-type {\n",
       "        vertical-align: middle;\n",
       "    }\n",
       "\n",
       "    .dataframe tbody tr th {\n",
       "        vertical-align: top;\n",
       "    }\n",
       "\n",
       "    .dataframe thead th {\n",
       "        text-align: right;\n",
       "    }\n",
       "</style>\n",
       "<table border=\"1\" class=\"dataframe\">\n",
       "  <thead>\n",
       "    <tr style=\"text-align: right;\">\n",
       "      <th></th>\n",
       "      <th>q_id</th>\n",
       "      <th>question</th>\n",
       "      <th>sql</th>\n",
       "      <th>query_embedding</th>\n",
       "    </tr>\n",
       "  </thead>\n",
       "  <tbody>\n",
       "    <tr>\n",
       "      <th>0</th>\n",
       "      <td>429</td>\n",
       "      <td>How many people are enrolled for Medi-Cal prog...</td>\n",
       "      <td>SELECT  COALESCE(SUM(SAFE_CAST( Person AS INT6...</td>\n",
       "      <td>[0.009485369548201561, 0.003129353281110525, -...</td>\n",
       "    </tr>\n",
       "    <tr>\n",
       "      <th>1</th>\n",
       "      <td>430</td>\n",
       "      <td>How many of them live in Nevada County?</td>\n",
       "      <td>SELECT SUM(CAST(Person AS INT64)) AS total_ben...</td>\n",
       "      <td>[-0.03890972211956978, -0.01862681470811367, -...</td>\n",
       "    </tr>\n",
       "    <tr>\n",
       "      <th>2</th>\n",
       "      <td>431</td>\n",
       "      <td>How has participation in Medi-Cal progressed o...</td>\n",
       "      <td>select  year, sum(total_beneficiaries) as tota...</td>\n",
       "      <td>[0.05054508149623871, 0.001993116457015276, -0...</td>\n",
       "    </tr>\n",
       "    <tr>\n",
       "      <th>3</th>\n",
       "      <td>432</td>\n",
       "      <td>How does CalWorks program participation trends...</td>\n",
       "      <td>SELECT COALESCE(SUM(SAFE_CAST( White   AS INT6...</td>\n",
       "      <td>[0.04451335594058037, -0.030554158613085747, -...</td>\n",
       "    </tr>\n",
       "    <tr>\n",
       "      <th>4</th>\n",
       "      <td>433</td>\n",
       "      <td>In what way the race and ethnicity trends chan...</td>\n",
       "      <td>SELECT fileyear  AS calhhs_dashboard_2015_2020...</td>\n",
       "      <td>[0.04810802638530731, -0.012473777867853642, -...</td>\n",
       "    </tr>\n",
       "    <tr>\n",
       "      <th>5</th>\n",
       "      <td>434</td>\n",
       "      <td>Which county has the greatest proportion of FP...</td>\n",
       "      <td>SELECT Number AS county, COALESCE(SUM(SAFE_CAS...</td>\n",
       "      <td>[0.03396085649728775, -0.019975077360868454, -...</td>\n",
       "    </tr>\n",
       "    <tr>\n",
       "      <th>6</th>\n",
       "      <td>435</td>\n",
       "      <td>Which programs have the highest co-enrollment ...</td>\n",
       "      <td>SELECT COALESCE(SUM(SAFE_CAST( Person   AS INT...</td>\n",
       "      <td>[0.04807215929031372, -0.01924615353345871, -0...</td>\n",
       "    </tr>\n",
       "    <tr>\n",
       "      <th>7</th>\n",
       "      <td>436</td>\n",
       "      <td>Which county has the lowest enrollment in WIC ...</td>\n",
       "      <td>SELECT Vendor_Location  AS wic_redemption_by_c...</td>\n",
       "      <td>[0.050651632249355316, -0.04634733870625496, -...</td>\n",
       "    </tr>\n",
       "    <tr>\n",
       "      <th>8</th>\n",
       "      <td>437</td>\n",
       "      <td>Which two counties have the highest number of ...</td>\n",
       "      <td>SELECT Vendor_Location,(vendor_cnt/total_parti...</td>\n",
       "      <td>[0.030069099739193916, -0.05773473158478737, -...</td>\n",
       "    </tr>\n",
       "    <tr>\n",
       "      <th>9</th>\n",
       "      <td>438</td>\n",
       "      <td>How many Hispanic beneficiaries are being serv...</td>\n",
       "      <td>SELECT  COALESCE(SUM(SAFE_CAST( Hispanic   AS ...</td>\n",
       "      <td>[0.011656521819531918, 0.01710379682481289, -0...</td>\n",
       "    </tr>\n",
       "    <tr>\n",
       "      <th>10</th>\n",
       "      <td>439</td>\n",
       "      <td>What is the breakdown by program</td>\n",
       "      <td>SELECT  Program, COALESCE(SUM(SAFE_CAST(  Hisp...</td>\n",
       "      <td>[-0.0013795827981084585, -0.03709886968135834,...</td>\n",
       "    </tr>\n",
       "    <tr>\n",
       "      <th>11</th>\n",
       "      <td>440</td>\n",
       "      <td>Which counties have the highest and lowest rat...</td>\n",
       "      <td>select annual_file.Number, (count(provider.OBJ...</td>\n",
       "      <td>[0.02046346105635166, -0.029211677610874176, -...</td>\n",
       "    </tr>\n",
       "  </tbody>\n",
       "</table>\n",
       "</div>"
      ],
      "text/plain": [
       "    q_id                                           question  \\\n",
       "0    429  How many people are enrolled for Medi-Cal prog...   \n",
       "1    430            How many of them live in Nevada County?   \n",
       "2    431  How has participation in Medi-Cal progressed o...   \n",
       "3    432  How does CalWorks program participation trends...   \n",
       "4    433  In what way the race and ethnicity trends chan...   \n",
       "5    434  Which county has the greatest proportion of FP...   \n",
       "6    435  Which programs have the highest co-enrollment ...   \n",
       "7    436  Which county has the lowest enrollment in WIC ...   \n",
       "8    437  Which two counties have the highest number of ...   \n",
       "9    438  How many Hispanic beneficiaries are being serv...   \n",
       "10   439                   What is the breakdown by program   \n",
       "11   440  Which counties have the highest and lowest rat...   \n",
       "\n",
       "                                                  sql  \\\n",
       "0   SELECT  COALESCE(SUM(SAFE_CAST( Person AS INT6...   \n",
       "1   SELECT SUM(CAST(Person AS INT64)) AS total_ben...   \n",
       "2   select  year, sum(total_beneficiaries) as tota...   \n",
       "3   SELECT COALESCE(SUM(SAFE_CAST( White   AS INT6...   \n",
       "4   SELECT fileyear  AS calhhs_dashboard_2015_2020...   \n",
       "5   SELECT Number AS county, COALESCE(SUM(SAFE_CAS...   \n",
       "6   SELECT COALESCE(SUM(SAFE_CAST( Person   AS INT...   \n",
       "7   SELECT Vendor_Location  AS wic_redemption_by_c...   \n",
       "8   SELECT Vendor_Location,(vendor_cnt/total_parti...   \n",
       "9   SELECT  COALESCE(SUM(SAFE_CAST( Hispanic   AS ...   \n",
       "10  SELECT  Program, COALESCE(SUM(SAFE_CAST(  Hisp...   \n",
       "11  select annual_file.Number, (count(provider.OBJ...   \n",
       "\n",
       "                                      query_embedding  \n",
       "0   [0.009485369548201561, 0.003129353281110525, -...  \n",
       "1   [-0.03890972211956978, -0.01862681470811367, -...  \n",
       "2   [0.05054508149623871, 0.001993116457015276, -0...  \n",
       "3   [0.04451335594058037, -0.030554158613085747, -...  \n",
       "4   [0.04810802638530731, -0.012473777867853642, -...  \n",
       "5   [0.03396085649728775, -0.019975077360868454, -...  \n",
       "6   [0.04807215929031372, -0.01924615353345871, -0...  \n",
       "7   [0.050651632249355316, -0.04634733870625496, -...  \n",
       "8   [0.030069099739193916, -0.05773473158478737, -...  \n",
       "9   [0.011656521819531918, 0.01710379682481289, -0...  \n",
       "10  [-0.0013795827981084585, -0.03709886968135834,...  \n",
       "11  [0.02046346105635166, -0.029211677610874176, -...  "
      ]
     },
     "execution_count": 8,
     "metadata": {},
     "output_type": "execute_result"
    }
   ],
   "source": [
    "# Retrieve the data from the PostgreDB and return a dataframe\n",
    "def extract_data():\n",
    "    tmp = pge.extract_data()\n",
    "    df = DataFrame(tmp.fetchall())\n",
    "    print(df)\n",
    "    return df\n",
    "\n",
    "df = extract_data()\n",
    "df"
   ]
  },
  {
   "cell_type": "markdown",
   "id": "f9243a49-09fd-448d-b4f3-468fae614439",
   "metadata": {},
   "source": [
    "## Insert records to PostgreSQL and update index"
   ]
  },
  {
   "cell_type": "code",
   "execution_count": null,
   "id": "6fb40e99-cf8f-4f33-8f82-14a4c2518669",
   "metadata": {
    "tags": []
   },
   "outputs": [],
   "source": [
    "new_question = \"\"\n",
    "mapped_sql = \"\"\n",
    "pge.insert_row(new_question, mapped_sql)"
   ]
  },
  {
   "cell_type": "markdown",
   "id": "97df2654-cd26-4a15-97bc-1559ee5ea7c8",
   "metadata": {},
   "source": [
    "## Search the VectorDB for closest matching queries"
   ]
  },
  {
   "cell_type": "code",
   "execution_count": null,
   "id": "37eaea89-24eb-4a0b-9311-0fac764379d7",
   "metadata": {},
   "outputs": [],
   "source": [
    "# Search for the closest matching queries\n",
    "new_query = 'What county has the highest number of beneficiaries enrolled in the WIC per capita?'\n",
    "output_json = pge.search_matching_queries(new_query)\n",
    "output_json"
   ]
  },
  {
   "cell_type": "markdown",
   "id": "19522b57-4805-45e1-91b4-184b541fa46f",
   "metadata": {},
   "source": [
    "## Clear VectorDB and re-create VectorDB from all data in PostgreSQL"
   ]
  },
  {
   "cell_type": "code",
   "execution_count": 24,
   "id": "5166735c-c8b3-4b55-b279-384cea367469",
   "metadata": {},
   "outputs": [
    {
     "name": "stdout",
     "output_type": "stream",
     "text": [
      "Number of elements :  12\n"
     ]
    }
   ],
   "source": [
    "pge.recreate_vectordb_index()"
   ]
  },
  {
   "cell_type": "markdown",
   "id": "495deeed",
   "metadata": {},
   "source": [
    "## Clear all Data in DB"
   ]
  },
  {
   "cell_type": "code",
   "execution_count": null,
   "id": "2c069650",
   "metadata": {},
   "outputs": [],
   "source": [
    "# pge.empty_table()\n",
    "df = extract_data()\n",
    "df"
   ]
  },
  {
   "cell_type": "code",
   "execution_count": null,
   "id": "c323014f",
   "metadata": {},
   "outputs": [],
   "source": []
  }
 ],
 "metadata": {
  "environment": {
   "kernel": "python3",
   "name": "common-cpu.m117",
   "type": "gcloud",
   "uri": "us-docker.pkg.dev/deeplearning-platform-release/gcr.io/base-cpu:m117"
  },
  "kernelspec": {
   "display_name": "Python 3 (Local)",
   "language": "python",
   "name": "python3"
  },
  "language_info": {
   "codemirror_mode": {
    "name": "ipython",
    "version": 3
   },
   "file_extension": ".py",
   "mimetype": "text/x-python",
   "name": "python",
   "nbconvert_exporter": "python",
   "pygments_lexer": "ipython3",
   "version": "3.11.2"
  }
 },
 "nbformat": 4,
 "nbformat_minor": 5
}
