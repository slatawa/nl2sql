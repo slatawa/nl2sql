{
 "cells": [
  {
   "cell_type": "code",
   "execution_count": 1,
   "metadata": {
    "tags": []
   },
   "outputs": [],
   "source": [
    "import pandas as pd\n",
    "import gradio as gr\n",
    "from custom_prompt_chain import *"
   ]
  },
  {
   "cell_type": "code",
   "execution_count": 2,
   "metadata": {
    "tags": []
   },
   "outputs": [],
   "source": [
    "test_file_name = \"dataset/test_dataset_all_tables.csv\"\n",
    "test_df = pd.read_csv(test_file_name)\n",
    "questions = test_df.question.tolist()\n",
    "del questions[10]\n",
    "del questions[1]"
   ]
  },
  {
   "cell_type": "code",
   "execution_count": 10,
   "metadata": {
    "tags": []
   },
   "outputs": [
    {
     "name": "stderr",
     "output_type": "stream",
     "text": [
      "/var/tmp/ipykernel_40529/1914722928.py:10: GradioDeprecationWarning: 'scale' value should be an integer. Using 2.5 will cause issues.\n",
      "  question = gr.Dropdown(choices=questions,\n"
     ]
    },
    {
     "name": "stdout",
     "output_type": "stream",
     "text": [
      "Running on local URL:  http://127.0.0.1:7890\n",
      "Running on public URL: https://3794d024fd5fac534d.gradio.live\n",
      "\n",
      "This share link expires in 72 hours. For free permanent hosting and GPU upgrades, run `gradio deploy` from Terminal to deploy to Spaces (https://huggingface.co/spaces)\n"
     ]
    },
    {
     "data": {
      "text/html": [
       "<div><iframe src=\"https://3794d024fd5fac534d.gradio.live\" width=\"100%\" height=\"500\" allow=\"autoplay; camera; microphone; clipboard-read; clipboard-write;\" frameborder=\"0\" allowfullscreen></iframe></div>"
      ],
      "text/plain": [
       "<IPython.core.display.HTML object>"
      ]
     },
     "metadata": {},
     "output_type": "display_data"
    },
    {
     "data": {
      "text/plain": []
     },
     "execution_count": 10,
     "metadata": {},
     "output_type": "execute_result"
    },
    {
     "name": "stderr",
     "output_type": "stream",
     "text": [
      "/home/jupyter/.local/lib/python3.10/site-packages/gradio/components/button.py:89: UserWarning: Using the update method is deprecated. Simply return a new object instead, e.g. `return gr.Button(...)` instead of `return gr.Button.update(...)`.\n",
      "  warnings.warn(\n",
      "/home/jupyter/.local/lib/python3.10/site-packages/gradio/components/button.py:89: UserWarning: Using the update method is deprecated. Simply return a new object instead, e.g. `return gr.Button(...)` instead of `return gr.Button.update(...)`.\n",
      "  warnings.warn(\n"
     ]
    }
   ],
   "source": [
    "def b_clicked(b):\n",
    "    if b:\n",
    "        return gr.Button.update(interactive=True)\n",
    "    else:\n",
    "        return gr.Button.update(interactive=False, value=False)\n",
    "\n",
    "with gr.Blocks(theme='JohnSmith9982/small_and_pretty') as demo:\n",
    "    gr.Markdown(\"Select a question or type your own and then click **Run**\")\n",
    "    with gr.Row():\n",
    "        question = gr.Dropdown(choices=questions, \n",
    "                          label=\"Select or Type a question\", allow_custom_value=True, scale=2.5)\n",
    "        sql_to_nl = gr.Checkbox(label=\"Natural Language ouput\")\n",
    "        need_insights = gr.Checkbox(label=\"Detailed Insights\", interactive=False)\n",
    "    \n",
    "    btn = gr.Button(\"Run\")\n",
    "        \n",
    "    sql_out = gr.Textbox(label=\"SQL Query\")\n",
    "    results_out = gr.Textbox(label=\"Results\")\n",
    "    insights_out = gr.Textbox(label=\"Insights\")\n",
    "    \n",
    "    sql_to_nl.change(fn = b_clicked, inputs = sql_to_nl, outputs = need_insights)\n",
    "    btn.click(fn=gen_sql, inputs=[question, sql_to_nl, need_insights] , outputs=[sql_out, results_out, insights_out])\n",
    "\n",
    "demo.launch(share=True)"
   ]
  },
  {
   "cell_type": "code",
   "execution_count": null,
   "metadata": {},
   "outputs": [],
   "source": []
  },
  {
   "cell_type": "code",
   "execution_count": null,
   "metadata": {},
   "outputs": [],
   "source": [
    "# DATA_DICT_LOCATION_GCS = \"gs://fiserv/fiserv_data_dict.json\""
   ]
  },
  {
   "cell_type": "code",
   "execution_count": 2,
   "metadata": {},
   "outputs": [
    {
     "name": "stdout",
     "output_type": "stream",
     "text": [
      "Copying gs://fiserv/fiserv_data_dict.json...\n",
      "- [1 files][  1.7 KiB/  1.7 KiB]                                                \n",
      "Operation completed over 1 objects/1.7 KiB.                                      \n"
     ]
    }
   ],
   "source": [
    "!gsutil cp $DATA_DICT_LOCATION_GCS data_dictionary.json"
   ]
  },
  {
   "cell_type": "code",
   "execution_count": 1,
   "metadata": {},
   "outputs": [],
   "source": [
    "log_bucket=\"nl2sql-logs\"\n",
    "data_dict_loc=\"fiserv_data_dict.json\"\n",
    "postprocessors=['case_handler_transform']"
   ]
  },
  {
   "cell_type": "code",
   "execution_count": 3,
   "metadata": {},
   "outputs": [],
   "source": [
    "from nl2sql.nl2sql import AskBQ"
   ]
  },
  {
   "cell_type": "code",
   "execution_count": 2,
   "metadata": {},
   "outputs": [
    {
     "name": "stdout",
     "output_type": "stream",
     "text": [
      "Running on local URL:  http://127.0.0.1:7860\n"
     ]
    },
    {
     "name": "stderr",
     "output_type": "stream",
     "text": [
      "/opt/homebrew/lib/python3.11/site-packages/google/cloud/bigquery/client.py:562: UserWarning: Cannot create BigQuery Storage client, the dependency google-cloud-bigquery-storage is not installed.\n",
      "  warnings.warn(\n",
      "Traceback (most recent call last):\n",
      "  File \"/opt/homebrew/lib/python3.11/site-packages/gradio/queueing.py\", line 407, in call_prediction\n",
      "    output = await route_utils.call_process_api(\n",
      "             ^^^^^^^^^^^^^^^^^^^^^^^^^^^^^^^^^^^\n",
      "  File \"/opt/homebrew/lib/python3.11/site-packages/gradio/route_utils.py\", line 226, in call_process_api\n",
      "    output = await app.get_blocks().process_api(\n",
      "             ^^^^^^^^^^^^^^^^^^^^^^^^^^^^^^^^^^^\n",
      "  File \"/opt/homebrew/lib/python3.11/site-packages/gradio/blocks.py\", line 1550, in process_api\n",
      "    result = await self.call_function(\n",
      "             ^^^^^^^^^^^^^^^^^^^^^^^^^\n",
      "  File \"/opt/homebrew/lib/python3.11/site-packages/gradio/blocks.py\", line 1185, in call_function\n",
      "    prediction = await anyio.to_thread.run_sync(\n",
      "                 ^^^^^^^^^^^^^^^^^^^^^^^^^^^^^^^\n",
      "  File \"/opt/homebrew/lib/python3.11/site-packages/anyio/to_thread.py\", line 33, in run_sync\n",
      "    return await get_asynclib().run_sync_in_worker_thread(\n",
      "           ^^^^^^^^^^^^^^^^^^^^^^^^^^^^^^^^^^^^^^^^^^^^^^^\n",
      "  File \"/opt/homebrew/lib/python3.11/site-packages/anyio/_backends/_asyncio.py\", line 877, in run_sync_in_worker_thread\n",
      "    return await future\n",
      "           ^^^^^^^^^^^^\n",
      "  File \"/opt/homebrew/lib/python3.11/site-packages/anyio/_backends/_asyncio.py\", line 807, in run\n",
      "    result = context.run(func, *args)\n",
      "             ^^^^^^^^^^^^^^^^^^^^^^^^\n",
      "  File \"/opt/homebrew/lib/python3.11/site-packages/gradio/utils.py\", line 661, in wrapper\n",
      "    response = f(*args, **kwargs)\n",
      "               ^^^^^^^^^^^^^^^^^^\n",
      "  File \"/var/folders/9r/dk59vr653tdbtv5rf25js0sh011w00/T/ipykernel_89389/552302672.py\", line 118, in <lambda>\n",
      "    AskBQ(\n",
      "  File \"/opt/homebrew/lib/python3.11/site-packages/pydantic/main.py\", line 164, in __init__\n",
      "    __pydantic_self__.__pydantic_validator__.validate_python(data, self_instance=__pydantic_self__)\n",
      "  File \"/Users/koushikchak/ai/adani-genai/WS1_Demo/nl2sql/nl2sql.py\", line 279, in model_post_init\n",
      "    cdesc = col.name + \" : \" + data_dict[f\"{tname}.{col.name}\"]\n",
      "                               ~~~~~~~~~^^^^^^^^^^^^^^^^^^^^^^^\n",
      "KeyError: 'authorizations_search.Card_Expiry_Date'\n",
      "/opt/homebrew/lib/python3.11/site-packages/google/cloud/bigquery/client.py:562: UserWarning: Cannot create BigQuery Storage client, the dependency google-cloud-bigquery-storage is not installed.\n",
      "  warnings.warn(\n",
      "WARNING: parse invoke code failed, This may affect feature of export code.\n",
      "WARNING:pygwalker.services.format_invoke_walk_code:parse invoke code failed, This may affect feature of export code.\n",
      "/opt/homebrew/lib/python3.11/site-packages/langchain/chains/llm.py:280: UserWarning: The predict_and_parse method is deprecated, instead pass an output parser directly to LLMChain.\n",
      "  warnings.warn(\n",
      "WARNING: parse invoke code failed, This may affect feature of export code.\n",
      "WARNING:pygwalker.services.format_invoke_walk_code:parse invoke code failed, This may affect feature of export code.\n"
     ]
    },
    {
     "name": "stdout",
     "output_type": "stream",
     "text": [
      "Keyboard interruption in main thread... closing server.\n"
     ]
    },
    {
     "data": {
      "text/plain": []
     },
     "execution_count": 2,
     "metadata": {},
     "output_type": "execute_result"
    }
   ],
   "source": [
    "#@title App Setup\n",
    "\n",
    "import gradio as gr\n",
    "import pygwalker as pyg\n",
    "from nl2sql.nl2sql import AskBQ\n",
    "from pygments import highlight\n",
    "from pygments.lexers import SqlLexer\n",
    "from pygments.formatters import HtmlFormatter\n",
    "\n",
    "with gr.Blocks() as demo:\n",
    "  gr.Markdown(\"# NL2SQL Experiment Demo\")\n",
    "  askbq = gr.State()\n",
    "\n",
    "  with gr.Accordion(\"Initial Config\") as accordion_init_config:\n",
    "    input_location = gr.Textbox(\n",
    "      label=\"Location\",\n",
    "      value=\"us-central1\")\n",
    "    input_project_id = gr.Textbox(\n",
    "      label=\"Project ID\",\n",
    "      value=\"poc-project-guleria\")\n",
    "    input_dataset_id = gr.Textbox(\n",
    "      label=\"Dataset ID\",\n",
    "      value=\"genai_poc\")\n",
    "    input_table_names = gr.Textbox(\n",
    "      label=\"Comma Separated Table Names\",\n",
    "      value= \"authorizations_search\"\n",
    "    )\n",
    "    input_enum_option_limit = gr.Number(\n",
    "      label=\"Maximum number of distinct items in a column to consider it an enum\",\n",
    "      value=20,\n",
    "      minimum = 0,\n",
    "      step=1,\n",
    "      precision=0\n",
    "    )\n",
    "    input_result_row_limit = gr.Number(\n",
    "      label=\"Maximum Row Limit\",\n",
    "      value=1000,\n",
    "      minimum = 0,\n",
    "      step=1,\n",
    "      precision=0\n",
    "    )\n",
    "    input_include_data_dict = gr.Checkbox(\n",
    "      label=\"Leverage predefined Data Dictionary?\", value=False\n",
    "    )\n",
    "    input_include_postprocessor = gr.Checkbox(\n",
    "      label=\"Leverage predefined Postprocessor for case correction?\", value=False\n",
    "    )\n",
    "    input_obj_init = gr.Button(value=\"Save\", variant='primary')\n",
    "\n",
    "  with gr.Group(visible = False) as group_input:\n",
    "    question = gr.Dropdown(\n",
    "      label=\"Natural Language Question\",\n",
    "      multiselect = False,\n",
    "      allow_custom_value = True,\n",
    "      show_label = True,\n",
    "      choices = [\n",
    "        \"What were the sales in the last week?\",\n",
    "      ]\n",
    "    )\n",
    "    input_run_nl = gr.Button(value=\"Run\", variant='primary', interactive=False)\n",
    "\n",
    "  text_buffer = gr.Textbox(\n",
    "    value=\"Enter a question and click on 'Run'\",\n",
    "    interactive=False,\n",
    "    container=False,\n",
    "    visible=False\n",
    "  )\n",
    "\n",
    "  with gr.Group(visible = False) as group_output:\n",
    "    with gr.Tab(\"Results\"):\n",
    "      with gr.Row(equal_height=True):\n",
    "        html_sql = gr.HTML()\n",
    "        dataframe_results = gr.Dataframe()\n",
    "    with gr.Tab(\"BI\"):\n",
    "      html_results = gr.HTML()\n",
    "\n",
    "  question.change(\n",
    "    lambda q : (\n",
    "      gr.update(interactive=True)\n",
    "      if q\n",
    "      else gr.update(interactive=False)\n",
    "    ),\n",
    "    [question],\n",
    "    [input_run_nl]\n",
    "  )\n",
    "\n",
    "  input_run_nl.click(\n",
    "    lambda question, obj : next(\n",
    "      map(\n",
    "        lambda result : [\n",
    "          highlight(\n",
    "            result.latest_sql,\n",
    "            SqlLexer(),\n",
    "            HtmlFormatter(style='native', noclasses=True)\n",
    "          ).replace(\"background: #202020\", \"\") if result.latest_sql else (\n",
    "              \"<br>\".join(\n",
    "                  [\"QUERY GENERATION FAILED :\"] + [\n",
    "                      v.exception for v in result.logs.values()\n",
    "                      if v.exception is not None\n",
    "                  ]\n",
    "              )\n",
    "          ),\n",
    "          result.latest_data,\n",
    "          pyg.walk(result.latest_data, return_html=True) if result.latest_sql else \"QUERY GENERATION FAILED\",\n",
    "          gr.update(visible=True),\n",
    "          f\"Execution ID : {result.id}\"\n",
    "        ],\n",
    "        [obj(question)]\n",
    "      ),\n",
    "    ),\n",
    "    [question, askbq],\n",
    "    [html_sql, dataframe_results, html_results, group_output, text_buffer]\n",
    "  )\n",
    "\n",
    "  input_obj_init.click(\n",
    "    lambda location, project_id, dataset_id, table_names, result_row_limit,\n",
    "      enum_option_limit, include_data_dict, include_postprocessor : [\n",
    "      AskBQ(\n",
    "        location = location,\n",
    "        project_id = project_id,\n",
    "        dataset_id = dataset_id,\n",
    "        table_names = [i.strip() for i in table_names.split(',')],\n",
    "        enum_option_limit = enum_option_limit,\n",
    "        result_row_limit = result_row_limit,\n",
    "        log_bucket=log_bucket,\n",
    "        data_dict_loc=data_dict_loc if include_data_dict else None,\n",
    "        postprocessors=postprocessors if include_postprocessor else []\n",
    "      ),\n",
    "      gr.Accordion(label=\"Initial Config\", open=False),\n",
    "      gr.update(visible=True),\n",
    "      gr.update(visible=True),\n",
    "    ],\n",
    "    [\n",
    "      input_location,\n",
    "      input_project_id,\n",
    "      input_dataset_id,\n",
    "      input_table_names,\n",
    "      input_result_row_limit,\n",
    "      input_enum_option_limit,\n",
    "      input_include_data_dict,\n",
    "      input_include_postprocessor\n",
    "    ],\n",
    "    [\n",
    "      askbq,\n",
    "      accordion_init_config,\n",
    "      group_input,\n",
    "      text_buffer\n",
    "    ]\n",
    "  )\n",
    "\n",
    "demo.queue().launch(\n",
    "  share=False,\n",
    "  quiet=True,\n",
    "  debug=True,\n",
    "  inline=False,\n",
    "#   auth=(\"adani_google_poc\", \"1230-=/.,cxz\")\n",
    ")"
   ]
  },
  {
   "cell_type": "code",
   "execution_count": null,
   "metadata": {},
   "outputs": [],
   "source": []
  }
 ],
 "metadata": {
  "environment": {
   "kernel": "python3",
   "name": ".m113",
   "type": "gcloud",
   "uri": "gcr.io/deeplearning-platform-release/:m113"
  },
  "kernelspec": {
   "display_name": "Python 3",
   "language": "python",
   "name": "python3"
  },
  "language_info": {
   "codemirror_mode": {
    "name": "ipython",
    "version": 3
   },
   "file_extension": ".py",
   "mimetype": "text/x-python",
   "name": "python",
   "nbconvert_exporter": "python",
   "pygments_lexer": "ipython3",
   "version": "3.10.13"
  }
 },
 "nbformat": 4,
 "nbformat_minor": 4
}
