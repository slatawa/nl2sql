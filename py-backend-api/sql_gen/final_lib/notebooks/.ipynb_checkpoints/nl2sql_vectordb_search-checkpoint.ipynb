{
 "cells": [
  {
   "cell_type": "code",
   "execution_count": 5,
   "id": "96e3e0d9-3526-484a-9b9d-fcd9086eed6f",
   "metadata": {
    "tags": []
   },
   "outputs": [],
   "source": [
    "%load_ext autoreload\n",
    "%autoreload 2\n",
    "\n",
    "import sys  \n",
    "sys.path.insert(1, '../')"
   ]
  },
  {
   "cell_type": "code",
   "execution_count": 1,
   "id": "b6a94149-0613-4f0c-849a-d79ae513d56b",
   "metadata": {
    "tags": []
   },
   "outputs": [],
   "source": [
    "import numpy as np\n",
    "import faiss\n",
    "from pandas import DataFrame\n",
    "from datetime import datetime"
   ]
  },
  {
   "cell_type": "code",
   "execution_count": 2,
   "id": "af7ebc19-5887-47c3-ac92-51f0d0a7a6a1",
   "metadata": {},
   "outputs": [
    {
     "data": {
      "text/plain": [
       "'cdii-poc'"
      ]
     },
     "execution_count": 2,
     "metadata": {},
     "output_type": "execute_result"
    }
   ],
   "source": [
    "PROJECT_ID = ! gcloud config get project\n",
    "PROJECT_ID = PROJECT_ID[0]\n",
    "LOCATION = 'us-central1'\n",
    "PROJECT_ID"
   ]
  },
  {
   "cell_type": "markdown",
   "id": "2a318617-b941-4da4-94af-d7a1739073c7",
   "metadata": {},
   "source": [
    "# Query and Embeddings in local file and Local Vector indices Search"
   ]
  },
  {
   "cell_type": "markdown",
   "id": "6c51279a-b0a3-41a7-856e-14046a8cc76c",
   "metadata": {
    "tags": []
   },
   "source": [
    "## Initialise"
   ]
  },
  {
   "cell_type": "code",
   "execution_count": 10,
   "id": "da55b3cb-4512-4a5e-861b-24a4c8d6b11b",
   "metadata": {},
   "outputs": [],
   "source": [
    "from nl2sql_src.nl2sql_query_embeddings import Nl2Sql_embed\n",
    "nse = Nl2Sql_embed()"
   ]
  },
  {
   "cell_type": "markdown",
   "id": "695477d7-66d5-40b6-805b-7734196730bb",
   "metadata": {},
   "source": [
    "## Add new question to the query library"
   ]
  },
  {
   "cell_type": "code",
   "execution_count": 11,
   "id": "18566302-ee67-4e29-81bc-c8e4fdcaa654",
   "metadata": {},
   "outputs": [],
   "source": [
    "new_question = \"\"\n",
    "new_sql = \"\"\n",
    "# insert the new question to the embeddings.json file \n",
    "# nse.insert_data(new_question, new_sql)"
   ]
  },
  {
   "cell_type": "markdown",
   "id": "c42e50d1-d5dd-4da7-bb8b-70a6b8e4e682",
   "metadata": {},
   "source": [
    "## Retrieve Data"
   ]
  },
  {
   "cell_type": "code",
   "execution_count": 12,
   "id": "c0880091-d6da-4a1d-941c-d0255884c8d7",
   "metadata": {},
   "outputs": [],
   "source": [
    "embeddings_data = nse.load_embeddings()"
   ]
  },
  {
   "cell_type": "markdown",
   "id": "b38883fb-9cb0-4c10-b42b-de94a2d11b80",
   "metadata": {},
   "source": [
    "## Create VectorDB"
   ]
  },
  {
   "cell_type": "code",
   "execution_count": 13,
   "id": "442c3176-aebb-46f1-85f1-146c75d8f8f3",
   "metadata": {},
   "outputs": [
    {
     "name": "stdout",
     "output_type": "stream",
     "text": [
      "12\n"
     ]
    }
   ],
   "source": [
    "# Creates the Vector index and saves it in a local file 'saved_index' for later use\n",
    "nse.create_vectordb_index()"
   ]
  },
  {
   "cell_type": "markdown",
   "id": "25bda209-a0db-427d-9f8b-8f40c9c1edc6",
   "metadata": {},
   "source": [
    "## Search the VectorDB for closest matching queries"
   ]
  },
  {
   "cell_type": "code",
   "execution_count": 14,
   "id": "94571dd4-1916-4474-acf7-4f8d91b9e073",
   "metadata": {},
   "outputs": [],
   "source": [
    "# Search for the closest matching queries\n",
    "new_query = 'What county has the highest number of beneficiaries enrolled in the WIC per capita?'\n",
    "output_json = nse.search_matching_queries(new_query)"
   ]
  },
  {
   "cell_type": "code",
   "execution_count": 15,
   "id": "27b642f7-f65e-4dfa-aa12-8411462c33c4",
   "metadata": {},
   "outputs": [
    {
     "data": {
      "text/plain": [
       "[{'question': 'Which five counties have the lowest number of WIC authorized vendors compared to WIC participants?',\n",
       "  'sql': 'SELECT Vendor_Location,(vendor_cnt/total_participants)*100 as vendor_participants_ratio FROM ((SELECT TRIM(Vendor_Location) AS Vendor_Location,COALESCE(SUM(SAFE_CAST(_Number_of_Participants_Redeemed_ AS INT64))) as total_participants FROM `cdii-poc.HHS_Program_Counts.wic-redemption-by-county-by-participant-category-data-2010-2018`  group by Vendor_Location) as participants JOIN (SELECT TRIM(COUNTY) AS COUNTY,count(VENDOR) as vendor_cnt FROM `cdii-poc.HHS_Program_Counts.women-infants-and-children-wic-authorized-vendors`  group by COUNTY having COUNTY is not null) as vendors ON UPPER(participants.Vendor_Location)=UPPER(vendors.COUNTY)) WHERE (vendor_cnt/total_participants)*100 is not null order by vendor_participants_ratio asc limit 5;'},\n",
       " {'question': 'How has participation in CalFresh changed since 2015?',\n",
       "  'sql': \"select  year, sum(total_beneficiaries) as total_beneficiaries, round(ifnull(100 * (sum(total_beneficiaries)/lag(sum(total_beneficiaries)) over(order by year asc) - 1), 0), 2)  AS percentage_change from (SELECT fileyear AS year,  SUM(SAFE_CAST( Person   AS INT64)) total_beneficiaries, FROM `cdii-poc.HHS_Program_Counts.calhhs-dashboard-2015-2020-annual-data-file`  AS annual_file WHERE (Program = 'CalFresh') group by year ORDER BY year)group by year order by year;\"},\n",
       " {'question': 'What county has the greatest enrollment in WIC per capita?',\n",
       "  'sql': 'SELECT Vendor_Location  AS wic_redemption_by_county_by_participant_category_data_2010_2018_vendor_location, COALESCE(SUM(SAFE_CAST(( SUBSTR (Total_Cost_Vouchers,2,  (INSTR (Total_Cost_Vouchers, \".\") -2))  ) AS INT64)), 0) AS wic_redemption_by_county_by_participant_category_data_2010_2018_total_cost_of_vouchers_1 FROM `cdii-poc.HHS_Program_Counts.wic-redemption-by-county-by-participant-category-data-2010-2018`  AS wic_redemption_by_county_by_participant_category_data_2010_2018 WHERE (Total_Cost_Vouchers) <> \\'*\\' OR (Total_Cost_Vouchers) IS NULL GROUP BY wic_redemption_by_county_by_participant_category_data_2010_2018_vendor_location ORDER BY wic_redemption_by_county_by_participant_category_data_2010_2018_total_cost_of_vouchers_1 DESC limit 1;'}]"
      ]
     },
     "execution_count": 15,
     "metadata": {},
     "output_type": "execute_result"
    }
   ],
   "source": [
    "output_json"
   ]
  },
  {
   "cell_type": "markdown",
   "id": "20b78b78-87f4-40d8-8091-48c36214f923",
   "metadata": {},
   "source": [
    "# Query and Embeddings in PostgreSQL"
   ]
  },
  {
   "cell_type": "markdown",
   "id": "6c24f0e2-1a9c-4523-b003-14ca5862d405",
   "metadata": {
    "tags": []
   },
   "source": [
    "## Initialise"
   ]
  },
  {
   "cell_type": "code",
   "execution_count": 19,
   "id": "dca01556-babf-43ef-b90b-7a8717b2aed0",
   "metadata": {},
   "outputs": [
    {
     "name": "stdout",
     "output_type": "stream",
     "text": [
      "The autoreload extension is already loaded. To reload it, use:\n",
      "  %reload_ext autoreload\n"
     ]
    }
   ],
   "source": [
    "%load_ext autoreload\n",
    "%autoreload 2\n",
    "from nl2sql_src.nl2sql_query_embeddings import PgSqlEmb\n",
    "\n",
    "PGPROJ = \"cdii-poc\"\n",
    "PGLOCATION = 'us-central1'\n",
    "PGINSTANCE = \"cdii-demo-temp\"\n",
    "PGDB = \"demodbcdii\"\n",
    "PGUSER = \"postgres\"\n",
    "PGPWD = \"cdii-demo\"\n",
    "# INDX_FILE = 'saved_index_pgdata' # optoinal, considered as default\n",
    "\n",
    "pge = PgSqlEmb(PGPROJ, PGLOCATION, PGINSTANCE, PGDB, PGUSER, PGPWD)"
   ]
  },
  {
   "cell_type": "markdown",
   "id": "80863aec-605f-4e25-b457-c928e8111d24",
   "metadata": {},
   "source": [
    "## Create Table"
   ]
  },
  {
   "cell_type": "code",
   "execution_count": 20,
   "id": "5a1ce595-0390-4015-a34a-d2c0be576bb9",
   "metadata": {},
   "outputs": [],
   "source": [
    "# Create Table in PostgresDB if not already existing\n",
    "pge.create_table()"
   ]
  },
  {
   "cell_type": "markdown",
   "id": "6affea85-1ee4-4580-b837-5956890aee4d",
   "metadata": {},
   "source": [
    "## Retrieve data "
   ]
  },
  {
   "cell_type": "code",
   "execution_count": 21,
   "id": "bedf7577-feae-4813-a8ef-88fbc8698364",
   "metadata": {
    "tags": []
   },
   "outputs": [
    {
     "name": "stdout",
     "output_type": "stream",
     "text": [
      "   q_id                                           question  \\\n",
      "0   397       How many of them live in Los Angeles County?   \n",
      "1   398  How has participation in CalFresh changed sinc...   \n",
      "2   399  How do CalFresh program participation trends d...   \n",
      "3   400  How have these race and ethnicity trends chang...   \n",
      "4   401  Which programs have the highest co-enrollment ...   \n",
      "5   402  Which five counties have the lowest number of ...   \n",
      "6   403  How many Black individuals are served across C...   \n",
      "7   404                   What is the breakdown by program   \n",
      "\n",
      "                                                 sql  \\\n",
      "0  SELECT SUM(CAST(Person AS INT64)) AS total_ben...   \n",
      "1  select  year, sum(total_beneficiaries) as tota...   \n",
      "2  SELECT COALESCE(SUM(SAFE_CAST( White   AS INT6...   \n",
      "3  SELECT fileyear  AS calhhs_dashboard_2015_2020...   \n",
      "4  SELECT COALESCE(SUM(SAFE_CAST( Person   AS INT...   \n",
      "5  SELECT Vendor_Location,(vendor_cnt/total_parti...   \n",
      "6  SELECT  COALESCE(SUM(SAFE_CAST( Black   AS INT...   \n",
      "7  SELECT  Program,COALESCE(SUM(SAFE_CAST( Black ...   \n",
      "\n",
      "                                     query_embedding  \n",
      "0  [-0.02457154355943203, -0.0190061517059803, -0...  \n",
      "1  [0.012649155221879482, 0.00679197208955884, -0...  \n",
      "2  [0.00884826947003603, -0.014465585350990295, -...  \n",
      "3  [0.04074668511748314, -0.0178860891610384, -0....  \n",
      "4  [0.02137165702879429, -0.013408240862190723, -...  \n",
      "5  [0.04454430192708969, -0.047861456871032715, -...  \n",
      "6  [0.017948927357792854, -0.0162324458360672, -0...  \n",
      "7  [-0.0013795827981084585, -0.03709886968135834,...  \n"
     ]
    }
   ],
   "source": [
    "# Retrieve the data from the PostgreDB and return a dataframe\n",
    "def extract_data():\n",
    "    tmp = pge.extract_data()\n",
    "    df = DataFrame(tmp.fetchall())\n",
    "    print(df)\n",
    "    return df\n",
    "\n",
    "df = extract_data()"
   ]
  },
  {
   "cell_type": "markdown",
   "id": "ccfa5944-78df-4b6c-9518-a15060061c78",
   "metadata": {},
   "source": [
    "## Clear all Data in DB"
   ]
  },
  {
   "cell_type": "code",
   "execution_count": null,
   "id": "b26d5150-0570-4e47-b4ba-b2ace8a83c95",
   "metadata": {},
   "outputs": [],
   "source": [
    "pge.empty_table()\n",
    "df = extract_data()"
   ]
  },
  {
   "cell_type": "markdown",
   "id": "5d53a7e3-7f62-4c6f-a7d3-d4b82986c8d9",
   "metadata": {},
   "source": [
    "## Add rows data to DB"
   ]
  },
  {
   "cell_type": "code",
   "execution_count": null,
   "id": "959085a5-5cf6-4d9a-87cf-909f62b2b75c",
   "metadata": {},
   "outputs": [],
   "source": [
    "import json\n",
    "with open(\"embeddings.json\", \"r\") as f:\n",
    "    data = json.load(f)\n",
    "    \n",
    "iter = 1\n",
    "num_rows = 15\n",
    "for elem in data:\n",
    "    if iter > num_rows:\n",
    "        break\n",
    "    pge.insert_row(elem['question'], elem['sql']) #, elem['question_embedding'])\n",
    "    iter += 1\n",
    "        \n",
    "# df = retrieve_data()\n",
    "# df"
   ]
  },
  {
   "cell_type": "code",
   "execution_count": 22,
   "id": "66ed7081-cdfb-4cf9-9383-f066f8dad347",
   "metadata": {
    "tags": []
   },
   "outputs": [
    {
     "name": "stdout",
     "output_type": "stream",
     "text": [
      "   q_id                                           question  \\\n",
      "0   397       How many of them live in Los Angeles County?   \n",
      "1   398  How has participation in CalFresh changed sinc...   \n",
      "2   399  How do CalFresh program participation trends d...   \n",
      "3   400  How have these race and ethnicity trends chang...   \n",
      "4   401  Which programs have the highest co-enrollment ...   \n",
      "5   402  Which five counties have the lowest number of ...   \n",
      "6   403  How many Black individuals are served across C...   \n",
      "7   404                   What is the breakdown by program   \n",
      "\n",
      "                                                 sql  \\\n",
      "0  SELECT SUM(CAST(Person AS INT64)) AS total_ben...   \n",
      "1  select  year, sum(total_beneficiaries) as tota...   \n",
      "2  SELECT COALESCE(SUM(SAFE_CAST( White   AS INT6...   \n",
      "3  SELECT fileyear  AS calhhs_dashboard_2015_2020...   \n",
      "4  SELECT COALESCE(SUM(SAFE_CAST( Person   AS INT...   \n",
      "5  SELECT Vendor_Location,(vendor_cnt/total_parti...   \n",
      "6  SELECT  COALESCE(SUM(SAFE_CAST( Black   AS INT...   \n",
      "7  SELECT  Program,COALESCE(SUM(SAFE_CAST( Black ...   \n",
      "\n",
      "                                     query_embedding  \n",
      "0  [-0.02457154355943203, -0.0190061517059803, -0...  \n",
      "1  [0.012649155221879482, 0.00679197208955884, -0...  \n",
      "2  [0.00884826947003603, -0.014465585350990295, -...  \n",
      "3  [0.04074668511748314, -0.0178860891610384, -0....  \n",
      "4  [0.02137165702879429, -0.013408240862190723, -...  \n",
      "5  [0.04454430192708969, -0.047861456871032715, -...  \n",
      "6  [0.017948927357792854, -0.0162324458360672, -0...  \n",
      "7  [-0.0013795827981084585, -0.03709886968135834,...  \n"
     ]
    },
    {
     "data": {
      "text/html": [
       "<div>\n",
       "<style scoped>\n",
       "    .dataframe tbody tr th:only-of-type {\n",
       "        vertical-align: middle;\n",
       "    }\n",
       "\n",
       "    .dataframe tbody tr th {\n",
       "        vertical-align: top;\n",
       "    }\n",
       "\n",
       "    .dataframe thead th {\n",
       "        text-align: right;\n",
       "    }\n",
       "</style>\n",
       "<table border=\"1\" class=\"dataframe\">\n",
       "  <thead>\n",
       "    <tr style=\"text-align: right;\">\n",
       "      <th></th>\n",
       "      <th>q_id</th>\n",
       "      <th>question</th>\n",
       "      <th>sql</th>\n",
       "      <th>query_embedding</th>\n",
       "    </tr>\n",
       "  </thead>\n",
       "  <tbody>\n",
       "    <tr>\n",
       "      <th>0</th>\n",
       "      <td>397</td>\n",
       "      <td>How many of them live in Los Angeles County?</td>\n",
       "      <td>SELECT SUM(CAST(Person AS INT64)) AS total_ben...</td>\n",
       "      <td>[-0.02457154355943203, -0.0190061517059803, -0...</td>\n",
       "    </tr>\n",
       "    <tr>\n",
       "      <th>1</th>\n",
       "      <td>398</td>\n",
       "      <td>How has participation in CalFresh changed sinc...</td>\n",
       "      <td>select  year, sum(total_beneficiaries) as tota...</td>\n",
       "      <td>[0.012649155221879482, 0.00679197208955884, -0...</td>\n",
       "    </tr>\n",
       "    <tr>\n",
       "      <th>2</th>\n",
       "      <td>399</td>\n",
       "      <td>How do CalFresh program participation trends d...</td>\n",
       "      <td>SELECT COALESCE(SUM(SAFE_CAST( White   AS INT6...</td>\n",
       "      <td>[0.00884826947003603, -0.014465585350990295, -...</td>\n",
       "    </tr>\n",
       "    <tr>\n",
       "      <th>3</th>\n",
       "      <td>400</td>\n",
       "      <td>How have these race and ethnicity trends chang...</td>\n",
       "      <td>SELECT fileyear  AS calhhs_dashboard_2015_2020...</td>\n",
       "      <td>[0.04074668511748314, -0.0178860891610384, -0....</td>\n",
       "    </tr>\n",
       "    <tr>\n",
       "      <th>4</th>\n",
       "      <td>401</td>\n",
       "      <td>Which programs have the highest co-enrollment ...</td>\n",
       "      <td>SELECT COALESCE(SUM(SAFE_CAST( Person   AS INT...</td>\n",
       "      <td>[0.02137165702879429, -0.013408240862190723, -...</td>\n",
       "    </tr>\n",
       "    <tr>\n",
       "      <th>5</th>\n",
       "      <td>402</td>\n",
       "      <td>Which five counties have the lowest number of ...</td>\n",
       "      <td>SELECT Vendor_Location,(vendor_cnt/total_parti...</td>\n",
       "      <td>[0.04454430192708969, -0.047861456871032715, -...</td>\n",
       "    </tr>\n",
       "    <tr>\n",
       "      <th>6</th>\n",
       "      <td>403</td>\n",
       "      <td>How many Black individuals are served across C...</td>\n",
       "      <td>SELECT  COALESCE(SUM(SAFE_CAST( Black   AS INT...</td>\n",
       "      <td>[0.017948927357792854, -0.0162324458360672, -0...</td>\n",
       "    </tr>\n",
       "    <tr>\n",
       "      <th>7</th>\n",
       "      <td>404</td>\n",
       "      <td>What is the breakdown by program</td>\n",
       "      <td>SELECT  Program,COALESCE(SUM(SAFE_CAST( Black ...</td>\n",
       "      <td>[-0.0013795827981084585, -0.03709886968135834,...</td>\n",
       "    </tr>\n",
       "  </tbody>\n",
       "</table>\n",
       "</div>"
      ],
      "text/plain": [
       "   q_id                                           question  \\\n",
       "0   397       How many of them live in Los Angeles County?   \n",
       "1   398  How has participation in CalFresh changed sinc...   \n",
       "2   399  How do CalFresh program participation trends d...   \n",
       "3   400  How have these race and ethnicity trends chang...   \n",
       "4   401  Which programs have the highest co-enrollment ...   \n",
       "5   402  Which five counties have the lowest number of ...   \n",
       "6   403  How many Black individuals are served across C...   \n",
       "7   404                   What is the breakdown by program   \n",
       "\n",
       "                                                 sql  \\\n",
       "0  SELECT SUM(CAST(Person AS INT64)) AS total_ben...   \n",
       "1  select  year, sum(total_beneficiaries) as tota...   \n",
       "2  SELECT COALESCE(SUM(SAFE_CAST( White   AS INT6...   \n",
       "3  SELECT fileyear  AS calhhs_dashboard_2015_2020...   \n",
       "4  SELECT COALESCE(SUM(SAFE_CAST( Person   AS INT...   \n",
       "5  SELECT Vendor_Location,(vendor_cnt/total_parti...   \n",
       "6  SELECT  COALESCE(SUM(SAFE_CAST( Black   AS INT...   \n",
       "7  SELECT  Program,COALESCE(SUM(SAFE_CAST( Black ...   \n",
       "\n",
       "                                     query_embedding  \n",
       "0  [-0.02457154355943203, -0.0190061517059803, -0...  \n",
       "1  [0.012649155221879482, 0.00679197208955884, -0...  \n",
       "2  [0.00884826947003603, -0.014465585350990295, -...  \n",
       "3  [0.04074668511748314, -0.0178860891610384, -0....  \n",
       "4  [0.02137165702879429, -0.013408240862190723, -...  \n",
       "5  [0.04454430192708969, -0.047861456871032715, -...  \n",
       "6  [0.017948927357792854, -0.0162324458360672, -0...  \n",
       "7  [-0.0013795827981084585, -0.03709886968135834,...  "
      ]
     },
     "execution_count": 22,
     "metadata": {},
     "output_type": "execute_result"
    }
   ],
   "source": [
    "df = extract_data()\n",
    "df"
   ]
  },
  {
   "cell_type": "markdown",
   "id": "f9243a49-09fd-448d-b4f3-468fae614439",
   "metadata": {},
   "source": [
    "## Insert records to PostgreSQL and update index"
   ]
  },
  {
   "cell_type": "code",
   "execution_count": null,
   "id": "6fb40e99-cf8f-4f33-8f82-14a4c2518669",
   "metadata": {
    "tags": []
   },
   "outputs": [],
   "source": [
    "# pge.insert_row(data[10]['question'], data[10]['sql'])\n",
    "# pge.insert_row(data[11]['question'], data[11]['sql'])"
   ]
  },
  {
   "cell_type": "markdown",
   "id": "97df2654-cd26-4a15-97bc-1559ee5ea7c8",
   "metadata": {},
   "source": [
    "## Search the VectorDB for closest matching queries"
   ]
  },
  {
   "cell_type": "code",
   "execution_count": 23,
   "id": "37eaea89-24eb-4a0b-9311-0fac764379d7",
   "metadata": {},
   "outputs": [],
   "source": [
    "# Search for the closest matching queries\n",
    "new_query = 'What county has the highest number of beneficiaries enrolled in the WIC per capita?'\n",
    "output_json = pge.search_matching_queries(new_query)"
   ]
  },
  {
   "cell_type": "code",
   "execution_count": null,
   "id": "dff40f1a-76f5-42b6-bf39-5a76beeffc3d",
   "metadata": {
    "tags": []
   },
   "outputs": [],
   "source": [
    "output_json"
   ]
  },
  {
   "cell_type": "markdown",
   "id": "19522b57-4805-45e1-91b4-184b541fa46f",
   "metadata": {},
   "source": [
    "## Clear VectorDB and re-create VectorDB from all data in PostgreSQL"
   ]
  },
  {
   "cell_type": "code",
   "execution_count": 24,
   "id": "5166735c-c8b3-4b55-b279-384cea367469",
   "metadata": {},
   "outputs": [
    {
     "name": "stdout",
     "output_type": "stream",
     "text": [
      "Number of elements :  8\n"
     ]
    }
   ],
   "source": [
    "pge.recreate_vectordb_index()"
   ]
  },
  {
   "cell_type": "markdown",
   "id": "527c91e2-a53c-41a8-83bd-f832bd1c2f5e",
   "metadata": {},
   "source": [
    "## Create Matching Engine VectorDB for searches"
   ]
  },
  {
   "cell_type": "code",
   "execution_count": null,
   "id": "d3ccdbe8-3583-44c3-93d6-9735a4d8059b",
   "metadata": {},
   "outputs": [],
   "source": [
    "end\n",
    "UID = datetime.now().strftime(\"%m%d%H%M\")\n",
    "BUCKET_URI = f\"gs://{PROJECT_ID}-vs-cdii-questions-{UID}\""
   ]
  },
  {
   "cell_type": "code",
   "execution_count": null,
   "id": "9817c898-e4cb-49e3-9cd2-23e3bc71cd42",
   "metadata": {},
   "outputs": [],
   "source": [
    "from google.cloud import aiplatform\n",
    "import jsonlines\n",
    "aiplatform.init(project=PROJECT_ID, location=LOCATION)"
   ]
  },
  {
   "cell_type": "code",
   "execution_count": null,
   "id": "a181097a-1239-4f4c-921f-b10d72fada2b",
   "metadata": {},
   "outputs": [],
   "source": [
    "questions, sqls, embeddings = pge.extract_pg_embeddings()"
   ]
  },
  {
   "cell_type": "code",
   "execution_count": null,
   "id": "fea31906-9f5f-431e-bfe1-f7585ef48111",
   "metadata": {},
   "outputs": [],
   "source": [
    "EMBED_FILE = 'cdii_pg_embeddings.json'\n",
    "q_id = 1\n",
    "data = []\n",
    "for q_emb in embeddings:\n",
    "    jsonl = {\n",
    "                \"id\": q_id,\n",
    "                \"embedding\" : q_emb\n",
    "            }\n",
    "    q_id += 1\n",
    "    data.append(jsonl)\n",
    "\n",
    "\n",
    "with jsonlines.open(EMBED_FILE, mode='w') as writer:\n",
    "    for item in data:\n",
    "        writer.write(item)\n",
    "\n",
    "! gsutil mb -l \"$LOCATION\" -p \"$PROJECT_ID\" \"$BUCKET_URI\"\n",
    "! gsutil cp \"$EMBED_FILE\" \"$BUCKET_URI\""
   ]
  },
  {
   "cell_type": "code",
   "execution_count": null,
   "id": "74d7c990-013b-4d5d-9fad-abed48e05435",
   "metadata": {},
   "outputs": [],
   "source": [
    "# Create the Index\n",
    "me_index = aiplatform.MatchingEngineIndex.create_tree_ah_index(\n",
    "    display_name=f\"vs_cdii_queries_index_{UID}\",\n",
    "    contents_delta_uri = BUCKET_URI,\n",
    "    dimensions = 768,\n",
    "    approximate_neighbors_count = 3\n",
    ")\n"
   ]
  },
  {
   "cell_type": "code",
   "execution_count": null,
   "id": "f7024447-7642-4bf6-b9a3-d6a54981abd2",
   "metadata": {},
   "outputs": [],
   "source": [
    "# Create Search Endpoint and Deploy \n",
    "me_index_ep = aiplatform.MatchingEngineIndexEndpoint.create(\n",
    "    display_name = f\"vs_cdii_ep_{UID}\",\n",
    "    public_endpoint_enabled=True\n",
    ")\n"
   ]
  },
  {
   "cell_type": "code",
   "execution_count": null,
   "id": "960ffee6-bfc6-48d3-9fd4-46dd95582187",
   "metadata": {
    "tags": []
   },
   "outputs": [],
   "source": [
    "DEPLOYED_INDEX_ID = f\"vs_cdii_deployed_index_{UID}\"\n",
    "me_index_ep.deploy_index(index=me_index, deployed_index_id=DEPLOYED_INDEX_ID)"
   ]
  },
  {
   "cell_type": "code",
   "execution_count": null,
   "id": "7af8ddaf-9c47-44c0-b51e-1484fdbf1e7b",
   "metadata": {
    "tags": []
   },
   "outputs": [],
   "source": [
    "new_query = 'What county has the highest number of beneficiaries enrolled in the WIC per capita?'\n",
    "\n",
    "q_embeddings, _ = nse.generate_embedding(new_query)\n",
    "\n",
    "response = me_index_ep.find_neighbors(\n",
    "    deployed_index_id = DEPLOYED_INDEX_ID,\n",
    "    queries = [q_embeddings],\n",
    "    num_neighbors=3\n",
    ")\n",
    "response"
   ]
  },
  {
   "cell_type": "code",
   "execution_count": null,
   "id": "dd727b73-3078-4126-8caa-da09a0a1b5c7",
   "metadata": {
    "tags": []
   },
   "outputs": [],
   "source": [
    "for idx, neighbor in enumerate(response[0]):\n",
    "    indx = int(neighbor.id)\n",
    "    print(questions[indx-1], '\\n', sqls[indx-1])"
   ]
  },
  {
   "cell_type": "markdown",
   "id": "6e5e9f5e-c110-4c89-a1f4-f7a73864891a",
   "metadata": {},
   "source": [
    "## Test clearing of index file"
   ]
  },
  {
   "cell_type": "code",
   "execution_count": null,
   "id": "3473d250-3134-46db-8cef-8d203937c603",
   "metadata": {
    "tags": []
   },
   "outputs": [],
   "source": [
    "from faiss import write_index, read_index, IDSelectorBatch\n",
    "index = read_index('saved_index_pgdata-tmp')"
   ]
  },
  {
   "cell_type": "code",
   "execution_count": null,
   "id": "7f4c7177-7374-4de4-b779-21a5495c620e",
   "metadata": {
    "tags": []
   },
   "outputs": [],
   "source": [
    "idsel = IDSelectorBatch(768, faiss.swig_ptr(ids))\n",
    "index.remove_ids(idsel)"
   ]
  },
  {
   "cell_type": "code",
   "execution_count": null,
   "id": "b38dc7ce-c143-4dcd-8134-3ea489c5836c",
   "metadata": {},
   "outputs": [],
   "source": []
  },
  {
   "cell_type": "code",
   "execution_count": null,
   "id": "07cd7ef6-ab3f-482b-9073-a431eca751e2",
   "metadata": {},
   "outputs": [],
   "source": []
  }
 ],
 "metadata": {
  "environment": {
   "kernel": "python3",
   "name": "common-cpu.m117",
   "type": "gcloud",
   "uri": "us-docker.pkg.dev/deeplearning-platform-release/gcr.io/base-cpu:m117"
  },
  "kernelspec": {
   "display_name": "Python 3 (Local)",
   "language": "python",
   "name": "python3"
  },
  "language_info": {
   "codemirror_mode": {
    "name": "ipython",
    "version": 3
   },
   "file_extension": ".py",
   "mimetype": "text/x-python",
   "name": "python",
   "nbconvert_exporter": "python",
   "pygments_lexer": "ipython3",
   "version": "3.10.13"
  }
 },
 "nbformat": 4,
 "nbformat_minor": 5
}
