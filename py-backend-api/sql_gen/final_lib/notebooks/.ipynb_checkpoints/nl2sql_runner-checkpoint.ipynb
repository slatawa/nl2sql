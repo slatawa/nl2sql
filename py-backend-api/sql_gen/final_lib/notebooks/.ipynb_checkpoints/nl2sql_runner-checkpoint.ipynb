{
 "cells": [
  {
   "cell_type": "code",
   "execution_count": 1,
   "id": "6d02eb83-addf-4847-9d70-52000fc099f4",
   "metadata": {
    "tags": []
   },
   "outputs": [],
   "source": [
    "%load_ext autoreload\n",
    "%autoreload 2\n",
    "\n",
    "import sys  \n",
    "sys.path.insert(1, '../')"
   ]
  },
  {
   "cell_type": "code",
   "execution_count": 18,
   "id": "92b70b8a-f2fa-4254-8f83-20dd48ca232a",
   "metadata": {},
   "outputs": [],
   "source": [
    "from nl2sql_src.nl2sql_generic import Nl2sqlBq_rag\n",
    "import pandas as pd\n",
    "from pandas import DataFrame\n",
    "\n",
    "import json\n",
    "\n",
    "import vertexai\n",
    "from vertexai.language_models import TextGenerationModel"
   ]
  },
  {
   "cell_type": "code",
   "execution_count": 19,
   "id": "a50cfd2f-8977-4e5e-9e15-584e219620f9",
   "metadata": {},
   "outputs": [],
   "source": [
    "project_id = \"cdii-poc\"\n",
    "dataset_id = \"HHS_Program_Counts\""
   ]
  },
  {
   "cell_type": "code",
   "execution_count": 20,
   "id": "16e4b96f-5ed4-470f-a49d-d4da69c4af69",
   "metadata": {},
   "outputs": [],
   "source": [
    "questions = [\"How many people are enrolled in CalFresh?\",\n",
    "             \"Which county has the greatest proportion of CalFresh recipients co-enrolled in at least one additional program?\",\n",
    "             \"What county has the greatest enrollment in WIC per capita?\",\n",
    "              #\"How many Black individuals are served across CalHHS programs?\",\n",
    "              \"Which counties have the highest and lowest ratios of providers to enrolled participants in Medi-Cal?\",\n",
    "             ]"
   ]
  },
  {
   "cell_type": "code",
   "execution_count": 21,
   "id": "391977e7-eea2-4ccf-9826-846e1e36553e",
   "metadata": {},
   "outputs": [
    {
     "data": {
      "text/plain": [
       "'Which county has the greatest proportion of CalFresh recipients co-enrolled in at least one additional program?'"
      ]
     },
     "execution_count": 21,
     "metadata": {},
     "output_type": "execute_result"
    }
   ],
   "source": [
    "question = questions[1]\n",
    "question\n",
    "# question = 'Which county has the greatest proportion of CalFresh recipients co-enrolled in at least one additional program? '"
   ]
  },
  {
   "cell_type": "markdown",
   "id": "aaed1407-b654-4466-b3ba-4746b477721e",
   "metadata": {},
   "source": [
    "### Generate SQL with zero-shot prompting"
   ]
  },
  {
   "cell_type": "code",
   "execution_count": 22,
   "id": "1f23563b-671d-4e60-b541-f8e32a6a7f5e",
   "metadata": {},
   "outputs": [],
   "source": [
    "# Initializing when metadata cache is already created\n",
    "meta_data_json_path = \"../cache_metadata/metadata_cache.json\"\n",
    "# meta_data_json_path = \"../cache_metadata/updated-metadata.json\"\n",
    "nl2sqlbq_client = Nl2sqlBq_rag(project_id=project_id,\n",
    "                           dataset_id=dataset_id,\n",
    "                           metadata_json_path = meta_data_json_path, #\"../cache_metadata/metadata_cache.json\",\n",
    "                           model_name=\"text-bison\"\n",
    "                           # model_name=\"code-bison\"\n",
    "                          )\n"
   ]
  },
  {
   "cell_type": "code",
   "execution_count": 23,
   "id": "baee487a-0612-419a-b0bc-388cd5199234",
   "metadata": {
    "tags": []
   },
   "outputs": [
    {
     "name": "stdout",
     "output_type": "stream",
     "text": [
      "Which county has the greatest proportion of CalFresh recipients co-enrolled in at least one additional program?\n",
      "Table Filter -  ['calhhs-dashboard-2015-2020-annual-data-file']\n",
      "Which county has the greatest proportion of CalFresh recipients co-enrolled in at least one additional program?\n",
      "Table Filter -  ['calhhs-dashboard-2015-2020-annual-data-file']\n",
      " \n",
      "SELECT \n",
      "  county,\n",
      "  (CAST(_1_program AS FLOAT) / CAST(CalFresh AS FLOAT)) AS prop_coenrolled\n",
      "FROM cdii-poc.HHS_Program_Counts.`calhhs-dashboard-2015-2020-annual-data-file`\n",
      "WHERE \n",
      "  CalFresh > 0\n",
      "ORDER BY \n",
      "  prop_coenrolled DESC\n",
      "LIMIT 1;\n",
      "\n"
     ]
    }
   ],
   "source": [
    "print(question)\n",
    "table_info = nl2sqlbq_client.table_filter(question)\n",
    "table_info\n",
    "\n",
    "sql_query = nl2sqlbq_client.text_to_sql(question)\n",
    "print(sql_query)"
   ]
  },
  {
   "cell_type": "markdown",
   "id": "417e4d55-dcd6-4f65-a560-82ed4f17e7be",
   "metadata": {
    "tags": []
   },
   "source": [
    "## Using PostgreSQL and VectorDB indices to search for Closest matching queries for Few-shot prompting"
   ]
  },
  {
   "cell_type": "markdown",
   "id": "e6a45e9c-b451-4c6b-8264-1014f0b0e31d",
   "metadata": {},
   "source": [
    "### Initialize the PostgreDB\n",
    "Please make sure the PostgreDB instance and database are created"
   ]
  },
  {
   "cell_type": "code",
   "execution_count": 24,
   "id": "8dfcb1a6-a59c-4998-a6ee-b5147252dc50",
   "metadata": {},
   "outputs": [],
   "source": [
    "# Table name is 'documents'\n",
    "\n",
    "PGPROJ = \"cdii-poc\"\n",
    "PGLOCATION = 'us-central1'\n",
    "PGINSTANCE = \"cdii-demo-temp\"\n",
    "PGDB = \"demodbcdii\"\n",
    "PGUSER = \"postgres\"\n",
    "PGPWD = \"cdii-demo\"\n",
    "\n",
    "nl2sqlbq_client.init_pgdb(PGPROJ, PGLOCATION, PGINSTANCE, PGDB, PGUSER, PGPWD)\n",
    "\n",
    "\n"
   ]
  },
  {
   "cell_type": "markdown",
   "id": "adc72d8d-71e9-47fe-a935-e08be93e2931",
   "metadata": {},
   "source": [
    "### Sql Generation with few-shot prompting"
   ]
  },
  {
   "cell_type": "code",
   "execution_count": 25,
   "id": "42bf9115-0930-44c8-a076-123987eb547b",
   "metadata": {},
   "outputs": [
    {
     "name": "stdout",
     "output_type": "stream",
     "text": [
      "Which county has the greatest proportion of CalFresh recipients co-enrolled in at least one additional program?\n",
      "Table Filter -  ['calhhs-dashboard-2015-2020-annual-data-file']\n",
      "Which county has the greatest proportion of CalFresh recipients co-enrolled in at least one additional program?\n",
      "Table Filter -  ['calhhs-dashboard-2015-2020-annual-data-file']\n",
      "Table name  calhhs-dashboard-2015-2020-annual-data-file\n",
      " \n",
      "SELECT Number AS county, \n",
      "       COALESCE(SUM(CAST(Person AS INT64)), 0) AS total_calfresh_recipients,\n",
      "       COALESCE(SUM(CAST(_2_programs AS INT64)), 0) AS num_calfresh_recipients_co_enrolled_in_at_least_one_other_program,\n",
      "       COALESCE(SUM(CAST(_2_programs AS INT64)) / SUM(CAST(Person AS INT64)), 0) AS prop_calfresh_recipients_co_enrolled_in_at_least_one_other_program\n",
      "FROM `cdii-poc.HHS_Program_Counts.calhhs-dashboard-2015-2020-annual-data-file`\n",
      "WHERE Level = 'County'\n",
      "  AND (Number <> 'County Total' OR Number IS NULL)\n",
      "  AND Program = 'CalFresh'\n",
      "GROUP BY county\n",
      "ORDER BY prop_calfresh_recipients_co_enrolled_in_at_least_one_other_program DESC\n",
      "LIMIT 1;\n",
      "\n"
     ]
    }
   ],
   "source": [
    "print(question)\n",
    "table_info = nl2sqlbq_client.table_filter(question)\n",
    "table_info\n",
    "\n",
    "sql_query = nl2sqlbq_client.text_to_sql_fewshot(question)\n",
    "print(sql_query)"
   ]
  },
  {
   "cell_type": "code",
   "execution_count": 26,
   "id": "cadc3674-5c2e-4e8f-886c-b4fea709ed00",
   "metadata": {
    "tags": []
   },
   "outputs": [],
   "source": [
    "# nl2sqlbq_client_raw = Nl2sqlBq(project_id=project_id,\n",
    "#                            dataset_id=dataset_id,\n",
    "#                            metadata_json_path = \"metadata_cache.json\",\n",
    "#                            model_name=\"text-bison\"\n",
    "#                           )\n",
    "# question = questions[1]\n",
    "# print(question)\n",
    "# table_info = nl2sqlbq_client_raw.table_filter(question)\n",
    "# table_info\n",
    "\n",
    "# sql_query = nl2sqlbq_client_raw.text_to_sql(question)\n",
    "# print(sql_query)"
   ]
  },
  {
   "cell_type": "code",
   "execution_count": 27,
   "id": "69114cd9-54d8-4e88-bbf3-04a3249aa294",
   "metadata": {
    "tags": []
   },
   "outputs": [],
   "source": [
    "all_questions = [\"How many people are enrolled in CalFresh?\",\n",
    "    \"How many of them live in Los Angeles County?\",\n",
    "    \"How has participation in CalFresh changed since 2015?\",\n",
    "    \"How do CalFresh program participation trends differ by race and ethnicity?\",\n",
    "    \"How have these race and ethnicity trends changed over time?\",\n",
    "    \"Which county has the greatest proportion of CalFresh recipients co-enrolled in at least one additional program?\",\n",
    "    \"What about three or more additional programs?\",\n",
    "    \"Which programs have the highest co-enrollment with CalFresh?\",\n",
    "    \"What county has the greatest enrollment in WIC per capita?\",\n",
    "    \"Which five counties have the lowest number of WIC authorized vendors compared to WIC participants?\",\n",
    "    \"How do infant mortality rates, low birthweight rates, and preterm and very preterm rates compare to WIC enrollment rates by county?\",\n",
    "    \"How many Black individuals are served across CalHHS programs?\",\n",
    "    \"What is the breakdown by program?\",\n",
    "    \"Has this changed over time?\",\n",
    "    \"Change over time by program?\",\n",
    "    \"Which counties have the highest and lowest ratios of providers to enrolled participants in Medi-Cal?\",\n",
    "    \"What is the ratio of non-suspended doctors to Medi-Cal members by County?\",\n",
    "    \"What about the ratio to licensed facilities?\"\n",
    "            ]"
   ]
  },
  {
   "cell_type": "code",
   "execution_count": 28,
   "id": "4752489a-b807-4b92-acf2-cecbe411ea82",
   "metadata": {},
   "outputs": [
    {
     "name": "stdout",
     "output_type": "stream",
     "text": [
      "18\n",
      "How many people are enrolled in CalFresh?\n",
      "Table Filter -  ['calhhs-dashboard-2015-2020-annual-data-file']\n",
      "How many people are enrolled in CalFresh?\n",
      "Table Filter -  ['calhhs-dashboard-2015-2020-annual-data-file']\n",
      "Table name  calhhs-dashboard-2015-2020-annual-data-file\n",
      " \n",
      "SELECT \n",
      "  fileyear,\n",
      "  county,\n",
      "  CalFresh\n",
      "FROM cdii-poc.HHS_Program_Counts.`calhhs-dashboard-2015-2020-annual-data-file`\n",
      "WHERE \n",
      "  Program = 'CalFresh';\n",
      "\n",
      "How many of them live in Los Angeles County?\n",
      "Table Filter -  ['gdhcs-imdopen-datamedmed-calfreshmed-medi-cal_by-cnty_calfresh-dec-19']\n",
      "How many of them live in Los Angeles County?\n",
      "Table Filter -  ['gdhcs-imdopen-datamedmed-calfreshmed-medi-cal_by-cnty_calfresh-dec-19']\n",
      "Table name  gdhcs-imdopen-datamedmed-calfreshmed-medi-cal_by-cnty_calfresh-dec-19\n",
      " \n",
      "SELECT \n",
      "  County,\n",
      "  SUM(Number_of_Beneficiaries) AS total_beneficiaries\n",
      "FROM cdii-poc.HHS_Program_Counts.`gdhcs-imdopen-datamedmed-calfreshmed-medi-cal_by-cnty_calfresh-dec-19`\n",
      "WHERE \n",
      "  County = 'Los Angeles'\n",
      "GROUP BY \n",
      "  County;\n",
      "\n",
      "How has participation in CalFresh changed since 2015?\n",
      "Table Filter -  ['medi-cal-and-calfresh-enrollment']\n",
      "How has participation in CalFresh changed since 2015?\n",
      "Table Filter -  ['medi-cal-and-calfresh-enrollment']\n",
      "Table name  medi-cal-and-calfresh-enrollment\n",
      " \n",
      "SELECT\n",
      "  Year,\n",
      "  SUM(CalFresh_Enrollment) AS CalFresh_Enrollment\n",
      "FROM\n",
      "  medi-cal-and-calfresh-enrollment\n",
      "WHERE\n",
      "  Year >= 2015\n",
      "GROUP BY\n",
      "  Year\n",
      "ORDER BY\n",
      "  Year;\n",
      "\n",
      "How do CalFresh program participation trends differ by race and ethnicity?\n",
      "Table Filter -  ['calhhs-dashboard-2015-2020-annual-data-file']\n",
      "How do CalFresh program participation trends differ by race and ethnicity?\n",
      "Table Filter -  ['calhhs-dashboard-2015-2020-annual-data-file']\n",
      "Table name  calhhs-dashboard-2015-2020-annual-data-file\n",
      " \n",
      "SELECT \n",
      "  fileyear,\n",
      "  COALESCE(SUM(SAFE_CAST(White AS INT64)), 0) AS White,\n",
      "  COALESCE(SUM(SAFE_CAST(Black AS INT64)), 0) AS Black,\n",
      "  COALESCE(SUM(SAFE_CAST(Hispanic AS INT64)), 0) AS Hispanic,\n",
      "  COALESCE(SUM(SAFE_CAST(Asian_PI AS INT64)), 0) AS Asian_PI,\n",
      "  COALESCE(SUM(SAFE_CAST(Native_American AS INT64)), 0) AS Native_American\n",
      "FROM `cdii-poc.HHS_Program_Counts.calhhs-dashboard-2015-2020-annual-data-file`\n",
      "WHERE \n",
      "  Program = 'CalFresh'\n",
      "GROUP BY \n",
      "  fileyear\n",
      "ORDER BY \n",
      "  fileyear;\n",
      "\n",
      "How have these race and ethnicity trends changed over time?\n",
      "Table Filter -  ['low-and-very-low-birthweight-by-race-ethnicity-2014-2018\\npreterm-and-very-preterm-births-by-raceethnicity-2010-2018']\n",
      "How have these race and ethnicity trends changed over time?\n",
      "Table Filter -  ['low-and-very-low-birthweight-by-race-ethnicity-2014-2018\\npreterm-and-very-preterm-births-by-raceethnicity-2010-2018']\n",
      "Table name  low-and-very-low-birthweight-by-race-ethnicity-2014-2018\n",
      "preterm-and-very-preterm-births-by-raceethnicity-2010-2018\n",
      "Which county has the greatest proportion of CalFresh recipients co-enrolled in at least one additional program?\n"
     ]
    },
    {
     "name": "stderr",
     "output_type": "stream",
     "text": [
      "Traceback (most recent call last):\n",
      "  File \"/home/jupyter/nl2sql-fiserv/temp/lib-nl2sql/nl_2_sql_lib/final_lib/notebooks/../nl2sql_src/nl2sql_generic.py\", line 322, in text_to_sql_fewshot\n",
      "    table_json = self.metadata_json[table_name]\n",
      "KeyError: 'low-and-very-low-birthweight-by-race-ethnicity-2014-2018\\npreterm-and-very-preterm-births-by-raceethnicity-2010-2018'\n"
     ]
    },
    {
     "name": "stdout",
     "output_type": "stream",
     "text": [
      "Table Filter -  ['calhhs-dashboard-2015-2020-annual-data-file']\n",
      "Which county has the greatest proportion of CalFresh recipients co-enrolled in at least one additional program?\n",
      "Table Filter -  ['calhhs-dashboard-2015-2020-annual-data-file']\n",
      "Table name  calhhs-dashboard-2015-2020-annual-data-file\n",
      " \n",
      "SELECT Number AS county, \n",
      "       COALESCE(SUM(CAST(Person AS INT64)), 0) AS total_calfresh_recipients,\n",
      "       COALESCE(SUM(CAST(_2_programs AS INT64)), 0) AS num_calfresh_recipients_co_enrolled_in_at_least_one_other_program,\n",
      "       COALESCE(SUM(CAST(_2_programs AS INT64)) / SUM(CAST(Person AS INT64)), 0) AS prop_calfresh_recipients_co_enrolled_in_at_least_one_other_program\n",
      "FROM `cdii-poc.HHS_Program_Counts.calhhs-dashboard-2015-2020-annual-data-file`\n",
      "WHERE Level = 'County'\n",
      "  AND (Number <> 'County Total' OR Number IS NULL)\n",
      "  AND Program = 'CalFresh'\n",
      "GROUP BY county\n",
      "ORDER BY prop_calfresh_recipients_co_enrolled_in_at_least_one_other_program DESC\n",
      "LIMIT 1;\n",
      "\n",
      "What about three or more additional programs?\n",
      "Table Filter -  ['abcd-350-annual-recipient-report-county-data']\n",
      "What about three or more additional programs?\n"
     ]
    },
    {
     "name": "stderr",
     "output_type": "stream",
     "text": [
      "Retrying langchain_google_vertexai.llms._completion_with_retry.<locals>._completion_with_retry_inner in 4.0 seconds as it raised InvalidArgument: 400 The request cannot be processed. The most likely reason is that the provided input exceeded the model's input token limit..\n"
     ]
    },
    {
     "name": "stdout",
     "output_type": "stream",
     "text": [
      "Table Filter -  ['abcd-350-annual-recipient-report-county-data']\n",
      "Table name  abcd-350-annual-recipient-report-county-data\n"
     ]
    },
    {
     "name": "stderr",
     "output_type": "stream",
     "text": [
      "Retrying langchain_google_vertexai.llms._completion_with_retry.<locals>._completion_with_retry_inner in 4.0 seconds as it raised InvalidArgument: 400 The request cannot be processed. The most likely reason is that the provided input exceeded the model's input token limit..\n",
      "Retrying langchain_google_vertexai.llms._completion_with_retry.<locals>._completion_with_retry_inner in 4.0 seconds as it raised InvalidArgument: 400 The request cannot be processed. The most likely reason is that the provided input exceeded the model's input token limit..\n",
      "Retrying langchain_google_vertexai.llms._completion_with_retry.<locals>._completion_with_retry_inner in 8.0 seconds as it raised InvalidArgument: 400 The request cannot be processed. The most likely reason is that the provided input exceeded the model's input token limit..\n",
      "Retrying langchain_google_vertexai.llms._completion_with_retry.<locals>._completion_with_retry_inner in 10.0 seconds as it raised InvalidArgument: 400 The request cannot be processed. The most likely reason is that the provided input exceeded the model's input token limit..\n",
      "Traceback (most recent call last):\n",
      "  File \"/opt/conda/lib/python3.10/site-packages/google/api_core/grpc_helpers.py\", line 76, in error_remapped_callable\n",
      "    return callable_(*args, **kwargs)\n",
      "  File \"/opt/conda/lib/python3.10/site-packages/grpc/_channel.py\", line 1160, in __call__\n",
      "    return _end_unary_response_blocking(state, call, False, None)\n",
      "  File \"/opt/conda/lib/python3.10/site-packages/grpc/_channel.py\", line 1003, in _end_unary_response_blocking\n",
      "    raise _InactiveRpcError(state)  # pytype: disable=not-instantiable\n",
      "grpc._channel._InactiveRpcError: <_InactiveRpcError of RPC that terminated with:\n",
      "\tstatus = StatusCode.INVALID_ARGUMENT\n",
      "\tdetails = \"The request cannot be processed. The most likely reason is that the provided input exceeded the model's input token limit.\"\n",
      "\tdebug_error_string = \"UNKNOWN:Error received from peer ipv4:172.217.212.95:443 {grpc_message:\"The request cannot be processed. The most likely reason is that the provided input exceeded the model\\'s input token limit.\", grpc_status:3, created_time:\"2024-03-22T10:17:17.022509943+00:00\"}\"\n",
      ">\n",
      "\n",
      "The above exception was the direct cause of the following exception:\n",
      "\n",
      "Traceback (most recent call last):\n",
      "  File \"/home/jupyter/nl2sql-fiserv/temp/lib-nl2sql/nl_2_sql_lib/final_lib/notebooks/../nl2sql_src/nl2sql_generic.py\", line 379, in text_to_sql_fewshot\n",
      "    response = self.llm.invoke(sql_prompt)\n",
      "  File \"/opt/conda/lib/python3.10/site-packages/langchain_core/language_models/llms.py\", line 273, in invoke\n",
      "    self.generate_prompt(\n",
      "  File \"/opt/conda/lib/python3.10/site-packages/langchain_core/language_models/llms.py\", line 568, in generate_prompt\n",
      "    return self.generate(prompt_strings, stop=stop, callbacks=callbacks, **kwargs)\n",
      "  File \"/opt/conda/lib/python3.10/site-packages/langchain_core/language_models/llms.py\", line 741, in generate\n",
      "    output = self._generate_helper(\n",
      "  File \"/opt/conda/lib/python3.10/site-packages/langchain_core/language_models/llms.py\", line 605, in _generate_helper\n",
      "    raise e\n",
      "  File \"/opt/conda/lib/python3.10/site-packages/langchain_core/language_models/llms.py\", line 592, in _generate_helper\n",
      "    self._generate(\n",
      "  File \"/opt/conda/lib/python3.10/site-packages/langchain_google_vertexai/llms.py\", line 383, in _generate\n",
      "    res = _completion_with_retry(\n",
      "  File \"/opt/conda/lib/python3.10/site-packages/langchain_google_vertexai/llms.py\", line 92, in _completion_with_retry\n",
      "    return _completion_with_retry_inner(prompt, is_gemini, **kwargs)\n",
      "  File \"/opt/conda/lib/python3.10/site-packages/tenacity/__init__.py\", line 289, in wrapped_f\n",
      "    return self(f, *args, **kw)\n",
      "  File \"/opt/conda/lib/python3.10/site-packages/tenacity/__init__.py\", line 379, in __call__\n",
      "    do = self.iter(retry_state=retry_state)\n",
      "  File \"/opt/conda/lib/python3.10/site-packages/tenacity/__init__.py\", line 325, in iter\n",
      "    raise retry_exc.reraise()\n",
      "  File \"/opt/conda/lib/python3.10/site-packages/tenacity/__init__.py\", line 158, in reraise\n",
      "    raise self.last_attempt.result()\n",
      "  File \"/opt/conda/lib/python3.10/concurrent/futures/_base.py\", line 451, in result\n",
      "    return self.__get_result()\n",
      "  File \"/opt/conda/lib/python3.10/concurrent/futures/_base.py\", line 403, in __get_result\n",
      "    raise self._exception\n",
      "  File \"/opt/conda/lib/python3.10/site-packages/tenacity/__init__.py\", line 382, in __call__\n",
      "    result = fn(*args, **kwargs)\n",
      "  File \"/opt/conda/lib/python3.10/site-packages/langchain_google_vertexai/llms.py\", line 90, in _completion_with_retry_inner\n",
      "    return llm.client.predict(prompt[0], **kwargs)\n",
      "  File \"/opt/conda/lib/python3.10/site-packages/vertexai/language_models/_language_models.py\", line 1318, in predict\n",
      "    prediction_response = self._endpoint.predict(\n",
      "  File \"/opt/conda/lib/python3.10/site-packages/google/cloud/aiplatform/models.py\", line 1579, in predict\n",
      "    prediction_response = self._prediction_client.predict(\n",
      "  File \"/opt/conda/lib/python3.10/site-packages/google/cloud/aiplatform_v1/services/prediction_service/client.py\", line 836, in predict\n",
      "    response = rpc(\n",
      "  File \"/opt/conda/lib/python3.10/site-packages/google/api_core/gapic_v1/method.py\", line 131, in __call__\n",
      "    return wrapped_func(*args, **kwargs)\n",
      "  File \"/opt/conda/lib/python3.10/site-packages/google/api_core/grpc_helpers.py\", line 78, in error_remapped_callable\n",
      "    raise exceptions.from_grpc_error(exc) from exc\n",
      "google.api_core.exceptions.InvalidArgument: 400 The request cannot be processed. The most likely reason is that the provided input exceeded the model's input token limit.\n"
     ]
    },
    {
     "name": "stdout",
     "output_type": "stream",
     "text": [
      "Which programs have the highest co-enrollment with CalFresh?\n",
      "Table Filter -  ['abcd-350-annual-recipient-report-county-data']\n",
      "Which programs have the highest co-enrollment with CalFresh?\n"
     ]
    },
    {
     "name": "stderr",
     "output_type": "stream",
     "text": [
      "Retrying langchain_google_vertexai.llms._completion_with_retry.<locals>._completion_with_retry_inner in 4.0 seconds as it raised InvalidArgument: 400 The request cannot be processed. The most likely reason is that the provided input exceeded the model's input token limit..\n"
     ]
    },
    {
     "name": "stdout",
     "output_type": "stream",
     "text": [
      "Table Filter -  ['abcd-350-annual-recipient-report-county-data']\n",
      "Table name  abcd-350-annual-recipient-report-county-data\n"
     ]
    },
    {
     "name": "stderr",
     "output_type": "stream",
     "text": [
      "Retrying langchain_google_vertexai.llms._completion_with_retry.<locals>._completion_with_retry_inner in 4.0 seconds as it raised InvalidArgument: 400 The request cannot be processed. The most likely reason is that the provided input exceeded the model's input token limit..\n",
      "Retrying langchain_google_vertexai.llms._completion_with_retry.<locals>._completion_with_retry_inner in 4.0 seconds as it raised InvalidArgument: 400 The request cannot be processed. The most likely reason is that the provided input exceeded the model's input token limit..\n",
      "Retrying langchain_google_vertexai.llms._completion_with_retry.<locals>._completion_with_retry_inner in 8.0 seconds as it raised InvalidArgument: 400 The request cannot be processed. The most likely reason is that the provided input exceeded the model's input token limit..\n",
      "Retrying langchain_google_vertexai.llms._completion_with_retry.<locals>._completion_with_retry_inner in 10.0 seconds as it raised InvalidArgument: 400 The request cannot be processed. The most likely reason is that the provided input exceeded the model's input token limit..\n",
      "Traceback (most recent call last):\n",
      "  File \"/opt/conda/lib/python3.10/site-packages/google/api_core/grpc_helpers.py\", line 76, in error_remapped_callable\n",
      "    return callable_(*args, **kwargs)\n",
      "  File \"/opt/conda/lib/python3.10/site-packages/grpc/_channel.py\", line 1160, in __call__\n",
      "    return _end_unary_response_blocking(state, call, False, None)\n",
      "  File \"/opt/conda/lib/python3.10/site-packages/grpc/_channel.py\", line 1003, in _end_unary_response_blocking\n",
      "    raise _InactiveRpcError(state)  # pytype: disable=not-instantiable\n",
      "grpc._channel._InactiveRpcError: <_InactiveRpcError of RPC that terminated with:\n",
      "\tstatus = StatusCode.INVALID_ARGUMENT\n",
      "\tdetails = \"The request cannot be processed. The most likely reason is that the provided input exceeded the model's input token limit.\"\n",
      "\tdebug_error_string = \"UNKNOWN:Error received from peer ipv4:172.217.212.95:443 {grpc_message:\"The request cannot be processed. The most likely reason is that the provided input exceeded the model\\'s input token limit.\", grpc_status:3, created_time:\"2024-03-22T10:17:51.419228433+00:00\"}\"\n",
      ">\n",
      "\n",
      "The above exception was the direct cause of the following exception:\n",
      "\n",
      "Traceback (most recent call last):\n",
      "  File \"/home/jupyter/nl2sql-fiserv/temp/lib-nl2sql/nl_2_sql_lib/final_lib/notebooks/../nl2sql_src/nl2sql_generic.py\", line 379, in text_to_sql_fewshot\n",
      "    response = self.llm.invoke(sql_prompt)\n",
      "  File \"/opt/conda/lib/python3.10/site-packages/langchain_core/language_models/llms.py\", line 273, in invoke\n",
      "    self.generate_prompt(\n",
      "  File \"/opt/conda/lib/python3.10/site-packages/langchain_core/language_models/llms.py\", line 568, in generate_prompt\n",
      "    return self.generate(prompt_strings, stop=stop, callbacks=callbacks, **kwargs)\n",
      "  File \"/opt/conda/lib/python3.10/site-packages/langchain_core/language_models/llms.py\", line 741, in generate\n",
      "    output = self._generate_helper(\n",
      "  File \"/opt/conda/lib/python3.10/site-packages/langchain_core/language_models/llms.py\", line 605, in _generate_helper\n",
      "    raise e\n",
      "  File \"/opt/conda/lib/python3.10/site-packages/langchain_core/language_models/llms.py\", line 592, in _generate_helper\n",
      "    self._generate(\n",
      "  File \"/opt/conda/lib/python3.10/site-packages/langchain_google_vertexai/llms.py\", line 383, in _generate\n",
      "    res = _completion_with_retry(\n",
      "  File \"/opt/conda/lib/python3.10/site-packages/langchain_google_vertexai/llms.py\", line 92, in _completion_with_retry\n",
      "    return _completion_with_retry_inner(prompt, is_gemini, **kwargs)\n",
      "  File \"/opt/conda/lib/python3.10/site-packages/tenacity/__init__.py\", line 289, in wrapped_f\n",
      "    return self(f, *args, **kw)\n",
      "  File \"/opt/conda/lib/python3.10/site-packages/tenacity/__init__.py\", line 379, in __call__\n",
      "    do = self.iter(retry_state=retry_state)\n",
      "  File \"/opt/conda/lib/python3.10/site-packages/tenacity/__init__.py\", line 325, in iter\n",
      "    raise retry_exc.reraise()\n",
      "  File \"/opt/conda/lib/python3.10/site-packages/tenacity/__init__.py\", line 158, in reraise\n",
      "    raise self.last_attempt.result()\n",
      "  File \"/opt/conda/lib/python3.10/concurrent/futures/_base.py\", line 451, in result\n",
      "    return self.__get_result()\n",
      "  File \"/opt/conda/lib/python3.10/concurrent/futures/_base.py\", line 403, in __get_result\n",
      "    raise self._exception\n",
      "  File \"/opt/conda/lib/python3.10/site-packages/tenacity/__init__.py\", line 382, in __call__\n",
      "    result = fn(*args, **kwargs)\n",
      "  File \"/opt/conda/lib/python3.10/site-packages/langchain_google_vertexai/llms.py\", line 90, in _completion_with_retry_inner\n",
      "    return llm.client.predict(prompt[0], **kwargs)\n",
      "  File \"/opt/conda/lib/python3.10/site-packages/vertexai/language_models/_language_models.py\", line 1318, in predict\n",
      "    prediction_response = self._endpoint.predict(\n",
      "  File \"/opt/conda/lib/python3.10/site-packages/google/cloud/aiplatform/models.py\", line 1579, in predict\n",
      "    prediction_response = self._prediction_client.predict(\n",
      "  File \"/opt/conda/lib/python3.10/site-packages/google/cloud/aiplatform_v1/services/prediction_service/client.py\", line 836, in predict\n",
      "    response = rpc(\n",
      "  File \"/opt/conda/lib/python3.10/site-packages/google/api_core/gapic_v1/method.py\", line 131, in __call__\n",
      "    return wrapped_func(*args, **kwargs)\n",
      "  File \"/opt/conda/lib/python3.10/site-packages/google/api_core/grpc_helpers.py\", line 78, in error_remapped_callable\n",
      "    raise exceptions.from_grpc_error(exc) from exc\n",
      "google.api_core.exceptions.InvalidArgument: 400 The request cannot be processed. The most likely reason is that the provided input exceeded the model's input token limit.\n"
     ]
    },
    {
     "name": "stdout",
     "output_type": "stream",
     "text": [
      "What county has the greatest enrollment in WIC per capita?\n",
      "Table Filter -  ['wic-redemption-by-county-by-participant-category-data-2010-2018']\n",
      "What county has the greatest enrollment in WIC per capita?\n",
      "Table Filter -  ['wic-redemption-by-county-by-participant-category-data-2010-2018']\n",
      "Table name  wic-redemption-by-county-by-participant-category-data-2010-2018\n",
      " \n",
      "SELECT\n",
      "  Vendor_Location,\n",
      "  COALESCE(\n",
      "    SUM(CAST(_Number_of_Participants_Redeemed_ AS INT64)),\n",
      "    0\n",
      "  ) AS total_participants\n",
      "FROM `cdii-poc.HHS_Program_Counts.wic-redemption-by-county-by-participant-category-data-2010-2018`\n",
      "GROUP BY\n",
      "  Vendor_Location\n",
      "ORDER BY\n",
      "  total_participants DESC\n",
      "LIMIT 1;\n",
      "\n",
      "Which five counties have the lowest number of WIC authorized vendors compared to WIC participants?\n",
      "Table Filter -  ['women-infants-and-children-wic-authorized-vendors']\n",
      "Which five counties have the lowest number of WIC authorized vendors compared to WIC participants?\n",
      "Table Filter -  ['women-infants-and-children-wic-authorized-vendors']\n",
      "Table name  women-infants-and-children-wic-authorized-vendors\n",
      " \n",
      "SELECT Vendor_Location,\n",
      "       (vendor_cnt/total_participants)*100 AS vendor_participants_ratio\n",
      "FROM (\n",
      "    SELECT TRIM(Vendor_Location) AS Vendor_Location,\n",
      "           COALESCE(SUM(SAFE_CAST(_Number_of_Participants_Redeemed_ AS INT64))) AS total_participants\n",
      "    FROM `cdii-poc.HHS_Program_Counts.wic-redemption-by-county-by-participant-category-data-2010-2018``\n",
      "    GROUP BY Vendor_Location) AS participants\n",
      "JOIN (\n",
      "    SELECT TRIM(COUNTY) AS COUNTY,\n",
      "           COUNT(VENDOR) AS vendor_cnt\n",
      "    FROM `cdii-poc.HHS_Program_Counts.women-infants-and-children-wic-authorized-vendors\n",
      "    GROUP BY COUNTY\n",
      "    HAVING COUNTY IS NOT NULL) AS vendors\n",
      "ON UPPER(participants.Vendor_Location) = UPPER(vendors.COUNTY)\n",
      "WHERE (vendor_cnt/total_participants)*100 IS NOT NULL\n",
      "ORDER BY vendor_participants_ratio ASC\n",
      "LIMIT 5;\n",
      "\n",
      "How do infant mortality rates, low birthweight rates, and preterm and very preterm rates compare to WIC enrollment rates by county?\n",
      "Table Filter -  ['20230912_births_final_county_month_sup']\n",
      "How do infant mortality rates, low birthweight rates, and preterm and very preterm rates compare to WIC enrollment rates by county?\n",
      "Table Filter -  ['20230912_births_final_county_month_sup']\n",
      "Table name  20230912_births_final_county_month_sup\n",
      " \n",
      "SELECT\n",
      "  births.County,\n",
      "  births.Month,\n",
      "  births.Year,\n",
      "  births.Infant_Mortality_Rate,\n",
      "  births.Low_Birthweight_Rate,\n",
      "  births.Preterm_Birth_Rate,\n",
      "  births.Very_Preterm_Birth_Rate,\n",
      "  wic.WIC_Enrollment_Rate\n",
      "FROM\n",
      "  20230912_births_final_county_month_sup AS births\n",
      "JOIN\n",
      "  WIC_Enrollment_Rates AS wic\n",
      "ON\n",
      "  births.County = wic.County\n",
      "ORDER BY\n",
      "  births.County,\n",
      "  births.Month,\n",
      "  births.Year;\n",
      "\n",
      "How many Black individuals are served across CalHHS programs?\n",
      "Table Filter -  ['abcd-350-annual-recipient-report-county-data']\n",
      "How many Black individuals are served across CalHHS programs?\n"
     ]
    },
    {
     "name": "stderr",
     "output_type": "stream",
     "text": [
      "Retrying langchain_google_vertexai.llms._completion_with_retry.<locals>._completion_with_retry_inner in 4.0 seconds as it raised InvalidArgument: 400 The request cannot be processed. The most likely reason is that the provided input exceeded the model's input token limit..\n"
     ]
    },
    {
     "name": "stdout",
     "output_type": "stream",
     "text": [
      "Table Filter -  ['abcd-350-annual-recipient-report-county-data']\n",
      "Table name  abcd-350-annual-recipient-report-county-data\n"
     ]
    },
    {
     "name": "stderr",
     "output_type": "stream",
     "text": [
      "Retrying langchain_google_vertexai.llms._completion_with_retry.<locals>._completion_with_retry_inner in 4.0 seconds as it raised InvalidArgument: 400 The request cannot be processed. The most likely reason is that the provided input exceeded the model's input token limit..\n",
      "Retrying langchain_google_vertexai.llms._completion_with_retry.<locals>._completion_with_retry_inner in 4.0 seconds as it raised InvalidArgument: 400 The request cannot be processed. The most likely reason is that the provided input exceeded the model's input token limit..\n",
      "Retrying langchain_google_vertexai.llms._completion_with_retry.<locals>._completion_with_retry_inner in 8.0 seconds as it raised InvalidArgument: 400 The request cannot be processed. The most likely reason is that the provided input exceeded the model's input token limit..\n",
      "Retrying langchain_google_vertexai.llms._completion_with_retry.<locals>._completion_with_retry_inner in 10.0 seconds as it raised InvalidArgument: 400 The request cannot be processed. The most likely reason is that the provided input exceeded the model's input token limit..\n",
      "Traceback (most recent call last):\n",
      "  File \"/opt/conda/lib/python3.10/site-packages/google/api_core/grpc_helpers.py\", line 76, in error_remapped_callable\n",
      "    return callable_(*args, **kwargs)\n",
      "  File \"/opt/conda/lib/python3.10/site-packages/grpc/_channel.py\", line 1160, in __call__\n",
      "    return _end_unary_response_blocking(state, call, False, None)\n",
      "  File \"/opt/conda/lib/python3.10/site-packages/grpc/_channel.py\", line 1003, in _end_unary_response_blocking\n",
      "    raise _InactiveRpcError(state)  # pytype: disable=not-instantiable\n",
      "grpc._channel._InactiveRpcError: <_InactiveRpcError of RPC that terminated with:\n",
      "\tstatus = StatusCode.INVALID_ARGUMENT\n",
      "\tdetails = \"The request cannot be processed. The most likely reason is that the provided input exceeded the model's input token limit.\"\n",
      "\tdebug_error_string = \"UNKNOWN:Error received from peer ipv4:172.217.212.95:443 {grpc_message:\"The request cannot be processed. The most likely reason is that the provided input exceeded the model\\'s input token limit.\", grpc_status:3, created_time:\"2024-03-22T10:18:42.848648741+00:00\"}\"\n",
      ">\n",
      "\n",
      "The above exception was the direct cause of the following exception:\n",
      "\n",
      "Traceback (most recent call last):\n",
      "  File \"/home/jupyter/nl2sql-fiserv/temp/lib-nl2sql/nl_2_sql_lib/final_lib/notebooks/../nl2sql_src/nl2sql_generic.py\", line 379, in text_to_sql_fewshot\n",
      "    response = self.llm.invoke(sql_prompt)\n",
      "  File \"/opt/conda/lib/python3.10/site-packages/langchain_core/language_models/llms.py\", line 273, in invoke\n",
      "    self.generate_prompt(\n",
      "  File \"/opt/conda/lib/python3.10/site-packages/langchain_core/language_models/llms.py\", line 568, in generate_prompt\n",
      "    return self.generate(prompt_strings, stop=stop, callbacks=callbacks, **kwargs)\n",
      "  File \"/opt/conda/lib/python3.10/site-packages/langchain_core/language_models/llms.py\", line 741, in generate\n",
      "    output = self._generate_helper(\n",
      "  File \"/opt/conda/lib/python3.10/site-packages/langchain_core/language_models/llms.py\", line 605, in _generate_helper\n",
      "    raise e\n",
      "  File \"/opt/conda/lib/python3.10/site-packages/langchain_core/language_models/llms.py\", line 592, in _generate_helper\n",
      "    self._generate(\n",
      "  File \"/opt/conda/lib/python3.10/site-packages/langchain_google_vertexai/llms.py\", line 383, in _generate\n",
      "    res = _completion_with_retry(\n",
      "  File \"/opt/conda/lib/python3.10/site-packages/langchain_google_vertexai/llms.py\", line 92, in _completion_with_retry\n",
      "    return _completion_with_retry_inner(prompt, is_gemini, **kwargs)\n",
      "  File \"/opt/conda/lib/python3.10/site-packages/tenacity/__init__.py\", line 289, in wrapped_f\n",
      "    return self(f, *args, **kw)\n",
      "  File \"/opt/conda/lib/python3.10/site-packages/tenacity/__init__.py\", line 379, in __call__\n",
      "    do = self.iter(retry_state=retry_state)\n",
      "  File \"/opt/conda/lib/python3.10/site-packages/tenacity/__init__.py\", line 325, in iter\n",
      "    raise retry_exc.reraise()\n",
      "  File \"/opt/conda/lib/python3.10/site-packages/tenacity/__init__.py\", line 158, in reraise\n",
      "    raise self.last_attempt.result()\n",
      "  File \"/opt/conda/lib/python3.10/concurrent/futures/_base.py\", line 451, in result\n",
      "    return self.__get_result()\n",
      "  File \"/opt/conda/lib/python3.10/concurrent/futures/_base.py\", line 403, in __get_result\n",
      "    raise self._exception\n",
      "  File \"/opt/conda/lib/python3.10/site-packages/tenacity/__init__.py\", line 382, in __call__\n",
      "    result = fn(*args, **kwargs)\n",
      "  File \"/opt/conda/lib/python3.10/site-packages/langchain_google_vertexai/llms.py\", line 90, in _completion_with_retry_inner\n",
      "    return llm.client.predict(prompt[0], **kwargs)\n",
      "  File \"/opt/conda/lib/python3.10/site-packages/vertexai/language_models/_language_models.py\", line 1318, in predict\n",
      "    prediction_response = self._endpoint.predict(\n",
      "  File \"/opt/conda/lib/python3.10/site-packages/google/cloud/aiplatform/models.py\", line 1579, in predict\n",
      "    prediction_response = self._prediction_client.predict(\n",
      "  File \"/opt/conda/lib/python3.10/site-packages/google/cloud/aiplatform_v1/services/prediction_service/client.py\", line 836, in predict\n",
      "    response = rpc(\n",
      "  File \"/opt/conda/lib/python3.10/site-packages/google/api_core/gapic_v1/method.py\", line 131, in __call__\n",
      "    return wrapped_func(*args, **kwargs)\n",
      "  File \"/opt/conda/lib/python3.10/site-packages/google/api_core/grpc_helpers.py\", line 78, in error_remapped_callable\n",
      "    raise exceptions.from_grpc_error(exc) from exc\n",
      "google.api_core.exceptions.InvalidArgument: 400 The request cannot be processed. The most likely reason is that the provided input exceeded the model's input token limit.\n"
     ]
    },
    {
     "name": "stdout",
     "output_type": "stream",
     "text": [
      "What is the breakdown by program?\n",
      "Table Filter -  ['calhhs-dashboard-2015-2020-annual-data-file']\n",
      "What is the breakdown by program?\n",
      "Table Filter -  ['calhhs-dashboard-2015-2020-annual-data-file']\n",
      "Table name  calhhs-dashboard-2015-2020-annual-data-file\n",
      " \n",
      "SELECT Program, \n",
      "       COALESCE(SUM(CAST(Number as BIGNUMERIC)), 0) AS total_enrolled\n",
      "FROM `cdii-poc.HHS_Program_Counts.calhhs-dashboard-2015-2020-annual-data-file`\n",
      "GROUP BY Program\n",
      "ORDER BY total_enrolled DESC;\n",
      "\n",
      "Has this changed over time?\n",
      "Table Filter -  ['calhhs-dashboard-2015-2020-annual-data-file']\n",
      "Has this changed over time?\n",
      "Table Filter -  ['calhhs-dashboard-2015-2020-annual-data-file']\n",
      "Table name  calhhs-dashboard-2015-2020-annual-data-file\n",
      " \n",
      "SELECT\n",
      "  fileyear,\n",
      "  COALESCE(SUM(SAFE_CAST(White AS INT64)), 0) AS total_white,\n",
      "  COALESCE(SUM(SAFE_CAST(Black AS INT64)), 0) AS total_black,\n",
      "  COALESCE(SUM(SAFE_CAST(Hispanic AS INT64)), 0) AS total_hispanic,\n",
      "  COALESCE(SUM(SAFE_CAST(Asian_PI AS INT64)), 0) AS total_asian,\n",
      "  COALESCE(SUM(SAFE_CAST(Native_American AS INT64)), 0) AS total_native_american\n",
      "FROM `cdii-poc.HHS_Program_Counts.calhhs-dashboard-2015-2020-annual-data-file`\n",
      "GROUP BY\n",
      "  fileyear\n",
      "ORDER BY\n",
      "  fileyear;\n",
      "\n",
      "Change over time by program?\n",
      "Table Filter -  ['calhhs-dashboard-2015-2020-annual-data-file']\n",
      "Change over time by program?\n",
      "Table Filter -  ['calhhs-dashboard-2015-2020-annual-data-file']\n",
      "Table name  calhhs-dashboard-2015-2020-annual-data-file\n",
      " \n",
      "SELECT fileyear,\n",
      "       Program,\n",
      "       COALESCE(SUM(CAST(Number AS INT64)), 0) AS total_number\n",
      "FROM `cdii-poc.HHS_Program_Counts.calhhs-dashboard-2015-2020-annual-data-file`\n",
      "GROUP BY fileyear, Program\n",
      "ORDER BY fileyear, Program;\n",
      "\n",
      "Which counties have the highest and lowest ratios of providers to enrolled participants in Medi-Cal?\n",
      "Table Filter -  ['The question asks for counties with the highest and lowest ratios of providers to enrolled participants in Medi-Cal. The table that is most likely to contain the relevant data is calhhs_dashboard-2015-2020-annual-data-file.']\n",
      "Which counties have the highest and lowest ratios of providers to enrolled participants in Medi-Cal?\n",
      "Table Filter -  ['The question asks for counties with the highest and lowest ratios of providers to enrolled participants in Medi-Cal. The table that is most likely to contain the relevant data is calhhs_dashboard-2015-2020-annual-data-file.']\n",
      "Table name  The question asks for counties with the highest and lowest ratios of providers to enrolled participants in Medi-Cal. The table that is most likely to contain the relevant data is calhhs_dashboard-2015-2020-annual-data-file.\n",
      "What is the ratio of non-suspended doctors to Medi-Cal members by County?\n"
     ]
    },
    {
     "name": "stderr",
     "output_type": "stream",
     "text": [
      "Traceback (most recent call last):\n",
      "  File \"/home/jupyter/nl2sql-fiserv/temp/lib-nl2sql/nl_2_sql_lib/final_lib/notebooks/../nl2sql_src/nl2sql_generic.py\", line 322, in text_to_sql_fewshot\n",
      "    table_json = self.metadata_json[table_name]\n",
      "KeyError: 'The question asks for counties with the highest and lowest ratios of providers to enrolled participants in Medi-Cal. The table that is most likely to contain the relevant data is calhhs_dashboard-2015-2020-annual-data-file.'\n"
     ]
    },
    {
     "name": "stdout",
     "output_type": "stream",
     "text": [
      "Table Filter -  ['calhhs_medi_cal_ffs_provider_listing_2_21_24']\n",
      "What is the ratio of non-suspended doctors to Medi-Cal members by County?\n",
      "Table Filter -  ['calhhs_medi_cal_ffs_provider_listing_2_21_24']\n",
      "Table name  calhhs_medi_cal_ffs_provider_listing_2_21_24\n",
      " \n",
      "SELECT\n",
      "  c.CountyName,\n",
      "  COUNT(DISTINCT CASE WHEN p.Provider_License IS NOT NULL THEN p.Provider_Number END) AS non_suspended_doctors,\n",
      "  SUM(SAFE_CAST(a.Person AS INT64)) AS medi_cal_members,\n",
      "  (\n",
      "    COUNT(DISTINCT CASE WHEN p.Provider_License IS NOT NULL THEN p.Provider_Number END) /\n",
      "    SUM(SAFE_CAST(a.Person AS INT64))\n",
      "  ) AS ratio_non_suspended_doctors_to_medi_cal_members\n",
      "FROM cdii-poc.HHS_Program_Counts.`calhhs_medi_cal_ffs_provider_listing_2_21_24` p\n",
      "JOIN\n",
      "  calhhs_dashboard_2015_2020_annual_data_file a ON p.CountyName = a.CountyName\n",
      "JOIN\n",
      "  County c ON p.CountyName = c.CountyName\n",
      "WHERE\n",
      "  a.Program = 'Medi-Cal' AND\n",
      "  a.level = 'County'\n",
      "GROUP BY\n",
      "  c.CountyName\n",
      "ORDER BY\n",
      "  ratio_non_suspended_doctors_to_medi_cal_members DESC;\n",
      "\n",
      "What about the ratio to licensed facilities?\n",
      "Table Filter -  ['calhhs_ffs_provider_list']\n",
      "What about the ratio to licensed facilities?\n",
      "Table Filter -  ['calhhs_ffs_provider_list']\n",
      "Table name  calhhs_ffs_provider_list\n",
      " \n",
      "SELECT\n",
      "  annual_file.Number,\n",
      "  (\n",
      "    COUNT(DISTINCT provider.Provider_Number) /\n",
      "    SUM(CAST(annual_file.Person AS INT64))\n",
      "  ) * 100 AS ratio_to_licensed_facilities\n",
      "FROM `cdii-poc.HHS_Program_Counts.calhhs-dashboard-2015-2020-annual-data-file` AS annual_file\n",
      "JOIN\n",
      "  cdii-poc.HHS_Program_Counts.calhhs_ffs_provider_list AS provider\n",
      "ON\n",
      "  annual_file.Number = provider.County\n",
      "WHERE\n",
      "  annual_file.Level = 'County'\n",
      "GROUP BY\n",
      "  annual_file.Number\n",
      "ORDER BY\n",
      "  ratio_to_licensed_facilities DESC\n",
      "LIMIT 5;\n",
      "\n"
     ]
    }
   ],
   "source": [
    "print(len(all_questions))\n",
    "results = []\n",
    "failed_questions = []\n",
    "for question in all_questions:\n",
    "    tmp = {}\n",
    "    print(question)\n",
    "    tmp['question'] = question\n",
    "    tmp['generated_sql'] = \"SQL not generated\"\n",
    "    try:\n",
    "        table_info = nl2sqlbq_client.table_filter(question)\n",
    "        table_info\n",
    "\n",
    "        sql_query = nl2sqlbq_client.text_to_sql_fewshot(question)\n",
    "        print(sql_query)\n",
    "        tmp['question'] = question\n",
    "        tmp['generated_sql'] = sql_query\n",
    "    except:\n",
    "        failed_questions.append(question)\n",
    "        pass\n",
    "    \n",
    "    results.append(tmp)"
   ]
  },
  {
   "cell_type": "code",
   "execution_count": 29,
   "id": "74519428-90bc-4334-95e3-e0628a4920ce",
   "metadata": {},
   "outputs": [],
   "source": [
    "# Generate SQL for a specific question and add to the list\n",
    "# tmp = {}\n",
    "# question = all_questions[15]\n",
    "# print(question)\n",
    "# table_info = nl2sqlbq_client.table_filter(question)\n",
    "# table_info\n",
    "\n",
    "# sql_query = nl2sqlbq_client.text_to_sql_fewshot(question)\n",
    "# print(sql_query)\n",
    "# tmp['question'] = question\n",
    "# tmp['generated_sql'] = sql_query\n",
    "    \n",
    "# results.append(tmp)"
   ]
  },
  {
   "cell_type": "code",
   "execution_count": 30,
   "id": "607457be-a616-44b8-9f14-ed4aa19282b4",
   "metadata": {
    "tags": []
   },
   "outputs": [
    {
     "data": {
      "text/plain": [
       "[{'question': 'How many people are enrolled in CalFresh?',\n",
       "  'generated_sql': \" \\nSELECT \\n  fileyear,\\n  county,\\n  CalFresh\\nFROM cdii-poc.HHS_Program_Counts.`calhhs-dashboard-2015-2020-annual-data-file`\\nWHERE \\n  Program = 'CalFresh';\\n\"},\n",
       " {'question': 'How many of them live in Los Angeles County?',\n",
       "  'generated_sql': \" \\nSELECT \\n  County,\\n  SUM(Number_of_Beneficiaries) AS total_beneficiaries\\nFROM cdii-poc.HHS_Program_Counts.`gdhcs-imdopen-datamedmed-calfreshmed-medi-cal_by-cnty_calfresh-dec-19`\\nWHERE \\n  County = 'Los Angeles'\\nGROUP BY \\n  County;\\n\"},\n",
       " {'question': 'How has participation in CalFresh changed since 2015?',\n",
       "  'generated_sql': ' \\nSELECT\\n  Year,\\n  SUM(CalFresh_Enrollment) AS CalFresh_Enrollment\\nFROM\\n  medi-cal-and-calfresh-enrollment\\nWHERE\\n  Year >= 2015\\nGROUP BY\\n  Year\\nORDER BY\\n  Year;\\n'},\n",
       " {'question': 'How do CalFresh program participation trends differ by race and ethnicity?',\n",
       "  'generated_sql': \" \\nSELECT \\n  fileyear,\\n  COALESCE(SUM(SAFE_CAST(White AS INT64)), 0) AS White,\\n  COALESCE(SUM(SAFE_CAST(Black AS INT64)), 0) AS Black,\\n  COALESCE(SUM(SAFE_CAST(Hispanic AS INT64)), 0) AS Hispanic,\\n  COALESCE(SUM(SAFE_CAST(Asian_PI AS INT64)), 0) AS Asian_PI,\\n  COALESCE(SUM(SAFE_CAST(Native_American AS INT64)), 0) AS Native_American\\nFROM `cdii-poc.HHS_Program_Counts.calhhs-dashboard-2015-2020-annual-data-file`\\nWHERE \\n  Program = 'CalFresh'\\nGROUP BY \\n  fileyear\\nORDER BY \\n  fileyear;\\n\"},\n",
       " {'question': 'How have these race and ethnicity trends changed over time?',\n",
       "  'generated_sql': 'SQL not generated'},\n",
       " {'question': 'Which county has the greatest proportion of CalFresh recipients co-enrolled in at least one additional program?',\n",
       "  'generated_sql': \" \\nSELECT Number AS county, \\n       COALESCE(SUM(CAST(Person AS INT64)), 0) AS total_calfresh_recipients,\\n       COALESCE(SUM(CAST(_2_programs AS INT64)), 0) AS num_calfresh_recipients_co_enrolled_in_at_least_one_other_program,\\n       COALESCE(SUM(CAST(_2_programs AS INT64)) / SUM(CAST(Person AS INT64)), 0) AS prop_calfresh_recipients_co_enrolled_in_at_least_one_other_program\\nFROM `cdii-poc.HHS_Program_Counts.calhhs-dashboard-2015-2020-annual-data-file`\\nWHERE Level = 'County'\\n  AND (Number <> 'County Total' OR Number IS NULL)\\n  AND Program = 'CalFresh'\\nGROUP BY county\\nORDER BY prop_calfresh_recipients_co_enrolled_in_at_least_one_other_program DESC\\nLIMIT 1;\\n\"},\n",
       " {'question': 'What about three or more additional programs?',\n",
       "  'generated_sql': 'SQL not generated'},\n",
       " {'question': 'Which programs have the highest co-enrollment with CalFresh?',\n",
       "  'generated_sql': 'SQL not generated'},\n",
       " {'question': 'What county has the greatest enrollment in WIC per capita?',\n",
       "  'generated_sql': ' \\nSELECT\\n  Vendor_Location,\\n  COALESCE(\\n    SUM(CAST(_Number_of_Participants_Redeemed_ AS INT64)),\\n    0\\n  ) AS total_participants\\nFROM `cdii-poc.HHS_Program_Counts.wic-redemption-by-county-by-participant-category-data-2010-2018`\\nGROUP BY\\n  Vendor_Location\\nORDER BY\\n  total_participants DESC\\nLIMIT 1;\\n'},\n",
       " {'question': 'Which five counties have the lowest number of WIC authorized vendors compared to WIC participants?',\n",
       "  'generated_sql': ' \\nSELECT Vendor_Location,\\n       (vendor_cnt/total_participants)*100 AS vendor_participants_ratio\\nFROM (\\n    SELECT TRIM(Vendor_Location) AS Vendor_Location,\\n           COALESCE(SUM(SAFE_CAST(_Number_of_Participants_Redeemed_ AS INT64))) AS total_participants\\n    FROM `cdii-poc.HHS_Program_Counts.wic-redemption-by-county-by-participant-category-data-2010-2018``\\n    GROUP BY Vendor_Location) AS participants\\nJOIN (\\n    SELECT TRIM(COUNTY) AS COUNTY,\\n           COUNT(VENDOR) AS vendor_cnt\\n    FROM `cdii-poc.HHS_Program_Counts.women-infants-and-children-wic-authorized-vendors\\n    GROUP BY COUNTY\\n    HAVING COUNTY IS NOT NULL) AS vendors\\nON UPPER(participants.Vendor_Location) = UPPER(vendors.COUNTY)\\nWHERE (vendor_cnt/total_participants)*100 IS NOT NULL\\nORDER BY vendor_participants_ratio ASC\\nLIMIT 5;\\n'},\n",
       " {'question': 'How do infant mortality rates, low birthweight rates, and preterm and very preterm rates compare to WIC enrollment rates by county?',\n",
       "  'generated_sql': ' \\nSELECT\\n  births.County,\\n  births.Month,\\n  births.Year,\\n  births.Infant_Mortality_Rate,\\n  births.Low_Birthweight_Rate,\\n  births.Preterm_Birth_Rate,\\n  births.Very_Preterm_Birth_Rate,\\n  wic.WIC_Enrollment_Rate\\nFROM\\n  20230912_births_final_county_month_sup AS births\\nJOIN\\n  WIC_Enrollment_Rates AS wic\\nON\\n  births.County = wic.County\\nORDER BY\\n  births.County,\\n  births.Month,\\n  births.Year;\\n'},\n",
       " {'question': 'How many Black individuals are served across CalHHS programs?',\n",
       "  'generated_sql': 'SQL not generated'},\n",
       " {'question': 'What is the breakdown by program?',\n",
       "  'generated_sql': ' \\nSELECT Program, \\n       COALESCE(SUM(CAST(Number as BIGNUMERIC)), 0) AS total_enrolled\\nFROM `cdii-poc.HHS_Program_Counts.calhhs-dashboard-2015-2020-annual-data-file`\\nGROUP BY Program\\nORDER BY total_enrolled DESC;\\n'},\n",
       " {'question': 'Has this changed over time?',\n",
       "  'generated_sql': ' \\nSELECT\\n  fileyear,\\n  COALESCE(SUM(SAFE_CAST(White AS INT64)), 0) AS total_white,\\n  COALESCE(SUM(SAFE_CAST(Black AS INT64)), 0) AS total_black,\\n  COALESCE(SUM(SAFE_CAST(Hispanic AS INT64)), 0) AS total_hispanic,\\n  COALESCE(SUM(SAFE_CAST(Asian_PI AS INT64)), 0) AS total_asian,\\n  COALESCE(SUM(SAFE_CAST(Native_American AS INT64)), 0) AS total_native_american\\nFROM `cdii-poc.HHS_Program_Counts.calhhs-dashboard-2015-2020-annual-data-file`\\nGROUP BY\\n  fileyear\\nORDER BY\\n  fileyear;\\n'},\n",
       " {'question': 'Change over time by program?',\n",
       "  'generated_sql': ' \\nSELECT fileyear,\\n       Program,\\n       COALESCE(SUM(CAST(Number AS INT64)), 0) AS total_number\\nFROM `cdii-poc.HHS_Program_Counts.calhhs-dashboard-2015-2020-annual-data-file`\\nGROUP BY fileyear, Program\\nORDER BY fileyear, Program;\\n'},\n",
       " {'question': 'Which counties have the highest and lowest ratios of providers to enrolled participants in Medi-Cal?',\n",
       "  'generated_sql': 'SQL not generated'},\n",
       " {'question': 'What is the ratio of non-suspended doctors to Medi-Cal members by County?',\n",
       "  'generated_sql': \" \\nSELECT\\n  c.CountyName,\\n  COUNT(DISTINCT CASE WHEN p.Provider_License IS NOT NULL THEN p.Provider_Number END) AS non_suspended_doctors,\\n  SUM(SAFE_CAST(a.Person AS INT64)) AS medi_cal_members,\\n  (\\n    COUNT(DISTINCT CASE WHEN p.Provider_License IS NOT NULL THEN p.Provider_Number END) /\\n    SUM(SAFE_CAST(a.Person AS INT64))\\n  ) AS ratio_non_suspended_doctors_to_medi_cal_members\\nFROM cdii-poc.HHS_Program_Counts.`calhhs_medi_cal_ffs_provider_listing_2_21_24` p\\nJOIN\\n  calhhs_dashboard_2015_2020_annual_data_file a ON p.CountyName = a.CountyName\\nJOIN\\n  County c ON p.CountyName = c.CountyName\\nWHERE\\n  a.Program = 'Medi-Cal' AND\\n  a.level = 'County'\\nGROUP BY\\n  c.CountyName\\nORDER BY\\n  ratio_non_suspended_doctors_to_medi_cal_members DESC;\\n\"},\n",
       " {'question': 'What about the ratio to licensed facilities?',\n",
       "  'generated_sql': \" \\nSELECT\\n  annual_file.Number,\\n  (\\n    COUNT(DISTINCT provider.Provider_Number) /\\n    SUM(CAST(annual_file.Person AS INT64))\\n  ) * 100 AS ratio_to_licensed_facilities\\nFROM `cdii-poc.HHS_Program_Counts.calhhs-dashboard-2015-2020-annual-data-file` AS annual_file\\nJOIN\\n  cdii-poc.HHS_Program_Counts.calhhs_ffs_provider_list AS provider\\nON\\n  annual_file.Number = provider.County\\nWHERE\\n  annual_file.Level = 'County'\\nGROUP BY\\n  annual_file.Number\\nORDER BY\\n  ratio_to_licensed_facilities DESC\\nLIMIT 5;\\n\"}]"
      ]
     },
     "execution_count": 30,
     "metadata": {},
     "output_type": "execute_result"
    }
   ],
   "source": [
    "results"
   ]
  },
  {
   "cell_type": "code",
   "execution_count": 31,
   "id": "e5b95e38-1461-4330-8f16-98692eb256b7",
   "metadata": {
    "tags": []
   },
   "outputs": [
    {
     "data": {
      "text/plain": [
       "18"
      ]
     },
     "execution_count": 31,
     "metadata": {},
     "output_type": "execute_result"
    }
   ],
   "source": [
    "len(results)"
   ]
  },
  {
   "cell_type": "code",
   "execution_count": 32,
   "id": "43618a7d-b75d-4435-8df3-55909a7def2f",
   "metadata": {
    "tags": []
   },
   "outputs": [],
   "source": [
    "columns = ['question', 'generated_sql']\n",
    "df = pd.DataFrame(results, columns=columns)\n",
    "df.to_csv('output.csv', index=False)"
   ]
  },
  {
   "cell_type": "code",
   "execution_count": 33,
   "id": "fae1bae4-3dfe-46eb-bd57-13d9c127c8ca",
   "metadata": {
    "tags": []
   },
   "outputs": [
    {
     "data": {
      "text/html": [
       "<div>\n",
       "<style scoped>\n",
       "    .dataframe tbody tr th:only-of-type {\n",
       "        vertical-align: middle;\n",
       "    }\n",
       "\n",
       "    .dataframe tbody tr th {\n",
       "        vertical-align: top;\n",
       "    }\n",
       "\n",
       "    .dataframe thead th {\n",
       "        text-align: right;\n",
       "    }\n",
       "</style>\n",
       "<table border=\"1\" class=\"dataframe\">\n",
       "  <thead>\n",
       "    <tr style=\"text-align: right;\">\n",
       "      <th></th>\n",
       "      <th>question</th>\n",
       "      <th>generated_sql</th>\n",
       "    </tr>\n",
       "  </thead>\n",
       "  <tbody>\n",
       "    <tr>\n",
       "      <th>0</th>\n",
       "      <td>How many people are enrolled in CalFresh?</td>\n",
       "      <td>\\nSELECT \\n  fileyear,\\n  county,\\n  CalFresh...</td>\n",
       "    </tr>\n",
       "    <tr>\n",
       "      <th>1</th>\n",
       "      <td>How many of them live in Los Angeles County?</td>\n",
       "      <td>\\nSELECT \\n  County,\\n  SUM(Number_of_Benefic...</td>\n",
       "    </tr>\n",
       "    <tr>\n",
       "      <th>2</th>\n",
       "      <td>How has participation in CalFresh changed sinc...</td>\n",
       "      <td>\\nSELECT\\n  Year,\\n  SUM(CalFresh_Enrollment)...</td>\n",
       "    </tr>\n",
       "    <tr>\n",
       "      <th>3</th>\n",
       "      <td>How do CalFresh program participation trends d...</td>\n",
       "      <td>\\nSELECT \\n  fileyear,\\n  COALESCE(SUM(SAFE_C...</td>\n",
       "    </tr>\n",
       "    <tr>\n",
       "      <th>4</th>\n",
       "      <td>How have these race and ethnicity trends chang...</td>\n",
       "      <td>SQL not generated</td>\n",
       "    </tr>\n",
       "    <tr>\n",
       "      <th>5</th>\n",
       "      <td>Which county has the greatest proportion of Ca...</td>\n",
       "      <td>\\nSELECT Number AS county, \\n       COALESCE(...</td>\n",
       "    </tr>\n",
       "    <tr>\n",
       "      <th>6</th>\n",
       "      <td>What about three or more additional programs?</td>\n",
       "      <td>SQL not generated</td>\n",
       "    </tr>\n",
       "    <tr>\n",
       "      <th>7</th>\n",
       "      <td>Which programs have the highest co-enrollment ...</td>\n",
       "      <td>SQL not generated</td>\n",
       "    </tr>\n",
       "    <tr>\n",
       "      <th>8</th>\n",
       "      <td>What county has the greatest enrollment in WIC...</td>\n",
       "      <td>\\nSELECT\\n  Vendor_Location,\\n  COALESCE(\\n  ...</td>\n",
       "    </tr>\n",
       "    <tr>\n",
       "      <th>9</th>\n",
       "      <td>Which five counties have the lowest number of ...</td>\n",
       "      <td>\\nSELECT Vendor_Location,\\n       (vendor_cnt...</td>\n",
       "    </tr>\n",
       "    <tr>\n",
       "      <th>10</th>\n",
       "      <td>How do infant mortality rates, low birthweight...</td>\n",
       "      <td>\\nSELECT\\n  births.County,\\n  births.Month,\\n...</td>\n",
       "    </tr>\n",
       "    <tr>\n",
       "      <th>11</th>\n",
       "      <td>How many Black individuals are served across C...</td>\n",
       "      <td>SQL not generated</td>\n",
       "    </tr>\n",
       "    <tr>\n",
       "      <th>12</th>\n",
       "      <td>What is the breakdown by program?</td>\n",
       "      <td>\\nSELECT Program, \\n       COALESCE(SUM(CAST(...</td>\n",
       "    </tr>\n",
       "    <tr>\n",
       "      <th>13</th>\n",
       "      <td>Has this changed over time?</td>\n",
       "      <td>\\nSELECT\\n  fileyear,\\n  COALESCE(SUM(SAFE_CA...</td>\n",
       "    </tr>\n",
       "    <tr>\n",
       "      <th>14</th>\n",
       "      <td>Change over time by program?</td>\n",
       "      <td>\\nSELECT fileyear,\\n       Program,\\n       C...</td>\n",
       "    </tr>\n",
       "    <tr>\n",
       "      <th>15</th>\n",
       "      <td>Which counties have the highest and lowest rat...</td>\n",
       "      <td>SQL not generated</td>\n",
       "    </tr>\n",
       "    <tr>\n",
       "      <th>16</th>\n",
       "      <td>What is the ratio of non-suspended doctors to ...</td>\n",
       "      <td>\\nSELECT\\n  c.CountyName,\\n  COUNT(DISTINCT C...</td>\n",
       "    </tr>\n",
       "    <tr>\n",
       "      <th>17</th>\n",
       "      <td>What about the ratio to licensed facilities?</td>\n",
       "      <td>\\nSELECT\\n  annual_file.Number,\\n  (\\n    COU...</td>\n",
       "    </tr>\n",
       "  </tbody>\n",
       "</table>\n",
       "</div>"
      ],
      "text/plain": [
       "                                             question  \\\n",
       "0           How many people are enrolled in CalFresh?   \n",
       "1        How many of them live in Los Angeles County?   \n",
       "2   How has participation in CalFresh changed sinc...   \n",
       "3   How do CalFresh program participation trends d...   \n",
       "4   How have these race and ethnicity trends chang...   \n",
       "5   Which county has the greatest proportion of Ca...   \n",
       "6       What about three or more additional programs?   \n",
       "7   Which programs have the highest co-enrollment ...   \n",
       "8   What county has the greatest enrollment in WIC...   \n",
       "9   Which five counties have the lowest number of ...   \n",
       "10  How do infant mortality rates, low birthweight...   \n",
       "11  How many Black individuals are served across C...   \n",
       "12                  What is the breakdown by program?   \n",
       "13                        Has this changed over time?   \n",
       "14                       Change over time by program?   \n",
       "15  Which counties have the highest and lowest rat...   \n",
       "16  What is the ratio of non-suspended doctors to ...   \n",
       "17       What about the ratio to licensed facilities?   \n",
       "\n",
       "                                        generated_sql  \n",
       "0    \\nSELECT \\n  fileyear,\\n  county,\\n  CalFresh...  \n",
       "1    \\nSELECT \\n  County,\\n  SUM(Number_of_Benefic...  \n",
       "2    \\nSELECT\\n  Year,\\n  SUM(CalFresh_Enrollment)...  \n",
       "3    \\nSELECT \\n  fileyear,\\n  COALESCE(SUM(SAFE_C...  \n",
       "4                                   SQL not generated  \n",
       "5    \\nSELECT Number AS county, \\n       COALESCE(...  \n",
       "6                                   SQL not generated  \n",
       "7                                   SQL not generated  \n",
       "8    \\nSELECT\\n  Vendor_Location,\\n  COALESCE(\\n  ...  \n",
       "9    \\nSELECT Vendor_Location,\\n       (vendor_cnt...  \n",
       "10   \\nSELECT\\n  births.County,\\n  births.Month,\\n...  \n",
       "11                                  SQL not generated  \n",
       "12   \\nSELECT Program, \\n       COALESCE(SUM(CAST(...  \n",
       "13   \\nSELECT\\n  fileyear,\\n  COALESCE(SUM(SAFE_CA...  \n",
       "14   \\nSELECT fileyear,\\n       Program,\\n       C...  \n",
       "15                                  SQL not generated  \n",
       "16   \\nSELECT\\n  c.CountyName,\\n  COUNT(DISTINCT C...  \n",
       "17   \\nSELECT\\n  annual_file.Number,\\n  (\\n    COU...  "
      ]
     },
     "execution_count": 33,
     "metadata": {},
     "output_type": "execute_result"
    }
   ],
   "source": [
    "df"
   ]
  },
  {
   "cell_type": "code",
   "execution_count": 34,
   "id": "fa430d67-8cda-46f0-989b-771ac299f9d0",
   "metadata": {},
   "outputs": [],
   "source": [
    "fq1 = \"How have these race and ethnicity trends changed over time?\"\n",
    "table_name1 = 'calhhs-dashboard-2015-2020-annual-data-file'\n",
    "\n",
    "fq2 = \"Which five counties have the lowest number of WIC authorized vendors compared to WIC participants?\"\n",
    "table_name2 = 'wic-redemption-by-county-by-participant-category-data-2010-2018'\n",
    "\n",
    "fq3 = \"What is the breakdown by program?\"\n",
    "table_name3 = 'calhhs-dashboard-2015-2020-annual-data-file'\n",
    "\n",
    "fq4 = \"Has this changed over time?\"\n",
    "table_name4 = 'calhhs-dashboard-2015-2020-annual-data-file'\n",
    "\n",
    "fq5 = \"What about the ratio to licensed facilities?\"\n",
    "table_name5 = 'calhhs-dashboard-2015-2020-annual-data-file'"
   ]
  },
  {
   "cell_type": "code",
   "execution_count": 35,
   "id": "a3cd1ecb-1034-4c9e-b0c8-8718d27bc554",
   "metadata": {
    "tags": []
   },
   "outputs": [
    {
     "name": "stdout",
     "output_type": "stream",
     "text": [
      "How have these race and ethnicity trends changed over time?\n",
      "Table name  calhhs-dashboard-2015-2020-annual-data-file\n",
      " \n",
      "SELECT\n",
      "  fileyear,\n",
      "  SUM(White) AS total_white,\n",
      "  SUM(Black) AS total_black,\n",
      "  SUM(Hispanic) AS total_hispanic,\n",
      "  SUM(Asian_PI) AS total_asian,\n",
      "  SUM(Native_American) AS total_native_american\n",
      "FROM `cdii-poc.HHS_Program_Counts.calhhs-dashboard-2015-2020-annual-data-file`\n",
      "GROUP BY\n",
      "  fileyear\n",
      "ORDER BY\n",
      "  fileyear;\n",
      "\n"
     ]
    }
   ],
   "source": [
    "regen_question = fq1\n",
    "regen_table = table_name1\n",
    "\n",
    "# Generate SQL by passing the table name as well\n",
    "\n",
    "sql_query = nl2sqlbq_client.text_to_sql_fewshot(regen_question, table_name=regen_table)\n",
    "print(sql_query)"
   ]
  },
  {
   "cell_type": "code",
   "execution_count": 36,
   "id": "a8626201-e5bd-46fe-9a17-b09e98d50cdd",
   "metadata": {
    "tags": []
   },
   "outputs": [
    {
     "name": "stdout",
     "output_type": "stream",
     "text": [
      "Which five counties have the lowest number of WIC authorized vendors compared to WIC participants?\n",
      "Table name  wic-redemption-by-county-by-participant-category-data-2010-2018\n",
      " \n",
      "SELECT Vendor_Location,\n",
      "       (vendor_cnt/total_participants)*100 AS vendor_participants_ratio\n",
      "FROM (\n",
      "    SELECT TRIM(Vendor_Location) AS Vendor_Location,\n",
      "           COALESCE(SUM(CAST(_Number_of_Participants_Redeemed_ AS INT64)), 0) AS total_participants\n",
      "    FROM `cdii-poc.HHS_Program_Counts.wic-redemption-by-county-by-participant-category-data-2010-2018``\n",
      "    GROUP BY Vendor_Location) AS participants\n",
      "JOIN (\n",
      "    SELECT TRIM(COUNTY) AS COUNTY,\n",
      "           COUNT(VENDOR) AS vendor_cnt\n",
      "    FROM `cdii-poc.HHS_Program_Counts.women-infants-and-children-wic-authorized-vendors\n",
      "    GROUP BY COUNTY\n",
      "    HAVING COUNTY IS NOT NULL) AS vendors\n",
      "ON UPPER(participants.Vendor_Location) = UPPER(vendors.COUNTY)\n",
      "WHERE (vendor_cnt/total_participants)*100 IS NOT NULL\n",
      "ORDER BY vendor_participants_ratio ASC\n",
      "LIMIT 5;\n",
      "\n"
     ]
    }
   ],
   "source": [
    "regen_question = fq2\n",
    "regen_table = table_name2\n",
    "\n",
    "# Generate SQL by passing the table name as well\n",
    "\n",
    "sql_query = nl2sqlbq_client.text_to_sql_fewshot(regen_question, table_name=regen_table)\n",
    "print(sql_query)"
   ]
  },
  {
   "cell_type": "code",
   "execution_count": 37,
   "id": "af7bde1f-aa7a-4d4e-a37a-701fe0abc62a",
   "metadata": {
    "tags": []
   },
   "outputs": [
    {
     "name": "stdout",
     "output_type": "stream",
     "text": [
      "What is the breakdown by program?\n",
      "Table name  calhhs-dashboard-2015-2020-annual-data-file\n",
      " \n",
      "SELECT Program, \n",
      "       COALESCE(SUM(CAST(Number as BIGNUMERIC)), 0) AS total_enrolled\n",
      "FROM `cdii-poc.HHS_Program_Counts.calhhs-dashboard-2015-2020-annual-data-file`\n",
      "GROUP BY Program\n",
      "ORDER BY total_enrolled DESC;\n",
      "\n"
     ]
    }
   ],
   "source": [
    "regen_question = fq3\n",
    "regen_table = table_name3\n",
    "\n",
    "# Generate SQL by passing the table name as well\n",
    "\n",
    "sql_query = nl2sqlbq_client.text_to_sql_fewshot(regen_question, table_name=regen_table)\n",
    "print(sql_query)"
   ]
  },
  {
   "cell_type": "code",
   "execution_count": 38,
   "id": "a57de478-18f8-4912-b8c3-29a96d3a80ea",
   "metadata": {
    "tags": []
   },
   "outputs": [
    {
     "name": "stdout",
     "output_type": "stream",
     "text": [
      "Has this changed over time?\n",
      "Table name  calhhs-dashboard-2015-2020-annual-data-file\n",
      " \n",
      "SELECT\n",
      "  fileyear,\n",
      "  COALESCE(SUM(SAFE_CAST(White AS INT64)), 0) AS total_white,\n",
      "  COALESCE(SUM(SAFE_CAST(Black AS INT64)), 0) AS total_black,\n",
      "  COALESCE(SUM(SAFE_CAST(Hispanic AS INT64)), 0) AS total_hispanic,\n",
      "  COALESCE(SUM(SAFE_CAST(Asian_PI AS INT64)), 0) AS total_asian,\n",
      "  COALESCE(SUM(SAFE_CAST(Native_American AS INT64)), 0) AS total_native_american\n",
      "FROM `cdii-poc.HHS_Program_Counts.calhhs-dashboard-2015-2020-annual-data-file`\n",
      "GROUP BY\n",
      "  fileyear\n",
      "ORDER BY\n",
      "  fileyear;\n",
      "\n"
     ]
    }
   ],
   "source": [
    "regen_question = fq4\n",
    "regen_table = table_name4\n",
    "\n",
    "# Generate SQL by passing the table name as well\n",
    "\n",
    "sql_query = nl2sqlbq_client.text_to_sql_fewshot(regen_question, table_name=regen_table)\n",
    "print(sql_query)"
   ]
  },
  {
   "cell_type": "code",
   "execution_count": 39,
   "id": "e9dabdee-8925-4b20-99d8-a010388f7da1",
   "metadata": {
    "tags": []
   },
   "outputs": [
    {
     "name": "stdout",
     "output_type": "stream",
     "text": [
      "What about the ratio to licensed facilities?\n",
      "Table name  calhhs-dashboard-2015-2020-annual-data-file\n",
      " \n",
      "SELECT\n",
      "  annual_file.Number,\n",
      "  (\n",
      "    COUNT(DISTINCT provider.License) /\n",
      "    SUM(CAST(annual_file.Person AS INT64))\n",
      "  ) * 100 AS ratio_to_licensed_facilities\n",
      "FROM `cdii-poc.HHS_Program_Counts.calhhs-dashboard-2015-2020-annual-data-file` AS annual_file\n",
      "JOIN\n",
      "  cdii-poc.HHS_Program_Counts.calhhs_medi-cal_managed_care_provider_listing AS provider\n",
      "ON\n",
      "  annual_file.Number = provider.County\n",
      "WHERE\n",
      "  annual_file.Level = 'County'\n",
      "  AND provider.RecordType = 'Provider'\n",
      "GROUP BY\n",
      "  annual_file.Number\n",
      "ORDER BY\n",
      "  ratio_to_licensed_facilities DESC\n",
      "LIMIT 5;\n",
      "\n"
     ]
    }
   ],
   "source": [
    "regen_question = fq5\n",
    "regen_table = table_name5\n",
    "\n",
    "# Generate SQL by passing the table name as well\n",
    "\n",
    "sql_query = nl2sqlbq_client.text_to_sql_fewshot(regen_question, table_name=regen_table)\n",
    "print(sql_query)"
   ]
  },
  {
   "cell_type": "code",
   "execution_count": 40,
   "id": "174563ef-5aef-49d1-b98f-a2c28b683902",
   "metadata": {},
   "outputs": [
    {
     "data": {
      "text/plain": [
       "['How have these race and ethnicity trends changed over time?',\n",
       " 'What about three or more additional programs?',\n",
       " 'Which programs have the highest co-enrollment with CalFresh?',\n",
       " 'How many Black individuals are served across CalHHS programs?',\n",
       " 'Which counties have the highest and lowest ratios of providers to enrolled participants in Medi-Cal?']"
      ]
     },
     "execution_count": 40,
     "metadata": {},
     "output_type": "execute_result"
    }
   ],
   "source": [
    "failed_questions"
   ]
  },
  {
   "cell_type": "code",
   "execution_count": null,
   "id": "1ac12654-0e24-4fdd-be56-25e08ac2f50b",
   "metadata": {},
   "outputs": [],
   "source": []
  }
 ],
 "metadata": {
  "environment": {
   "kernel": "python3",
   "name": "common-cpu.m117",
   "type": "gcloud",
   "uri": "us-docker.pkg.dev/deeplearning-platform-release/gcr.io/base-cpu:m117"
  },
  "kernelspec": {
   "display_name": "Python 3 (Local)",
   "language": "python",
   "name": "python3"
  },
  "language_info": {
   "codemirror_mode": {
    "name": "ipython",
    "version": 3
   },
   "file_extension": ".py",
   "mimetype": "text/x-python",
   "name": "python",
   "nbconvert_exporter": "python",
   "pygments_lexer": "ipython3",
   "version": "3.10.13"
  }
 },
 "nbformat": 4,
 "nbformat_minor": 5
}
