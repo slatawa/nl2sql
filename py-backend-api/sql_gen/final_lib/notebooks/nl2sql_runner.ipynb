{
 "cells": [
  {
   "cell_type": "code",
   "execution_count": 1,
   "id": "6d02eb83-addf-4847-9d70-52000fc099f4",
   "metadata": {
    "tags": []
   },
   "outputs": [],
   "source": [
    "%load_ext autoreload\n",
    "%autoreload 2\n",
    "\n",
    "import sys  \n",
    "sys.path.insert(1, '../')"
   ]
  },
  {
   "cell_type": "code",
   "execution_count": 59,
   "id": "92b70b8a-f2fa-4254-8f83-20dd48ca232a",
   "metadata": {},
   "outputs": [],
   "source": [
    "from nl2sql_src.nl2sql_generic import Nl2sqlBq_rag\n",
    "import pandas as pd\n",
    "from pandas import DataFrame\n",
    "\n",
    "import json\n",
    "\n",
    "import vertexai\n",
    "from vertexai.language_models import TextGenerationModel"
   ]
  },
  {
   "cell_type": "code",
   "execution_count": 60,
   "id": "a50cfd2f-8977-4e5e-9e15-584e219620f9",
   "metadata": {},
   "outputs": [],
   "source": [
    "project_id = \"cdii-poc\"\n",
    "dataset_id = \"HHS_Program_Counts\""
   ]
  },
  {
   "cell_type": "code",
   "execution_count": 61,
   "id": "16e4b96f-5ed4-470f-a49d-d4da69c4af69",
   "metadata": {},
   "outputs": [],
   "source": [
    "questions = [\"How many people are enrolled in CalFresh?\",\n",
    "             \"Which county has the greatest proportion of CalFresh recipients co-enrolled in at least one additional program?\",\n",
    "             \"What county has the greatest enrollment in WIC per capita?\",\n",
    "              #\"How many Black individuals are served across CalHHS programs?\",\n",
    "              \"Which counties have the highest and lowest ratios of providers to enrolled participants in Medi-Cal?\",\n",
    "             ]"
   ]
  },
  {
   "cell_type": "code",
   "execution_count": 62,
   "id": "391977e7-eea2-4ccf-9826-846e1e36553e",
   "metadata": {},
   "outputs": [
    {
     "data": {
      "text/plain": [
       "'Which county has the greatest proportion of CalFresh recipients co-enrolled in at least one additional program?'"
      ]
     },
     "execution_count": 62,
     "metadata": {},
     "output_type": "execute_result"
    }
   ],
   "source": [
    "question = questions[1]\n",
    "question\n",
    "# question = 'Which county has the greatest proportion of CalFresh recipients co-enrolled in at least one additional program? '"
   ]
  },
  {
   "cell_type": "markdown",
   "id": "aaed1407-b654-4466-b3ba-4746b477721e",
   "metadata": {},
   "source": [
    "### Generate SQL with zero-shot prompting"
   ]
  },
  {
   "cell_type": "code",
   "execution_count": 63,
   "id": "1f23563b-671d-4e60-b541-f8e32a6a7f5e",
   "metadata": {},
   "outputs": [],
   "source": [
    "# Initializing when metadata cache is already created\n",
    "meta_data_json_path = \"../cache_metadata/metadata_cache.json\"\n",
    "# meta_data_json_path = \"../cache_metadata/updated-metadata.json\"\n",
    "nl2sqlbq_client = Nl2sqlBq_rag(project_id=project_id,\n",
    "                           dataset_id=dataset_id,\n",
    "                           metadata_json_path = meta_data_json_path, #\"../cache_metadata/metadata_cache.json\",\n",
    "                           model_name=\"text-bison\"\n",
    "                           # model_name=\"code-bison\"\n",
    "                          )\n"
   ]
  },
  {
   "cell_type": "code",
   "execution_count": 64,
   "id": "baee487a-0612-419a-b0bc-388cd5199234",
   "metadata": {
    "tags": []
   },
   "outputs": [
    {
     "name": "stdout",
     "output_type": "stream",
     "text": [
      "Which county has the greatest proportion of CalFresh recipients co-enrolled in at least one additional program?\n",
      "Table Filter -  ['calhhs-dashboard-2015-2020-annual-data-file']\n",
      "Which county has the greatest proportion of CalFresh recipients co-enrolled in at least one additional program?\n",
      "Table Filter -  ['calhhs-dashboard-2015-2020-annual-data-file']\n",
      " \n",
      "SELECT\n",
      "  Number AS County,\n",
      "  ROUND(\n",
      "    (CAST(_2_programs AS FLOAT64) + CAST(_3_programs AS FLOAT64) + CAST(_4_programs AS FLOAT64) + CAST(_5__programs AS FLOAT64)) /\n",
      "    CAST(Person AS FLOAT64),\n",
      "    2\n",
      "  ) AS Coenrollment_Rate\n",
      "FROM cdii-poc.HHS_Program_Counts.`calhhs-dashboard-2015-2020-annual-data-file`\n",
      "WHERE\n",
      "  Program = \"CalFresh\"\n",
      "ORDER BY\n",
      "  Coenrollment_Rate DESC\n",
      "LIMIT 1;\n",
      "\n"
     ]
    }
   ],
   "source": [
    "print(question)\n",
    "table_info = nl2sqlbq_client.table_filter(question)\n",
    "table_info\n",
    "\n",
    "sql_query = nl2sqlbq_client.text_to_sql(question)\n",
    "print(sql_query)"
   ]
  },
  {
   "cell_type": "markdown",
   "id": "417e4d55-dcd6-4f65-a560-82ed4f17e7be",
   "metadata": {
    "tags": []
   },
   "source": [
    "## Using PostgreSQL and VectorDB indices to search for Closest matching queries for Few-shot prompting"
   ]
  },
  {
   "cell_type": "markdown",
   "id": "e6a45e9c-b451-4c6b-8264-1014f0b0e31d",
   "metadata": {},
   "source": [
    "### Initialize the PostgreDB\n",
    "Please make sure the PostgreDB instance and database are created"
   ]
  },
  {
   "cell_type": "code",
   "execution_count": 65,
   "id": "8dfcb1a6-a59c-4998-a6ee-b5147252dc50",
   "metadata": {},
   "outputs": [],
   "source": [
    "# Table name is 'documents'\n",
    "\n",
    "PGPROJ = \"cdii-poc\"\n",
    "PGLOCATION = 'us-central1'\n",
    "PGINSTANCE = \"cdii-demo-temp\"\n",
    "PGDB = \"demodbcdii\"\n",
    "PGUSER = \"postgres\"\n",
    "PGPWD = \"cdii-demo\"\n",
    "\n",
    "nl2sqlbq_client.init_pgdb(PGPROJ, PGLOCATION, PGINSTANCE, PGDB, PGUSER, PGPWD)\n",
    "\n",
    "\n"
   ]
  },
  {
   "cell_type": "markdown",
   "id": "adc72d8d-71e9-47fe-a935-e08be93e2931",
   "metadata": {},
   "source": [
    "### Sql Generation with few-shot prompting"
   ]
  },
  {
   "cell_type": "code",
   "execution_count": 66,
   "id": "42bf9115-0930-44c8-a076-123987eb547b",
   "metadata": {},
   "outputs": [
    {
     "name": "stdout",
     "output_type": "stream",
     "text": [
      "Which county has the greatest proportion of CalFresh recipients co-enrolled in at least one additional program?\n",
      "Table Filter -  ['calhhs-dashboard-2015-2020-annual-data-file']\n",
      "Which county has the greatest proportion of CalFresh recipients co-enrolled in at least one additional program?\n",
      "Table Filter -  ['calhhs-dashboard-2015-2020-annual-data-file']\n",
      "Table name  calhhs-dashboard-2015-2020-annual-data-file\n",
      " \n",
      "SELECT Number AS county, \n",
      "       COALESCE(SUM(CAST(Person AS INT64)), 0) AS total_calfresh_recipients,\n",
      "       COALESCE(SUM(CAST(_2_programs AS INT64)), 0) AS calfresh_coenrolled_in_2_programs,\n",
      "       COALESCE(SUM(CAST(_3_programs AS INT64)), 0) AS calfresh_coenrolled_in_3_programs,\n",
      "       COALESCE(SUM(CAST(_4_programs AS INT64)), 0) AS calfresh_coenrolled_in_4_programs,\n",
      "       COALESCE(SUM(CAST(_5__programs AS INT64)), 0) AS calfresh_coenrolled_in_5_programs,\n",
      "       (COALESCE(SUM(CAST(_2_programs AS INT64)), 0) + \n",
      "        COALESCE(SUM(CAST(_3_programs AS INT64)), 0) + \n",
      "        COALESCE(SUM(CAST(_4_programs AS INT64)), 0) + \n",
      "        COALESCE(SUM(CAST(_5__programs AS INT64)), 0)) / \n",
      "       COALESCE(SUM(CAST(Person AS INT64)), 0) AS calfresh_coenrollment_rate\n",
      "FROM `cdii-poc.HHS_Program_Counts.calhhs-dashboard-2015-2020-annual-data-file`\n",
      "WHERE (Level) = 'County'\n",
      "  AND (Number) <> 'County Total'\n",
      "  AND (Program) = 'CalFresh'\n",
      "GROUP BY county\n",
      "ORDER BY calfresh_coenrollment_rate DESC\n",
      "LIMIT 1;\n",
      "\n"
     ]
    }
   ],
   "source": [
    "print(question)\n",
    "table_info = nl2sqlbq_client.table_filter(question)\n",
    "table_info\n",
    "\n",
    "sql_query = nl2sqlbq_client.text_to_sql_fewshot(question)\n",
    "print(sql_query)"
   ]
  },
  {
   "cell_type": "code",
   "execution_count": 67,
   "id": "cadc3674-5c2e-4e8f-886c-b4fea709ed00",
   "metadata": {
    "tags": []
   },
   "outputs": [],
   "source": [
    "# nl2sqlbq_client_raw = Nl2sqlBq(project_id=project_id,\n",
    "#                            dataset_id=dataset_id,\n",
    "#                            metadata_json_path = \"metadata_cache.json\",\n",
    "#                            model_name=\"text-bison\"\n",
    "#                           )\n",
    "# question = questions[1]\n",
    "# print(question)\n",
    "# table_info = nl2sqlbq_client_raw.table_filter(question)\n",
    "# table_info\n",
    "\n",
    "# sql_query = nl2sqlbq_client_raw.text_to_sql(question)\n",
    "# print(sql_query)"
   ]
  },
  {
   "cell_type": "code",
   "execution_count": 68,
   "id": "69114cd9-54d8-4e88-bbf3-04a3249aa294",
   "metadata": {
    "tags": []
   },
   "outputs": [],
   "source": [
    "all_questions = [\"How many people are enrolled in CalFresh?\",\n",
    "    \"How many of them live in Los Angeles County?\",\n",
    "    \"How has participation in CalFresh changed since 2015?\",\n",
    "    \"How do CalFresh program participation trends differ by race and ethnicity?\",\n",
    "    \"How have these race and ethnicity trends changed over time?\",\n",
    "    \"Which county has the greatest proportion of CalFresh recipients co-enrolled in at least one additional program?\",\n",
    "    \"What about three or more additional programs?\",\n",
    "    \"Which programs have the highest co-enrollment with CalFresh?\",\n",
    "    \"What county has the greatest enrollment in WIC per capita?\",\n",
    "    \"Which five counties have the lowest number of WIC authorized vendors compared to WIC participants?\",\n",
    "    \"How do infant mortality rates, low birthweight rates, and preterm and very preterm rates compare to WIC enrollment rates by county?\",\n",
    "    \"How many Black individuals are served across CalHHS programs?\",\n",
    "    \"What is the breakdown by program?\",\n",
    "    \"Has this changed over time?\",\n",
    "    \"Change over time by program?\",\n",
    "    \"Which counties have the highest and lowest ratios of providers to enrolled participants in Medi-Cal?\",\n",
    "    \"What is the ratio of non-suspended doctors to Medi-Cal members by County?\",\n",
    "    \"What about the ratio to licensed facilities?\"\n",
    "            ]"
   ]
  },
  {
   "cell_type": "code",
   "execution_count": 69,
   "id": "4752489a-b807-4b92-acf2-cecbe411ea82",
   "metadata": {},
   "outputs": [
    {
     "name": "stdout",
     "output_type": "stream",
     "text": [
      "18\n",
      "How many people are enrolled in CalFresh?\n",
      "Table Filter -  ['calhhs-dashboard-2015-2020-annual-data-file']\n",
      "How many people are enrolled in CalFresh?\n",
      "Table Filter -  ['calhhs-dashboard-2015-2020-annual-data-file']\n",
      "Table name  calhhs-dashboard-2015-2020-annual-data-file\n",
      " \n",
      "SELECT \n",
      "  fileyear,\n",
      "  Number,\n",
      "  CalFresh\n",
      "FROM `cdii-poc.HHS_Program_Counts.calhhs-dashboard-2015-2020-annual-data-file`\n",
      "WHERE \n",
      "  Program = \"CalFresh\";\n",
      "\n",
      "How many of them live in Los Angeles County?\n",
      "Table Filter -  ['20230912_births_final_county_month_sup']\n",
      "How many of them live in Los Angeles County?\n",
      "Table Filter -  ['20230912_births_final_county_month_sup']\n",
      "Table name  20230912_births_final_county_month_sup\n",
      " \n",
      "SELECT \n",
      "  SUM(CAST(Count AS INT64)) AS total_births\n",
      "FROM cdii-poc.HHS_Program_Counts.`20230912_births_final_county_month_sup`\n",
      "WHERE \n",
      "  County = 'Los Angeles'\n",
      "  AND Geography_Type = 'Residence';\n",
      "\n",
      "How has participation in CalFresh changed since 2015?\n",
      "Table Filter -  ['calhhs-dashboard-2015-2020-annual-data-file']\n",
      "How has participation in CalFresh changed since 2015?\n",
      "Table Filter -  ['calhhs-dashboard-2015-2020-annual-data-file']\n",
      "Table name  calhhs-dashboard-2015-2020-annual-data-file\n",
      " \n",
      "SELECT\n",
      "  fileyear,\n",
      "  SUM(CAST(Person AS INT64)) AS total_enrolled\n",
      "FROM `cdii-poc.HHS_Program_Counts.calhhs-dashboard-2015-2020-annual-data-file`\n",
      "WHERE\n",
      "  Program = \"CalFresh\"\n",
      "GROUP BY\n",
      "  fileyear\n",
      "ORDER BY\n",
      "  fileyear;\n",
      "\n",
      "How do CalFresh program participation trends differ by race and ethnicity?\n",
      "Table Filter -  ['calhhs-dashboard-2015-2020-annual-data-file']\n",
      "How do CalFresh program participation trends differ by race and ethnicity?\n",
      "Table Filter -  ['calhhs-dashboard-2015-2020-annual-data-file']\n",
      "Table name  calhhs-dashboard-2015-2020-annual-data-file\n",
      " \n",
      "SELECT\n",
      "  fileyear,\n",
      "  COALESCE(SUM(White), 0) AS White,\n",
      "  COALESCE(SUM(Black), 0) AS Black,\n",
      "  COALESCE(SUM(Hispanic), 0) AS Hispanic,\n",
      "  COALESCE(SUM(Asian_PI), 0) AS Asian_PI,\n",
      "  COALESCE(SUM(Native_American), 0) AS Native_American\n",
      "FROM `cdii-poc.HHS_Program_Counts.calhhs-dashboard-2015-2020-annual-data-file`\n",
      "WHERE\n",
      "  Program = 'CalFresh'\n",
      "GROUP BY\n",
      "  fileyear\n",
      "ORDER BY\n",
      "  fileyear;\n",
      "\n",
      "How have these race and ethnicity trends changed over time?\n",
      "Table Filter -  ['low-and-very-low-birthweight-by-race-ethnicity-2014-2018\\npreterm-and-very-preterm-births-by-raceethnicity-2010-2018']\n",
      "How have these race and ethnicity trends changed over time?\n",
      "Table Filter -  ['low-and-very-low-birthweight-by-race-ethnicity-2014-2018\\npreterm-and-very-preterm-births-by-raceethnicity-2010-2018']\n",
      "Table name  low-and-very-low-birthweight-by-race-ethnicity-2014-2018\n",
      "preterm-and-very-preterm-births-by-raceethnicity-2010-2018\n",
      "Which county has the greatest proportion of CalFresh recipients co-enrolled in at least one additional program?\n"
     ]
    },
    {
     "name": "stderr",
     "output_type": "stream",
     "text": [
      "Traceback (most recent call last):\n",
      "  File \"/home/jupyter/nl2sql-fiserv/temp/lib-nl2sql/nl_2_sql_lib/final_lib/notebooks/../nl2sql_src/nl2sql_generic.py\", line 314, in text_to_sql_fewshot\n",
      "    table_json = self.metadata_json[table_name]\n",
      "KeyError: 'low-and-very-low-birthweight-by-race-ethnicity-2014-2018\\npreterm-and-very-preterm-births-by-raceethnicity-2010-2018'\n"
     ]
    },
    {
     "name": "stdout",
     "output_type": "stream",
     "text": [
      "Table Filter -  ['calhhs-dashboard-2015-2020-annual-data-file']\n",
      "Which county has the greatest proportion of CalFresh recipients co-enrolled in at least one additional program?\n",
      "Table Filter -  ['calhhs-dashboard-2015-2020-annual-data-file']\n",
      "Table name  calhhs-dashboard-2015-2020-annual-data-file\n",
      " \n",
      "SELECT Number AS county, \n",
      "       COALESCE(SUM(CAST(Person AS INT64)), 0) AS total_calfresh_recipients,\n",
      "       COALESCE(SUM(CAST(_2_programs AS INT64)), 0) AS calfresh_coenrolled_in_2_programs,\n",
      "       COALESCE(SUM(CAST(_3_programs AS INT64)), 0) AS calfresh_coenrolled_in_3_programs,\n",
      "       COALESCE(SUM(CAST(_4_programs AS INT64)), 0) AS calfresh_coenrolled_in_4_programs,\n",
      "       COALESCE(SUM(CAST(_5__programs AS INT64)), 0) AS calfresh_coenrolled_in_5_programs,\n",
      "       (COALESCE(SUM(CAST(_2_programs AS INT64)), 0) + \n",
      "        COALESCE(SUM(CAST(_3_programs AS INT64)), 0) + \n",
      "        COALESCE(SUM(CAST(_4_programs AS INT64)), 0) + \n",
      "        COALESCE(SUM(CAST(_5__programs AS INT64)), 0)) / \n",
      "       COALESCE(SUM(CAST(Person AS INT64)), 0) AS calfresh_coenrollment_rate\n",
      "FROM `cdii-poc.HHS_Program_Counts.calhhs-dashboard-2015-2020-annual-data-file`\n",
      "WHERE (Level) = 'County'\n",
      "  AND (Number) <> 'County Total'\n",
      "  AND (Program) = 'CalFresh'\n",
      "GROUP BY county\n",
      "ORDER BY calfresh_coenrollment_rate DESC\n",
      "LIMIT 1;\n",
      "\n",
      "What about three or more additional programs?\n",
      "Table Filter -  ['calhhs-dashboard-2015-2020-annual-data-file']\n",
      "What about three or more additional programs?\n",
      "Table Filter -  ['calhhs-dashboard-2015-2020-annual-data-file']\n",
      "Table name  calhhs-dashboard-2015-2020-annual-data-file\n",
      " \n",
      "SELECT\n",
      "  Program,\n",
      "  COALESCE(SUM(CAST(_3_programs AS INT64)), 0) AS three_more_programs\n",
      "FROM `cdii-poc.HHS_Program_Counts.calhhs-dashboard-2015-2020-annual-data-file`\n",
      "WHERE\n",
      "  _3_programs > 0\n",
      "GROUP BY\n",
      "  Program\n",
      "ORDER BY\n",
      "  three_more_programs DESC;\n",
      "\n",
      "Which programs have the highest co-enrollment with CalFresh?\n",
      "Table Filter -  ['calhhs-dashboard-2015-2020-annual-data-file']\n",
      "Which programs have the highest co-enrollment with CalFresh?\n",
      "Table Filter -  ['calhhs-dashboard-2015-2020-annual-data-file']\n",
      "Table name  calhhs-dashboard-2015-2020-annual-data-file\n",
      " \n",
      "SELECT\n",
      "  Program,\n",
      "  COALESCE(SUM(Person), 0) AS total_enrolled\n",
      "FROM `cdii-poc.HHS_Program_Counts.calhhs-dashboard-2015-2020-annual-data-file`\n",
      "WHERE\n",
      "  Program <> 'CalFresh'\n",
      "GROUP BY\n",
      "  Program\n",
      "ORDER BY\n",
      "  total_enrolled DESC;\n",
      "\n",
      "What county has the greatest enrollment in WIC per capita?\n",
      "Table Filter -  ['wic-redemption-by-county-by-participant-category-data-2010-2018']\n",
      "What county has the greatest enrollment in WIC per capita?\n",
      "Table Filter -  ['wic-redemption-by-county-by-participant-category-data-2010-2018']\n",
      "Table name  wic-redemption-by-county-by-participant-category-data-2010-2018\n",
      " \n",
      "SELECT\n",
      "  Vendor_Location,\n",
      "  COALESCE(\n",
      "    SUM(CAST(_Number_of_Participants_Redeemed_ AS INT64)),\n",
      "    0\n",
      "  ) AS total_participants\n",
      "FROM `cdii-poc.HHS_Program_Counts.wic-redemption-by-county-by-participant-category-data-2010-2018`\n",
      "GROUP BY\n",
      "  Vendor_Location\n",
      "ORDER BY\n",
      "  total_participants DESC\n",
      "LIMIT 1;\n",
      "\n",
      "Which five counties have the lowest number of WIC authorized vendors compared to WIC participants?\n",
      "Table Filter -  ['2021-2022-part-c-wic-redemptions-by-vendor-county-with-family-counts']\n",
      "Which five counties have the lowest number of WIC authorized vendors compared to WIC participants?\n",
      "Table Filter -  ['2021-2022-part-c-wic-redemptions-by-vendor-county-with-family-counts']\n",
      "Table name  2021-2022-part-c-wic-redemptions-by-vendor-county-with-family-counts\n",
      "How do infant mortality rates, low birthweight rates, and preterm and very preterm rates compare to WIC enrollment rates by county?\n"
     ]
    },
    {
     "name": "stderr",
     "output_type": "stream",
     "text": [
      "Traceback (most recent call last):\n",
      "  File \"/home/jupyter/nl2sql-fiserv/temp/lib-nl2sql/nl_2_sql_lib/final_lib/notebooks/../nl2sql_src/nl2sql_generic.py\", line 314, in text_to_sql_fewshot\n",
      "    table_json = self.metadata_json[table_name]\n",
      "KeyError: '2021-2022-part-c-wic-redemptions-by-vendor-county-with-family-counts'\n"
     ]
    },
    {
     "name": "stdout",
     "output_type": "stream",
     "text": [
      "Table Filter -  ['wic-redemption-by-county-by-participant-category-data-2010-2018']\n",
      "How do infant mortality rates, low birthweight rates, and preterm and very preterm rates compare to WIC enrollment rates by county?\n",
      "Table Filter -  ['wic-redemption-by-county-by-participant-category-data-2010-2018']\n",
      "Table name  wic-redemption-by-county-by-participant-category-data-2010-2018\n",
      " \n",
      "WITH WIC_DATA AS (\n",
      "    SELECT\n",
      "        Vendor_Location,\n",
      "        Year_Month,\n",
      "        _Number_of_Participants_Redeemed_\n",
      "    FROM `cdii-poc.HHS_Program_Counts.wic-redemption-by-county-by-participant-category-data-2010-2018`````\n",
      "    WHERE\n",
      "        Participant_Category = 'Infant'\n",
      "),\n",
      "INFANT_MORTALITY_DATA AS (\n",
      "    SELECT\n",
      "        County,\n",
      "        Year,\n",
      "        Infant_Mortality_Rate\n",
      "    FROM `cdii-poc.HHS_Program_Counts.infant-mortality-rates-by-county-2010-2018\n",
      "),\n",
      "LOW_BIRTHWEIGHT_DATA AS (\n",
      "    SELECT\n",
      "        County,\n",
      "        Year,\n",
      "        Low_Birthweight_Rate\n",
      "    FROM `cdii-poc.HHS_Program_Counts.low-birthweight-rates-by-county-2010-2018\n",
      "),\n",
      "PRETERM_BIRTH_DATA AS (\n",
      "    SELECT\n",
      "        County,\n",
      "        Year,\n",
      "        Preterm_Birth_Rate,\n",
      "        Very_Preterm_Birth_Rate\n",
      "    FROM `cdii-poc.HHS_Program_Counts.preterm-birth-rates-by-county-2010-2018\n",
      "),\n",
      "COUNTY_POPULATION_DATA AS (\n",
      "    SELECT\n",
      "        County,\n",
      "        Year,\n",
      "        Population\n",
      "    FROM `cdii-poc.HHS_Program_Counts.county-population-estimates-2010-2018\n",
      ")\n",
      "SELECT\n",
      "    WIC_DATA.Vendor_Location,\n",
      "    WIC_DATA.Year_Month,\n",
      "    WIC_DATA._Number_of_Participants_Redeemed_,\n",
      "    INFANT_MORTALITY_DATA.Infant_Mortality_Rate,\n",
      "    LOW_BIRTHWEIGHT_DATA.Low_Birthweight_Rate,\n",
      "    PRETERM_BIRTH_DATA.Preterm_Birth_Rate,\n",
      "    PRETERM_BIRTH_DATA.Very_Preterm_Birth_Rate,\n",
      "    COUNTY_POPULATION_DATA.Population\n",
      "FROM cdii-poc.HHS_Program_Counts.`WIC_DATA`\n",
      "JOIN\n",
      "    INFANT_MORTALITY_DATA ON WIC_DATA.Vendor_Location = INFANT_MORTALITY_DATA.County\n",
      "    AND WIC_DATA.Year_Month = INFANT_MORTALITY_DATA.Year\n",
      "JOIN\n",
      "    LOW_BIRTHWEIGHT_DATA ON WIC_DATA.Vendor_Location = LOW_BIRTHWEIGHT_DATA.County\n",
      "    AND WIC_DATA.Year_Month = LOW_BIRTHWEIGHT_DATA.Year\n",
      "JOIN\n",
      "    PRETERM_BIRTH_DATA ON WIC_DATA.Vendor_Location = PRETERM_BIRTH_DATA.County\n",
      "    AND WIC_DATA.Year_Month = PRETERM_BIRTH_DATA.Year\n",
      "JOIN\n",
      "    COUNTY_POPULATION_DATA ON WIC_DATA.Vendor_Location = COUNTY_POPULATION_DATA.County\n",
      "    AND WIC_DATA.Year_Month = COUNTY_POPULATION_DATA.Year;\n",
      "\n",
      "How many Black individuals are served across CalHHS programs?\n",
      "Table Filter -  ['calhhs-dashboard-2015-2020-annual-data-file']\n",
      "How many Black individuals are served across CalHHS programs?\n",
      "Table Filter -  ['calhhs-dashboard-2015-2020-annual-data-file']\n",
      "Table name  calhhs-dashboard-2015-2020-annual-data-file\n",
      " \n",
      "SELECT  COALESCE(SUM(SAFE_CAST( Black   AS INT64)), 0) AS total_black FROM `cdii-poc.HHS_Program_Counts.calhhs-dashboard-2015-2020-annual-data-file` ;\n",
      "\n",
      "What is the breakdown by program?\n",
      "Table Filter -  ['calhhs-dashboard-2015-2020-annual-data-file\\ncalhhs-dashboard-2015-2020-july-data-file']\n",
      "What is the breakdown by program?\n",
      "Table Filter -  ['calhhs-dashboard-2015-2020-annual-data-file\\ncalhhs-dashboard-2015-2020-july-data-file']\n",
      "Table name  calhhs-dashboard-2015-2020-annual-data-file\n",
      "calhhs-dashboard-2015-2020-july-data-file\n",
      "Has this changed over time?\n"
     ]
    },
    {
     "name": "stderr",
     "output_type": "stream",
     "text": [
      "Traceback (most recent call last):\n",
      "  File \"/home/jupyter/nl2sql-fiserv/temp/lib-nl2sql/nl_2_sql_lib/final_lib/notebooks/../nl2sql_src/nl2sql_generic.py\", line 314, in text_to_sql_fewshot\n",
      "    table_json = self.metadata_json[table_name]\n",
      "KeyError: 'calhhs-dashboard-2015-2020-annual-data-file\\ncalhhs-dashboard-2015-2020-july-data-file'\n"
     ]
    },
    {
     "name": "stdout",
     "output_type": "stream",
     "text": [
      "Table Filter -  ['2010-2018-part-a-wic-redemptions-by-vendor-county-with-family-counts\\n2019-2020-part-b-wic-redemptions-by-vendor-county-with-family-counts\\nwic-redemptions-by-vendor-county-with-family-counts-2021-2022-part-c']\n",
      "Has this changed over time?\n",
      "Table Filter -  ['2010-2018-part-a-wic-redemptions-by-vendor-county-with-family-counts\\n2019-2020-part-b-wic-redemptions-by-vendor-county-with-family-counts\\nwic-redemptions-by-vendor-county-with-family-counts-2021-2022-part-c']\n",
      "Table name  2010-2018-part-a-wic-redemptions-by-vendor-county-with-family-counts\n",
      "2019-2020-part-b-wic-redemptions-by-vendor-county-with-family-counts\n",
      "wic-redemptions-by-vendor-county-with-family-counts-2021-2022-part-c\n",
      "Change over time by program?\n"
     ]
    },
    {
     "name": "stderr",
     "output_type": "stream",
     "text": [
      "Traceback (most recent call last):\n",
      "  File \"/home/jupyter/nl2sql-fiserv/temp/lib-nl2sql/nl_2_sql_lib/final_lib/notebooks/../nl2sql_src/nl2sql_generic.py\", line 314, in text_to_sql_fewshot\n",
      "    table_json = self.metadata_json[table_name]\n",
      "KeyError: '2010-2018-part-a-wic-redemptions-by-vendor-county-with-family-counts\\n2019-2020-part-b-wic-redemptions-by-vendor-county-with-family-counts\\nwic-redemptions-by-vendor-county-with-family-counts-2021-2022-part-c'\n"
     ]
    },
    {
     "name": "stdout",
     "output_type": "stream",
     "text": [
      "Table Filter -  ['calhhs-dashboard-2015-2020-annual-data-file']\n",
      "Change over time by program?\n",
      "Table Filter -  ['calhhs-dashboard-2015-2020-annual-data-file']\n",
      "Table name  calhhs-dashboard-2015-2020-annual-data-file\n",
      " \n",
      "SELECT fileyear,\n",
      "       Program,\n",
      "       SUM(Person) AS total_enrolled\n",
      "FROM `cdii-poc.HHS_Program_Counts.calhhs-dashboard-2015-2020-annual-data-file`\n",
      "GROUP BY 1,2\n",
      "ORDER BY fileyear, total_enrolled DESC;\n",
      "\n",
      "Which counties have the highest and lowest ratios of providers to enrolled participants in Medi-Cal?\n",
      "Table Filter -  ['medi-cal-and-calfresh-enrollment']\n",
      "Which counties have the highest and lowest ratios of providers to enrolled participants in Medi-Cal?\n",
      "Table Filter -  ['medi-cal-and-calfresh-enrollment']\n",
      "Table name  medi-cal-and-calfresh-enrollment\n",
      " \n",
      "SELECT\n",
      "  County,\n",
      "  (\n",
      "    COUNT(DISTINCT provider.NPI) /\n",
      "    SUM(CAST(Number_of_Beneficiaries AS FLOAT64))\n",
      "  ) * 100 AS provider_to_beneficiary_ratio,\n",
      "  RANK() OVER (ORDER BY provider_to_beneficiary_ratio DESC) AS highest_rank,\n",
      "  RANK() OVER (ORDER BY provider_to_beneficiary_ratio ASC) AS lowest_rank\n",
      "FROM cdii-poc.HHS_Program_Counts.`medi-cal-and-calfresh-enrollment` AS enrollment\n",
      "LEFT JOIN\n",
      "  calhhs_medi_cal_managed_care_provider_listing AS provider\n",
      "ON\n",
      "  enrollment.County = provider.County\n",
      "WHERE\n",
      "  enrollment.Program = \"Medi-Cal and CalFresh\"\n",
      "GROUP BY\n",
      "  County\n",
      "ORDER BY\n",
      "  highest_rank,\n",
      "  lowest_rank;\n",
      "\n",
      "What is the ratio of non-suspended doctors to Medi-Cal members by County?\n",
      "Table Filter -  ['medi-cal-and-calfresh-enrollment']\n",
      "What is the ratio of non-suspended doctors to Medi-Cal members by County?\n",
      "Table Filter -  ['medi-cal-and-calfresh-enrollment']\n",
      "Table name  medi-cal-and-calfresh-enrollment\n",
      " \n",
      "SELECT\n",
      "  medi_cal_and_calfresh_enrollment.County,\n",
      "  (\n",
      "    SELECT COUNT(*)\n",
      "    FROM cdii-poc.HHS_Program_Counts.`provider_directory`\n",
      "    WHERE provider_directory.County = medi_cal_and_calfresh_enrollment.County\n",
      "      AND provider_directory.Provider_Type = 'Doctor'\n",
      "      AND provider_directory.Provider_Status <> 'Suspended'\n",
      "  ) /\n",
      "  medi_cal_and_calfresh_enrollment.Number_of_Beneficiaries AS ratio_of_non_suspended_doctors_to_medi_cal_members\n",
      "FROM cdii-poc.HHS_Program_Counts.`medi_cal_and_calfresh_enrollment`\n",
      "WHERE medi_cal_and_calfresh_enrollment.Program = 'Medi-Cal';\n",
      "\n",
      "What about the ratio to licensed facilities?\n",
      "Table Filter -  ['gdhcs-imdopen-datamedmed-calfreshmed-medi-cal_by-cnty_calfresh-dec-19']\n",
      "What about the ratio to licensed facilities?\n",
      "Table Filter -  ['gdhcs-imdopen-datamedmed-calfreshmed-medi-cal_by-cnty_calfresh-dec-19']\n",
      "Table name  gdhcs-imdopen-datamedmed-calfreshmed-medi-cal_by-cnty_calfresh-dec-19\n",
      " \n",
      "SELECT\n",
      "  gdhcs.County,\n",
      "  gdhcs.Program_,\n",
      "  gdhcs.Number_of_Beneficiaries,\n",
      "  (gdhcs.Number_of_Beneficiaries / licensed.Number_of_Licensed_Facilities) AS ratio_beneficiaries_to_facilities\n",
      "FROM cdii-poc.HHS_Program_Counts.`gdhcs-imdopen-datamedmed-calfreshmed-medi-cal_by-cnty_calfresh-dec-19` AS gdhcs\n",
      "JOIN\n",
      "  gdhcs-imdopen-datamedmed-calfreshmed-medi-cal_by-cnty_licensed-facilities-dec-19 AS licensed\n",
      "ON\n",
      "  gdhcs.County = licensed.County\n",
      "WHERE\n",
      "  gdhcs.Eligiblity_Date = '2019-12-31'\n",
      "ORDER BY\n",
      "  gdhcs.County,\n",
      "  gdhcs.Program_;\n",
      "\n"
     ]
    }
   ],
   "source": [
    "print(len(all_questions))\n",
    "results = []\n",
    "failed_questions = []\n",
    "for question in all_questions:\n",
    "    tmp = {}\n",
    "    print(question)\n",
    "    tmp['question'] = question\n",
    "    tmp['generated_sql'] = \"SQL not generated\"\n",
    "    try:\n",
    "        table_info = nl2sqlbq_client.table_filter(question)\n",
    "        table_info\n",
    "\n",
    "        sql_query = nl2sqlbq_client.text_to_sql_fewshot(question)\n",
    "        print(sql_query)\n",
    "        tmp['question'] = question\n",
    "        tmp['generated_sql'] = sql_query\n",
    "    except:\n",
    "        failed_questions.append(question)\n",
    "        pass\n",
    "    \n",
    "    results.append(tmp)"
   ]
  },
  {
   "cell_type": "code",
   "execution_count": 70,
   "id": "74519428-90bc-4334-95e3-e0628a4920ce",
   "metadata": {},
   "outputs": [],
   "source": [
    "# Generate SQL for a specific question and add to the list\n",
    "# tmp = {}\n",
    "# question = all_questions[15]\n",
    "# print(question)\n",
    "# table_info = nl2sqlbq_client.table_filter(question)\n",
    "# table_info\n",
    "\n",
    "# sql_query = nl2sqlbq_client.text_to_sql_fewshot(question)\n",
    "# print(sql_query)\n",
    "# tmp['question'] = question\n",
    "# tmp['generated_sql'] = sql_query\n",
    "    \n",
    "# results.append(tmp)"
   ]
  },
  {
   "cell_type": "code",
   "execution_count": 71,
   "id": "607457be-a616-44b8-9f14-ed4aa19282b4",
   "metadata": {
    "tags": []
   },
   "outputs": [
    {
     "data": {
      "text/plain": [
       "[{'question': 'How many people are enrolled in CalFresh?',\n",
       "  'generated_sql': ' \\nSELECT \\n  fileyear,\\n  Number,\\n  CalFresh\\nFROM `cdii-poc.HHS_Program_Counts.calhhs-dashboard-2015-2020-annual-data-file`\\nWHERE \\n  Program = \"CalFresh\";\\n'},\n",
       " {'question': 'How many of them live in Los Angeles County?',\n",
       "  'generated_sql': \" \\nSELECT \\n  SUM(CAST(Count AS INT64)) AS total_births\\nFROM cdii-poc.HHS_Program_Counts.`20230912_births_final_county_month_sup`\\nWHERE \\n  County = 'Los Angeles'\\n  AND Geography_Type = 'Residence';\\n\"},\n",
       " {'question': 'How has participation in CalFresh changed since 2015?',\n",
       "  'generated_sql': ' \\nSELECT\\n  fileyear,\\n  SUM(CAST(Person AS INT64)) AS total_enrolled\\nFROM `cdii-poc.HHS_Program_Counts.calhhs-dashboard-2015-2020-annual-data-file`\\nWHERE\\n  Program = \"CalFresh\"\\nGROUP BY\\n  fileyear\\nORDER BY\\n  fileyear;\\n'},\n",
       " {'question': 'How do CalFresh program participation trends differ by race and ethnicity?',\n",
       "  'generated_sql': \" \\nSELECT\\n  fileyear,\\n  COALESCE(SUM(White), 0) AS White,\\n  COALESCE(SUM(Black), 0) AS Black,\\n  COALESCE(SUM(Hispanic), 0) AS Hispanic,\\n  COALESCE(SUM(Asian_PI), 0) AS Asian_PI,\\n  COALESCE(SUM(Native_American), 0) AS Native_American\\nFROM `cdii-poc.HHS_Program_Counts.calhhs-dashboard-2015-2020-annual-data-file`\\nWHERE\\n  Program = 'CalFresh'\\nGROUP BY\\n  fileyear\\nORDER BY\\n  fileyear;\\n\"},\n",
       " {'question': 'How have these race and ethnicity trends changed over time?',\n",
       "  'generated_sql': 'SQL not generated'},\n",
       " {'question': 'Which county has the greatest proportion of CalFresh recipients co-enrolled in at least one additional program?',\n",
       "  'generated_sql': \" \\nSELECT Number AS county, \\n       COALESCE(SUM(CAST(Person AS INT64)), 0) AS total_calfresh_recipients,\\n       COALESCE(SUM(CAST(_2_programs AS INT64)), 0) AS calfresh_coenrolled_in_2_programs,\\n       COALESCE(SUM(CAST(_3_programs AS INT64)), 0) AS calfresh_coenrolled_in_3_programs,\\n       COALESCE(SUM(CAST(_4_programs AS INT64)), 0) AS calfresh_coenrolled_in_4_programs,\\n       COALESCE(SUM(CAST(_5__programs AS INT64)), 0) AS calfresh_coenrolled_in_5_programs,\\n       (COALESCE(SUM(CAST(_2_programs AS INT64)), 0) + \\n        COALESCE(SUM(CAST(_3_programs AS INT64)), 0) + \\n        COALESCE(SUM(CAST(_4_programs AS INT64)), 0) + \\n        COALESCE(SUM(CAST(_5__programs AS INT64)), 0)) / \\n       COALESCE(SUM(CAST(Person AS INT64)), 0) AS calfresh_coenrollment_rate\\nFROM `cdii-poc.HHS_Program_Counts.calhhs-dashboard-2015-2020-annual-data-file`\\nWHERE (Level) = 'County'\\n  AND (Number) <> 'County Total'\\n  AND (Program) = 'CalFresh'\\nGROUP BY county\\nORDER BY calfresh_coenrollment_rate DESC\\nLIMIT 1;\\n\"},\n",
       " {'question': 'What about three or more additional programs?',\n",
       "  'generated_sql': ' \\nSELECT\\n  Program,\\n  COALESCE(SUM(CAST(_3_programs AS INT64)), 0) AS three_more_programs\\nFROM `cdii-poc.HHS_Program_Counts.calhhs-dashboard-2015-2020-annual-data-file`\\nWHERE\\n  _3_programs > 0\\nGROUP BY\\n  Program\\nORDER BY\\n  three_more_programs DESC;\\n'},\n",
       " {'question': 'Which programs have the highest co-enrollment with CalFresh?',\n",
       "  'generated_sql': \" \\nSELECT\\n  Program,\\n  COALESCE(SUM(Person), 0) AS total_enrolled\\nFROM `cdii-poc.HHS_Program_Counts.calhhs-dashboard-2015-2020-annual-data-file`\\nWHERE\\n  Program <> 'CalFresh'\\nGROUP BY\\n  Program\\nORDER BY\\n  total_enrolled DESC;\\n\"},\n",
       " {'question': 'What county has the greatest enrollment in WIC per capita?',\n",
       "  'generated_sql': ' \\nSELECT\\n  Vendor_Location,\\n  COALESCE(\\n    SUM(CAST(_Number_of_Participants_Redeemed_ AS INT64)),\\n    0\\n  ) AS total_participants\\nFROM `cdii-poc.HHS_Program_Counts.wic-redemption-by-county-by-participant-category-data-2010-2018`\\nGROUP BY\\n  Vendor_Location\\nORDER BY\\n  total_participants DESC\\nLIMIT 1;\\n'},\n",
       " {'question': 'Which five counties have the lowest number of WIC authorized vendors compared to WIC participants?',\n",
       "  'generated_sql': 'SQL not generated'},\n",
       " {'question': 'How do infant mortality rates, low birthweight rates, and preterm and very preterm rates compare to WIC enrollment rates by county?',\n",
       "  'generated_sql': \" \\nWITH WIC_DATA AS (\\n    SELECT\\n        Vendor_Location,\\n        Year_Month,\\n        _Number_of_Participants_Redeemed_\\n    FROM `cdii-poc.HHS_Program_Counts.wic-redemption-by-county-by-participant-category-data-2010-2018`````\\n    WHERE\\n        Participant_Category = 'Infant'\\n),\\nINFANT_MORTALITY_DATA AS (\\n    SELECT\\n        County,\\n        Year,\\n        Infant_Mortality_Rate\\n    FROM `cdii-poc.HHS_Program_Counts.infant-mortality-rates-by-county-2010-2018\\n),\\nLOW_BIRTHWEIGHT_DATA AS (\\n    SELECT\\n        County,\\n        Year,\\n        Low_Birthweight_Rate\\n    FROM `cdii-poc.HHS_Program_Counts.low-birthweight-rates-by-county-2010-2018\\n),\\nPRETERM_BIRTH_DATA AS (\\n    SELECT\\n        County,\\n        Year,\\n        Preterm_Birth_Rate,\\n        Very_Preterm_Birth_Rate\\n    FROM `cdii-poc.HHS_Program_Counts.preterm-birth-rates-by-county-2010-2018\\n),\\nCOUNTY_POPULATION_DATA AS (\\n    SELECT\\n        County,\\n        Year,\\n        Population\\n    FROM `cdii-poc.HHS_Program_Counts.county-population-estimates-2010-2018\\n)\\nSELECT\\n    WIC_DATA.Vendor_Location,\\n    WIC_DATA.Year_Month,\\n    WIC_DATA._Number_of_Participants_Redeemed_,\\n    INFANT_MORTALITY_DATA.Infant_Mortality_Rate,\\n    LOW_BIRTHWEIGHT_DATA.Low_Birthweight_Rate,\\n    PRETERM_BIRTH_DATA.Preterm_Birth_Rate,\\n    PRETERM_BIRTH_DATA.Very_Preterm_Birth_Rate,\\n    COUNTY_POPULATION_DATA.Population\\nFROM cdii-poc.HHS_Program_Counts.`WIC_DATA`\\nJOIN\\n    INFANT_MORTALITY_DATA ON WIC_DATA.Vendor_Location = INFANT_MORTALITY_DATA.County\\n    AND WIC_DATA.Year_Month = INFANT_MORTALITY_DATA.Year\\nJOIN\\n    LOW_BIRTHWEIGHT_DATA ON WIC_DATA.Vendor_Location = LOW_BIRTHWEIGHT_DATA.County\\n    AND WIC_DATA.Year_Month = LOW_BIRTHWEIGHT_DATA.Year\\nJOIN\\n    PRETERM_BIRTH_DATA ON WIC_DATA.Vendor_Location = PRETERM_BIRTH_DATA.County\\n    AND WIC_DATA.Year_Month = PRETERM_BIRTH_DATA.Year\\nJOIN\\n    COUNTY_POPULATION_DATA ON WIC_DATA.Vendor_Location = COUNTY_POPULATION_DATA.County\\n    AND WIC_DATA.Year_Month = COUNTY_POPULATION_DATA.Year;\\n\"},\n",
       " {'question': 'How many Black individuals are served across CalHHS programs?',\n",
       "  'generated_sql': ' \\nSELECT  COALESCE(SUM(SAFE_CAST( Black   AS INT64)), 0) AS total_black FROM `cdii-poc.HHS_Program_Counts.calhhs-dashboard-2015-2020-annual-data-file` ;\\n'},\n",
       " {'question': 'What is the breakdown by program?',\n",
       "  'generated_sql': 'SQL not generated'},\n",
       " {'question': 'Has this changed over time?',\n",
       "  'generated_sql': 'SQL not generated'},\n",
       " {'question': 'Change over time by program?',\n",
       "  'generated_sql': ' \\nSELECT fileyear,\\n       Program,\\n       SUM(Person) AS total_enrolled\\nFROM `cdii-poc.HHS_Program_Counts.calhhs-dashboard-2015-2020-annual-data-file`\\nGROUP BY 1,2\\nORDER BY fileyear, total_enrolled DESC;\\n'},\n",
       " {'question': 'Which counties have the highest and lowest ratios of providers to enrolled participants in Medi-Cal?',\n",
       "  'generated_sql': ' \\nSELECT\\n  County,\\n  (\\n    COUNT(DISTINCT provider.NPI) /\\n    SUM(CAST(Number_of_Beneficiaries AS FLOAT64))\\n  ) * 100 AS provider_to_beneficiary_ratio,\\n  RANK() OVER (ORDER BY provider_to_beneficiary_ratio DESC) AS highest_rank,\\n  RANK() OVER (ORDER BY provider_to_beneficiary_ratio ASC) AS lowest_rank\\nFROM cdii-poc.HHS_Program_Counts.`medi-cal-and-calfresh-enrollment` AS enrollment\\nLEFT JOIN\\n  calhhs_medi_cal_managed_care_provider_listing AS provider\\nON\\n  enrollment.County = provider.County\\nWHERE\\n  enrollment.Program = \"Medi-Cal and CalFresh\"\\nGROUP BY\\n  County\\nORDER BY\\n  highest_rank,\\n  lowest_rank;\\n'},\n",
       " {'question': 'What is the ratio of non-suspended doctors to Medi-Cal members by County?',\n",
       "  'generated_sql': \" \\nSELECT\\n  medi_cal_and_calfresh_enrollment.County,\\n  (\\n    SELECT COUNT(*)\\n    FROM cdii-poc.HHS_Program_Counts.`provider_directory`\\n    WHERE provider_directory.County = medi_cal_and_calfresh_enrollment.County\\n      AND provider_directory.Provider_Type = 'Doctor'\\n      AND provider_directory.Provider_Status <> 'Suspended'\\n  ) /\\n  medi_cal_and_calfresh_enrollment.Number_of_Beneficiaries AS ratio_of_non_suspended_doctors_to_medi_cal_members\\nFROM cdii-poc.HHS_Program_Counts.`medi_cal_and_calfresh_enrollment`\\nWHERE medi_cal_and_calfresh_enrollment.Program = 'Medi-Cal';\\n\"},\n",
       " {'question': 'What about the ratio to licensed facilities?',\n",
       "  'generated_sql': \" \\nSELECT\\n  gdhcs.County,\\n  gdhcs.Program_,\\n  gdhcs.Number_of_Beneficiaries,\\n  (gdhcs.Number_of_Beneficiaries / licensed.Number_of_Licensed_Facilities) AS ratio_beneficiaries_to_facilities\\nFROM cdii-poc.HHS_Program_Counts.`gdhcs-imdopen-datamedmed-calfreshmed-medi-cal_by-cnty_calfresh-dec-19` AS gdhcs\\nJOIN\\n  gdhcs-imdopen-datamedmed-calfreshmed-medi-cal_by-cnty_licensed-facilities-dec-19 AS licensed\\nON\\n  gdhcs.County = licensed.County\\nWHERE\\n  gdhcs.Eligiblity_Date = '2019-12-31'\\nORDER BY\\n  gdhcs.County,\\n  gdhcs.Program_;\\n\"}]"
      ]
     },
     "execution_count": 71,
     "metadata": {},
     "output_type": "execute_result"
    }
   ],
   "source": [
    "results"
   ]
  },
  {
   "cell_type": "code",
   "execution_count": 72,
   "id": "e5b95e38-1461-4330-8f16-98692eb256b7",
   "metadata": {
    "tags": []
   },
   "outputs": [
    {
     "data": {
      "text/plain": [
       "18"
      ]
     },
     "execution_count": 72,
     "metadata": {},
     "output_type": "execute_result"
    }
   ],
   "source": [
    "len(results)"
   ]
  },
  {
   "cell_type": "code",
   "execution_count": 73,
   "id": "43618a7d-b75d-4435-8df3-55909a7def2f",
   "metadata": {
    "tags": []
   },
   "outputs": [],
   "source": [
    "columns = ['question', 'generated_sql']\n",
    "df = pd.DataFrame(results, columns=columns)\n",
    "df.to_csv('output.csv', index=False)"
   ]
  },
  {
   "cell_type": "code",
   "execution_count": 74,
   "id": "fae1bae4-3dfe-46eb-bd57-13d9c127c8ca",
   "metadata": {
    "tags": []
   },
   "outputs": [
    {
     "data": {
      "text/html": [
       "<div>\n",
       "<style scoped>\n",
       "    .dataframe tbody tr th:only-of-type {\n",
       "        vertical-align: middle;\n",
       "    }\n",
       "\n",
       "    .dataframe tbody tr th {\n",
       "        vertical-align: top;\n",
       "    }\n",
       "\n",
       "    .dataframe thead th {\n",
       "        text-align: right;\n",
       "    }\n",
       "</style>\n",
       "<table border=\"1\" class=\"dataframe\">\n",
       "  <thead>\n",
       "    <tr style=\"text-align: right;\">\n",
       "      <th></th>\n",
       "      <th>question</th>\n",
       "      <th>generated_sql</th>\n",
       "    </tr>\n",
       "  </thead>\n",
       "  <tbody>\n",
       "    <tr>\n",
       "      <th>0</th>\n",
       "      <td>How many people are enrolled in CalFresh?</td>\n",
       "      <td>\\nSELECT \\n  fileyear,\\n  Number,\\n  CalFresh...</td>\n",
       "    </tr>\n",
       "    <tr>\n",
       "      <th>1</th>\n",
       "      <td>How many of them live in Los Angeles County?</td>\n",
       "      <td>\\nSELECT \\n  SUM(CAST(Count AS INT64)) AS tot...</td>\n",
       "    </tr>\n",
       "    <tr>\n",
       "      <th>2</th>\n",
       "      <td>How has participation in CalFresh changed sinc...</td>\n",
       "      <td>\\nSELECT\\n  fileyear,\\n  SUM(CAST(Person AS I...</td>\n",
       "    </tr>\n",
       "    <tr>\n",
       "      <th>3</th>\n",
       "      <td>How do CalFresh program participation trends d...</td>\n",
       "      <td>\\nSELECT\\n  fileyear,\\n  COALESCE(SUM(White),...</td>\n",
       "    </tr>\n",
       "    <tr>\n",
       "      <th>4</th>\n",
       "      <td>How have these race and ethnicity trends chang...</td>\n",
       "      <td>SQL not generated</td>\n",
       "    </tr>\n",
       "    <tr>\n",
       "      <th>5</th>\n",
       "      <td>Which county has the greatest proportion of Ca...</td>\n",
       "      <td>\\nSELECT Number AS county, \\n       COALESCE(...</td>\n",
       "    </tr>\n",
       "    <tr>\n",
       "      <th>6</th>\n",
       "      <td>What about three or more additional programs?</td>\n",
       "      <td>\\nSELECT\\n  Program,\\n  COALESCE(SUM(CAST(_3_...</td>\n",
       "    </tr>\n",
       "    <tr>\n",
       "      <th>7</th>\n",
       "      <td>Which programs have the highest co-enrollment ...</td>\n",
       "      <td>\\nSELECT\\n  Program,\\n  COALESCE(SUM(Person),...</td>\n",
       "    </tr>\n",
       "    <tr>\n",
       "      <th>8</th>\n",
       "      <td>What county has the greatest enrollment in WIC...</td>\n",
       "      <td>\\nSELECT\\n  Vendor_Location,\\n  COALESCE(\\n  ...</td>\n",
       "    </tr>\n",
       "    <tr>\n",
       "      <th>9</th>\n",
       "      <td>Which five counties have the lowest number of ...</td>\n",
       "      <td>SQL not generated</td>\n",
       "    </tr>\n",
       "    <tr>\n",
       "      <th>10</th>\n",
       "      <td>How do infant mortality rates, low birthweight...</td>\n",
       "      <td>\\nWITH WIC_DATA AS (\\n    SELECT\\n        Ven...</td>\n",
       "    </tr>\n",
       "    <tr>\n",
       "      <th>11</th>\n",
       "      <td>How many Black individuals are served across C...</td>\n",
       "      <td>\\nSELECT  COALESCE(SUM(SAFE_CAST( Black   AS ...</td>\n",
       "    </tr>\n",
       "    <tr>\n",
       "      <th>12</th>\n",
       "      <td>What is the breakdown by program?</td>\n",
       "      <td>SQL not generated</td>\n",
       "    </tr>\n",
       "    <tr>\n",
       "      <th>13</th>\n",
       "      <td>Has this changed over time?</td>\n",
       "      <td>SQL not generated</td>\n",
       "    </tr>\n",
       "    <tr>\n",
       "      <th>14</th>\n",
       "      <td>Change over time by program?</td>\n",
       "      <td>\\nSELECT fileyear,\\n       Program,\\n       S...</td>\n",
       "    </tr>\n",
       "    <tr>\n",
       "      <th>15</th>\n",
       "      <td>Which counties have the highest and lowest rat...</td>\n",
       "      <td>\\nSELECT\\n  County,\\n  (\\n    COUNT(DISTINCT ...</td>\n",
       "    </tr>\n",
       "    <tr>\n",
       "      <th>16</th>\n",
       "      <td>What is the ratio of non-suspended doctors to ...</td>\n",
       "      <td>\\nSELECT\\n  medi_cal_and_calfresh_enrollment....</td>\n",
       "    </tr>\n",
       "    <tr>\n",
       "      <th>17</th>\n",
       "      <td>What about the ratio to licensed facilities?</td>\n",
       "      <td>\\nSELECT\\n  gdhcs.County,\\n  gdhcs.Program_,\\...</td>\n",
       "    </tr>\n",
       "  </tbody>\n",
       "</table>\n",
       "</div>"
      ],
      "text/plain": [
       "                                             question  \\\n",
       "0           How many people are enrolled in CalFresh?   \n",
       "1        How many of them live in Los Angeles County?   \n",
       "2   How has participation in CalFresh changed sinc...   \n",
       "3   How do CalFresh program participation trends d...   \n",
       "4   How have these race and ethnicity trends chang...   \n",
       "5   Which county has the greatest proportion of Ca...   \n",
       "6       What about three or more additional programs?   \n",
       "7   Which programs have the highest co-enrollment ...   \n",
       "8   What county has the greatest enrollment in WIC...   \n",
       "9   Which five counties have the lowest number of ...   \n",
       "10  How do infant mortality rates, low birthweight...   \n",
       "11  How many Black individuals are served across C...   \n",
       "12                  What is the breakdown by program?   \n",
       "13                        Has this changed over time?   \n",
       "14                       Change over time by program?   \n",
       "15  Which counties have the highest and lowest rat...   \n",
       "16  What is the ratio of non-suspended doctors to ...   \n",
       "17       What about the ratio to licensed facilities?   \n",
       "\n",
       "                                        generated_sql  \n",
       "0    \\nSELECT \\n  fileyear,\\n  Number,\\n  CalFresh...  \n",
       "1    \\nSELECT \\n  SUM(CAST(Count AS INT64)) AS tot...  \n",
       "2    \\nSELECT\\n  fileyear,\\n  SUM(CAST(Person AS I...  \n",
       "3    \\nSELECT\\n  fileyear,\\n  COALESCE(SUM(White),...  \n",
       "4                                   SQL not generated  \n",
       "5    \\nSELECT Number AS county, \\n       COALESCE(...  \n",
       "6    \\nSELECT\\n  Program,\\n  COALESCE(SUM(CAST(_3_...  \n",
       "7    \\nSELECT\\n  Program,\\n  COALESCE(SUM(Person),...  \n",
       "8    \\nSELECT\\n  Vendor_Location,\\n  COALESCE(\\n  ...  \n",
       "9                                   SQL not generated  \n",
       "10   \\nWITH WIC_DATA AS (\\n    SELECT\\n        Ven...  \n",
       "11   \\nSELECT  COALESCE(SUM(SAFE_CAST( Black   AS ...  \n",
       "12                                  SQL not generated  \n",
       "13                                  SQL not generated  \n",
       "14   \\nSELECT fileyear,\\n       Program,\\n       S...  \n",
       "15   \\nSELECT\\n  County,\\n  (\\n    COUNT(DISTINCT ...  \n",
       "16   \\nSELECT\\n  medi_cal_and_calfresh_enrollment....  \n",
       "17   \\nSELECT\\n  gdhcs.County,\\n  gdhcs.Program_,\\...  "
      ]
     },
     "execution_count": 74,
     "metadata": {},
     "output_type": "execute_result"
    }
   ],
   "source": [
    "df"
   ]
  },
  {
   "cell_type": "code",
   "execution_count": 75,
   "id": "fa430d67-8cda-46f0-989b-771ac299f9d0",
   "metadata": {},
   "outputs": [],
   "source": [
    "fq1 = \"How have these race and ethnicity trends changed over time?\"\n",
    "table_name1 = 'calhhs-dashboard-2015-2020-annual-data-file'\n",
    "\n",
    "fq2 = \"Which five counties have the lowest number of WIC authorized vendors compared to WIC participants?\"\n",
    "table_name2 = 'wic-redemption-by-county-by-participant-category-data-2010-2018'\n",
    "\n",
    "fq3 = \"What is the breakdown by program?\"\n",
    "table_name3 = 'calhhs-dashboard-2015-2020-annual-data-file'\n",
    "\n",
    "fq4 = \"Has this changed over time?\"\n",
    "table_name4 = 'calhhs-dashboard-2015-2020-annual-data-file'\n",
    "\n",
    "fq5 = \"What about the ratio to licensed facilities?\"\n",
    "table_name5 = 'calhhs-dashboard-2015-2020-annual-data-file'"
   ]
  },
  {
   "cell_type": "code",
   "execution_count": 76,
   "id": "a3cd1ecb-1034-4c9e-b0c8-8718d27bc554",
   "metadata": {
    "tags": []
   },
   "outputs": [
    {
     "name": "stdout",
     "output_type": "stream",
     "text": [
      "How have these race and ethnicity trends changed over time?\n",
      "Table name  calhhs-dashboard-2015-2020-annual-data-file\n",
      " \n",
      "SELECT\n",
      "  fileyear,\n",
      "  SUM(White) AS total_white,\n",
      "  SUM(Black) AS total_black,\n",
      "  SUM(Hispanic) AS total_hispanic,\n",
      "  SUM(Asian_PI) AS total_asian,\n",
      "  SUM(Native_American) AS total_native_american\n",
      "FROM `cdii-poc.HHS_Program_Counts.calhhs-dashboard-2015-2020-annual-data-file`\n",
      "GROUP BY\n",
      "  fileyear\n",
      "ORDER BY\n",
      "  fileyear;\n",
      "\n"
     ]
    }
   ],
   "source": [
    "regen_question = fq1\n",
    "regen_table = table_name1\n",
    "\n",
    "# Generate SQL by passing the table name as well\n",
    "\n",
    "sql_query = nl2sqlbq_client.text_to_sql_fewshot(regen_question, table_name=regen_table)\n",
    "print(sql_query)"
   ]
  },
  {
   "cell_type": "code",
   "execution_count": 77,
   "id": "a8626201-e5bd-46fe-9a17-b09e98d50cdd",
   "metadata": {
    "tags": []
   },
   "outputs": [
    {
     "name": "stdout",
     "output_type": "stream",
     "text": [
      "Which five counties have the lowest number of WIC authorized vendors compared to WIC participants?\n",
      "Table name  wic-redemption-by-county-by-participant-category-data-2010-2018\n",
      " \n",
      "SELECT Vendor_Location,\n",
      "       (vendor_cnt/total_participants)*100 AS vendor_participants_ratio\n",
      "FROM (\n",
      "    SELECT TRIM(Vendor_Location) AS Vendor_Location,\n",
      "           COALESCE(SUM(SAFE_CAST(_Number_of_Participants_Redeemed_ AS INT64)), 0) AS total_participants\n",
      "    FROM `cdii-poc.HHS_Program_Counts.wic-redemption-by-county-by-participant-category-data-2010-2018``\n",
      "    GROUP BY Vendor_Location) AS participants\n",
      "JOIN (\n",
      "    SELECT TRIM(COUNTY) AS COUNTY,\n",
      "           COUNT(VENDOR) AS vendor_cnt\n",
      "    FROM `cdii-poc.HHS_Program_Counts.women-infants-and-children-wic-authorized-vendors\n",
      "    GROUP BY COUNTY\n",
      "    HAVING COUNTY IS NOT NULL) AS vendors\n",
      "ON UPPER(participants.Vendor_Location) = UPPER(vendors.COUNTY)\n",
      "WHERE (vendor_cnt/total_participants)*100 IS NOT NULL\n",
      "ORDER BY vendor_participants_ratio ASC\n",
      "LIMIT 5;\n",
      "\n"
     ]
    }
   ],
   "source": [
    "regen_question = fq2\n",
    "regen_table = table_name2\n",
    "\n",
    "# Generate SQL by passing the table name as well\n",
    "\n",
    "sql_query = nl2sqlbq_client.text_to_sql_fewshot(regen_question, table_name=regen_table)\n",
    "print(sql_query)"
   ]
  },
  {
   "cell_type": "code",
   "execution_count": 78,
   "id": "af7bde1f-aa7a-4d4e-a37a-701fe0abc62a",
   "metadata": {
    "tags": []
   },
   "outputs": [
    {
     "name": "stdout",
     "output_type": "stream",
     "text": [
      "What is the breakdown by program?\n",
      "Table name  calhhs-dashboard-2015-2020-annual-data-file\n",
      " \n",
      "SELECT\n",
      "  Program,\n",
      "  COALESCE(SUM(CAST(Person AS INT64)), 0) AS total_enrolled\n",
      "FROM `cdii-poc.HHS_Program_Counts.calhhs-dashboard-2015-2020-annual-data-file`\n",
      "GROUP BY\n",
      "  Program\n",
      "ORDER BY\n",
      "  total_enrolled DESC;\n",
      "\n"
     ]
    }
   ],
   "source": [
    "regen_question = fq3\n",
    "regen_table = table_name3\n",
    "\n",
    "# Generate SQL by passing the table name as well\n",
    "\n",
    "sql_query = nl2sqlbq_client.text_to_sql_fewshot(regen_question, table_name=regen_table)\n",
    "print(sql_query)"
   ]
  },
  {
   "cell_type": "code",
   "execution_count": 79,
   "id": "a57de478-18f8-4912-b8c3-29a96d3a80ea",
   "metadata": {
    "tags": []
   },
   "outputs": [
    {
     "name": "stdout",
     "output_type": "stream",
     "text": [
      "Has this changed over time?\n",
      "Table name  calhhs-dashboard-2015-2020-annual-data-file\n",
      " \n",
      "SELECT\n",
      "  fileyear,\n",
      "  COALESCE(SUM(SAFE_CAST(White AS INT64)), 0) AS total_white,\n",
      "  COALESCE(SUM(SAFE_CAST(Black AS INT64)), 0) AS total_black,\n",
      "  COALESCE(SUM(SAFE_CAST(Hispanic AS INT64)), 0) AS total_hispanic,\n",
      "  COALESCE(SUM(SAFE_CAST(Asian_PI AS INT64)), 0) AS total_asian,\n",
      "  COALESCE(SUM(SAFE_CAST(Native_American AS INT64)), 0) AS total_native_american\n",
      "FROM `cdii-poc.HHS_Program_Counts.calhhs-dashboard-2015-2020-annual-data-file`\n",
      "GROUP BY\n",
      "  fileyear\n",
      "ORDER BY\n",
      "  fileyear;\n",
      "\n"
     ]
    }
   ],
   "source": [
    "regen_question = fq4\n",
    "regen_table = table_name4\n",
    "\n",
    "# Generate SQL by passing the table name as well\n",
    "\n",
    "sql_query = nl2sqlbq_client.text_to_sql_fewshot(regen_question, table_name=regen_table)\n",
    "print(sql_query)"
   ]
  },
  {
   "cell_type": "code",
   "execution_count": 80,
   "id": "e9dabdee-8925-4b20-99d8-a010388f7da1",
   "metadata": {
    "tags": []
   },
   "outputs": [
    {
     "name": "stdout",
     "output_type": "stream",
     "text": [
      "What about the ratio to licensed facilities?\n",
      "Table name  calhhs-dashboard-2015-2020-annual-data-file\n",
      " \n",
      "SELECT\n",
      "  annual_file.Number,\n",
      "  (\n",
      "    COUNT(DISTINCT provider.License_Number) /\n",
      "    SUM(CAST(annual_file.Person AS INT64))\n",
      "  ) * 100 AS ratio_to_licensed_facilities\n",
      "FROM `cdii-poc.HHS_Program_Counts.calhhs-dashboard-2015-2020-annual-data-file` AS annual_file\n",
      "JOIN\n",
      "  cdii-poc.HHS_Program_Counts.calhhs_medi-cal_managed_care_provider_listing AS provider\n",
      "ON\n",
      "  annual_file.Number = provider.County\n",
      "WHERE\n",
      "  annual_file.Level = 'County'\n",
      "  AND provider.RecordType = 'Provider'\n",
      "GROUP BY\n",
      "  annual_file.Number\n",
      "ORDER BY\n",
      "  ratio_to_licensed_facilities DESC\n",
      "LIMIT 5;\n",
      "\n"
     ]
    }
   ],
   "source": [
    "regen_question = fq5\n",
    "regen_table = table_name5\n",
    "\n",
    "# Generate SQL by passing the table name as well\n",
    "\n",
    "sql_query = nl2sqlbq_client.text_to_sql_fewshot(regen_question, table_name=regen_table)\n",
    "print(sql_query)"
   ]
  },
  {
   "cell_type": "code",
   "execution_count": 81,
   "id": "174563ef-5aef-49d1-b98f-a2c28b683902",
   "metadata": {},
   "outputs": [
    {
     "data": {
      "text/plain": [
       "['How have these race and ethnicity trends changed over time?',\n",
       " 'Which five counties have the lowest number of WIC authorized vendors compared to WIC participants?',\n",
       " 'What is the breakdown by program?',\n",
       " 'Has this changed over time?']"
      ]
     },
     "execution_count": 81,
     "metadata": {},
     "output_type": "execute_result"
    }
   ],
   "source": [
    "failed_questions"
   ]
  },
  {
   "cell_type": "code",
   "execution_count": null,
   "id": "1ac12654-0e24-4fdd-be56-25e08ac2f50b",
   "metadata": {},
   "outputs": [],
   "source": []
  }
 ],
 "metadata": {
  "environment": {
   "kernel": "python3",
   "name": "common-cpu.m117",
   "type": "gcloud",
   "uri": "us-docker.pkg.dev/deeplearning-platform-release/gcr.io/base-cpu:m117"
  },
  "kernelspec": {
   "display_name": "Python 3 (Local)",
   "language": "python",
   "name": "python3"
  },
  "language_info": {
   "codemirror_mode": {
    "name": "ipython",
    "version": 3
   },
   "file_extension": ".py",
   "mimetype": "text/x-python",
   "name": "python",
   "nbconvert_exporter": "python",
   "pygments_lexer": "ipython3",
   "version": "3.10.13"
  }
 },
 "nbformat": 4,
 "nbformat_minor": 5
}
